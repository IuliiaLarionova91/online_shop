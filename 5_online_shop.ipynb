{
 "cells": [
  {
   "cell_type": "markdown",
   "metadata": {},
   "source": [
    "# Интернет-магазине «Стримчик»"
   ]
  },
  {
   "cell_type": "markdown",
   "metadata": {},
   "source": [
    "Интернет-магазине «Стримчик» продаёт по всему миру компьютерные игры. Из открытых источников доступны исторические данные о продажах игр, оценки пользователей и экспертов, жанры и платформы (например, Xbox или PlayStation). Нам нужно выявить определяющие успешность игры закономерности. Это позволит сделать ставку на потенциально популярный продукт и спланировать рекламные кампании.\n",
    "\n",
    "Перед нами данные до 2016 года. Представим, что сейчас декабрь 2016 г., и мы планируем кампанию на 2017-й. Нужно отработать принцип работы с данными.\n",
    "\n",
    "В наборе данных попадается аббревиатура ESRB (Entertainment Software Rating Board) — это ассоциация, определяющая возрастной рейтинг компьютерных игр. ESRB оценивает игровой контент и присваивает ему подходящую возрастную категорию, например, «Для взрослых», «Для детей младшего возраста» или «Для подростков».\n",
    "\n",
    "\n",
    "**Задачи исследования:**\n",
    "\n",
    "* Посмотрим, сколько игр выпускалось в разные годы. \n",
    "* Посмотрим, как менялись продажи по платформам. Выберем платформы с наибольшими суммарными продажами и построем распределение по годам. Посмотрим за какой характерный срок появляются новые и исчезают старые платформы.\n",
    "* Возьмем данные за соответствующий актуальный период. Актуальный период определим самостоятельно в результате исследования предыдущих вопросов. Основной фактор — эти данные помогут построить прогноз на 2017 год.\n",
    "* Определим какие платформы лидируют по продажам,какие растут или падают. Выберем несколько потенциально прибыльных платформ.\n",
    "* Построем график «ящик с усами» по глобальным продажам игр в разбивке по платформам. Опишем результат.\n",
    "* Посмотрим, как влияют на продажи внутри одной популярной платформы отзывы пользователей и критиков. Постройте диаграмму рассеяния и посчитаем корреляцию между отзывами и продажами. Сформулируем выводы.\n",
    "* Соотнесем выводы с продажами игр на других платформах.\n",
    "* Посмотрим на общее распределение игр по жанрам, на самые прибыльные жанры, на то выделяются ли жанры с высокими и низкими продажами.\n",
    "* Составим портрет пользователя каждого региона\n",
    "* Определим для пользователя каждого региона (NA, EU, JP):\n",
    "    + Самые популярные платформы (топ-5). Опишем различия в долях продаж.\n",
    "    + Самые популярные жанры (топ-5). Поясним разницу.\n",
    "    + Определим влияет ли рейтинг ESRB на продажи в отдельном регионе.\n",
    "* Проверим гипотезы\n",
    "    - Средние пользовательские рейтинги платформ Xbox One и PC одинаковые;\n",
    "    - Средние пользовательские рейтинги жанров Action (англ. «действие», экшен-игры) и Sports (англ. «спортивные соревнования») разные.\n",
    "\n",
    "\n",
    "**Описание данных**\n",
    "\n",
    "* Name — название игры\n",
    "* Platform — платформа\n",
    "* Year_of_Release — год выпуска\n",
    "* Genre — жанр игры\n",
    "* NA_sales — продажи в Северной Америке (миллионы проданных копий)\n",
    "* EU_sales — продажи в Европе (миллионы проданных копий)\n",
    "* JP_sales — продажи в Японии (миллионы проданных копий)\n",
    "* Other_sales — продажи в других странах (миллионы проданных копий)\n",
    "* Critic_Score — оценка критиков (максимум 100)\n",
    "* User_Score — оценка пользователей (максимум 10)\n",
    "* Rating — рейтинг от организации ESRB (англ. Entertainment Software Rating Board). Эта ассоциация определяет рейтинг компьютерных игр и присваивает им подходящую возрастную категорию."
   ]
  },
  {
   "cell_type": "code",
   "execution_count": 1,
   "metadata": {},
   "outputs": [
    {
     "name": "stdout",
     "output_type": "stream",
     "text": [
      "Requirement already satisfied: missingno in e:\\apps\\anacondas\\lib\\site-packages (0.5.2)\n",
      "Requirement already satisfied: numpy in e:\\apps\\anacondas\\lib\\site-packages (from missingno) (1.21.5)\n",
      "Requirement already satisfied: matplotlib in e:\\apps\\anacondas\\lib\\site-packages (from missingno) (3.1.1)\n",
      "Requirement already satisfied: scipy in e:\\apps\\anacondas\\lib\\site-packages (from missingno) (1.7.3)\n",
      "Requirement already satisfied: seaborn in e:\\apps\\anacondas\\lib\\site-packages (from missingno) (0.9.0)\n",
      "Requirement already satisfied: cycler>=0.10 in e:\\apps\\anacondas\\lib\\site-packages (from matplotlib->missingno) (0.10.0)\n",
      "Requirement already satisfied: kiwisolver>=1.0.1 in e:\\apps\\anacondas\\lib\\site-packages (from matplotlib->missingno) (1.1.0)\n",
      "Requirement already satisfied: pyparsing!=2.0.4,!=2.1.2,!=2.1.6,>=2.0.1 in e:\\apps\\anacondas\\lib\\site-packages (from matplotlib->missingno) (2.4.2)\n",
      "Requirement already satisfied: python-dateutil>=2.1 in e:\\apps\\anacondas\\lib\\site-packages (from matplotlib->missingno) (2.8.2)\n",
      "Requirement already satisfied: pandas>=0.15.2 in e:\\apps\\anacondas\\lib\\site-packages (from seaborn->missingno) (1.3.5)\n",
      "Requirement already satisfied: six in e:\\apps\\anacondas\\lib\\site-packages (from cycler>=0.10->matplotlib->missingno) (1.16.0)\n",
      "Requirement already satisfied: setuptools in e:\\apps\\anacondas\\lib\\site-packages (from kiwisolver>=1.0.1->matplotlib->missingno) (41.4.0)\n",
      "Requirement already satisfied: pytz>=2017.3 in e:\\apps\\anacondas\\lib\\site-packages (from pandas>=0.15.2->seaborn->missingno) (2019.3)\n",
      "Note: you may need to restart the kernel to use updated packages.\n"
     ]
    },
    {
     "name": "stderr",
     "output_type": "stream",
     "text": [
      "WARNING: Ignoring invalid distribution -cipy (e:\\apps\\anacondas\\lib\\site-packages)\n",
      "WARNING: Ignoring invalid distribution -ip (e:\\apps\\anacondas\\lib\\site-packages)\n",
      "WARNING: Ignoring invalid distribution -umpy (e:\\apps\\anacondas\\lib\\site-packages)\n",
      "WARNING: Ignoring invalid distribution -cipy (e:\\apps\\anacondas\\lib\\site-packages)\n",
      "WARNING: Ignoring invalid distribution -ip (e:\\apps\\anacondas\\lib\\site-packages)\n",
      "WARNING: Ignoring invalid distribution -umpy (e:\\apps\\anacondas\\lib\\site-packages)\n",
      "WARNING: Ignoring invalid distribution -cipy (e:\\apps\\anacondas\\lib\\site-packages)\n",
      "WARNING: Ignoring invalid distribution -ip (e:\\apps\\anacondas\\lib\\site-packages)\n",
      "WARNING: Ignoring invalid distribution -umpy (e:\\apps\\anacondas\\lib\\site-packages)\n",
      "WARNING: Ignoring invalid distribution -cipy (e:\\apps\\anacondas\\lib\\site-packages)\n",
      "WARNING: Ignoring invalid distribution -ip (e:\\apps\\anacondas\\lib\\site-packages)\n",
      "WARNING: Ignoring invalid distribution -umpy (e:\\apps\\anacondas\\lib\\site-packages)\n"
     ]
    }
   ],
   "source": [
    "pip install missingno"
   ]
  },
  {
   "cell_type": "code",
   "execution_count": 2,
   "metadata": {},
   "outputs": [
    {
     "name": "stderr",
     "output_type": "stream",
     "text": [
      "E:\\Apps\\anacondas\\lib\\site-packages\\statsmodels\\tools\\_testing.py:19: FutureWarning: pandas.util.testing is deprecated. Use the functions in the public API at pandas.testing instead.\n",
      "  import pandas.util.testing as tm\n"
     ]
    }
   ],
   "source": [
    "import pandas as pd\n",
    "import matplotlib.pyplot as plt\n",
    "import numpy as np\n",
    "import scipy.stats as st\n",
    "from scipy.stats import binom, poisson, norm\n",
    "from math import sqrt\n",
    "import missingno as msno\n",
    "import seaborn as sns\n"
   ]
  },
  {
   "cell_type": "markdown",
   "metadata": {},
   "source": [
    "## Шаг 1. Откроем файл с данными и изучим общую информацию.\n",
    "\n"
   ]
  },
  {
   "cell_type": "code",
   "execution_count": 3,
   "metadata": {},
   "outputs": [],
   "source": [
    "data = pd.read_csv('games.csv')\n"
   ]
  },
  {
   "cell_type": "code",
   "execution_count": 4,
   "metadata": {},
   "outputs": [
    {
     "data": {
      "text/html": [
       "<div>\n",
       "<style scoped>\n",
       "    .dataframe tbody tr th:only-of-type {\n",
       "        vertical-align: middle;\n",
       "    }\n",
       "\n",
       "    .dataframe tbody tr th {\n",
       "        vertical-align: top;\n",
       "    }\n",
       "\n",
       "    .dataframe thead th {\n",
       "        text-align: right;\n",
       "    }\n",
       "</style>\n",
       "<table border=\"1\" class=\"dataframe\">\n",
       "  <thead>\n",
       "    <tr style=\"text-align: right;\">\n",
       "      <th></th>\n",
       "      <th>Name</th>\n",
       "      <th>Platform</th>\n",
       "      <th>Year_of_Release</th>\n",
       "      <th>Genre</th>\n",
       "      <th>NA_sales</th>\n",
       "      <th>EU_sales</th>\n",
       "      <th>JP_sales</th>\n",
       "      <th>Other_sales</th>\n",
       "      <th>Critic_Score</th>\n",
       "      <th>User_Score</th>\n",
       "      <th>Rating</th>\n",
       "    </tr>\n",
       "  </thead>\n",
       "  <tbody>\n",
       "    <tr>\n",
       "      <th>0</th>\n",
       "      <td>Wii Sports</td>\n",
       "      <td>Wii</td>\n",
       "      <td>2006.0</td>\n",
       "      <td>Sports</td>\n",
       "      <td>41.36</td>\n",
       "      <td>28.96</td>\n",
       "      <td>3.77</td>\n",
       "      <td>8.45</td>\n",
       "      <td>76.0</td>\n",
       "      <td>8</td>\n",
       "      <td>E</td>\n",
       "    </tr>\n",
       "    <tr>\n",
       "      <th>1</th>\n",
       "      <td>Super Mario Bros.</td>\n",
       "      <td>NES</td>\n",
       "      <td>1985.0</td>\n",
       "      <td>Platform</td>\n",
       "      <td>29.08</td>\n",
       "      <td>3.58</td>\n",
       "      <td>6.81</td>\n",
       "      <td>0.77</td>\n",
       "      <td>NaN</td>\n",
       "      <td>NaN</td>\n",
       "      <td>NaN</td>\n",
       "    </tr>\n",
       "    <tr>\n",
       "      <th>2</th>\n",
       "      <td>Mario Kart Wii</td>\n",
       "      <td>Wii</td>\n",
       "      <td>2008.0</td>\n",
       "      <td>Racing</td>\n",
       "      <td>15.68</td>\n",
       "      <td>12.76</td>\n",
       "      <td>3.79</td>\n",
       "      <td>3.29</td>\n",
       "      <td>82.0</td>\n",
       "      <td>8.3</td>\n",
       "      <td>E</td>\n",
       "    </tr>\n",
       "    <tr>\n",
       "      <th>3</th>\n",
       "      <td>Wii Sports Resort</td>\n",
       "      <td>Wii</td>\n",
       "      <td>2009.0</td>\n",
       "      <td>Sports</td>\n",
       "      <td>15.61</td>\n",
       "      <td>10.93</td>\n",
       "      <td>3.28</td>\n",
       "      <td>2.95</td>\n",
       "      <td>80.0</td>\n",
       "      <td>8</td>\n",
       "      <td>E</td>\n",
       "    </tr>\n",
       "    <tr>\n",
       "      <th>4</th>\n",
       "      <td>Pokemon Red/Pokemon Blue</td>\n",
       "      <td>GB</td>\n",
       "      <td>1996.0</td>\n",
       "      <td>Role-Playing</td>\n",
       "      <td>11.27</td>\n",
       "      <td>8.89</td>\n",
       "      <td>10.22</td>\n",
       "      <td>1.00</td>\n",
       "      <td>NaN</td>\n",
       "      <td>NaN</td>\n",
       "      <td>NaN</td>\n",
       "    </tr>\n",
       "  </tbody>\n",
       "</table>\n",
       "</div>"
      ],
      "text/plain": [
       "                       Name Platform  Year_of_Release         Genre  NA_sales  \\\n",
       "0                Wii Sports      Wii           2006.0        Sports     41.36   \n",
       "1         Super Mario Bros.      NES           1985.0      Platform     29.08   \n",
       "2            Mario Kart Wii      Wii           2008.0        Racing     15.68   \n",
       "3         Wii Sports Resort      Wii           2009.0        Sports     15.61   \n",
       "4  Pokemon Red/Pokemon Blue       GB           1996.0  Role-Playing     11.27   \n",
       "\n",
       "   EU_sales  JP_sales  Other_sales  Critic_Score User_Score Rating  \n",
       "0     28.96      3.77         8.45          76.0          8      E  \n",
       "1      3.58      6.81         0.77           NaN        NaN    NaN  \n",
       "2     12.76      3.79         3.29          82.0        8.3      E  \n",
       "3     10.93      3.28         2.95          80.0          8      E  \n",
       "4      8.89     10.22         1.00           NaN        NaN    NaN  "
      ]
     },
     "execution_count": 4,
     "metadata": {},
     "output_type": "execute_result"
    }
   ],
   "source": [
    "data.head()"
   ]
  },
  {
   "cell_type": "code",
   "execution_count": 5,
   "metadata": {},
   "outputs": [
    {
     "name": "stdout",
     "output_type": "stream",
     "text": [
      "<class 'pandas.core.frame.DataFrame'>\n",
      "RangeIndex: 16715 entries, 0 to 16714\n",
      "Data columns (total 11 columns):\n",
      " #   Column           Non-Null Count  Dtype  \n",
      "---  ------           --------------  -----  \n",
      " 0   Name             16713 non-null  object \n",
      " 1   Platform         16715 non-null  object \n",
      " 2   Year_of_Release  16446 non-null  float64\n",
      " 3   Genre            16713 non-null  object \n",
      " 4   NA_sales         16715 non-null  float64\n",
      " 5   EU_sales         16715 non-null  float64\n",
      " 6   JP_sales         16715 non-null  float64\n",
      " 7   Other_sales      16715 non-null  float64\n",
      " 8   Critic_Score     8137 non-null   float64\n",
      " 9   User_Score       10014 non-null  object \n",
      " 10  Rating           9949 non-null   object \n",
      "dtypes: float64(6), object(5)\n",
      "memory usage: 1.4+ MB\n"
     ]
    }
   ],
   "source": [
    "data.info()"
   ]
  },
  {
   "cell_type": "markdown",
   "metadata": {},
   "source": [
    "Вывод: нам на аналитику даны 16 715 строк об играх.\n",
    "\n",
    "В каждой строке таблицы — данные об играх. Часть колонок описывает саму игру: тип платформы, жанр игры, название, год выпуска. Часть колонок о продажах в других странах: Северной Америке, Европе, Японии и остальных странах. Остальные данные рассказывают о рейтинге,оценках пользователей и критиков.\n",
    "\n",
    "Предварительно можно утверждать, что данных достаточно для проверки гипотез. Но встречаются пропуски в данных, а также бросается  в  глаза, что год выпуска указан не в целочисленных значениях, названия столбцов с разными регистрами, что возможно не будет входить в общую статистику по игре, из-за разного названия(обрауется 2 катерогии игры, одне без точки в конце, другая с точкой).\n",
    "\n",
    "Чтобы двигаться дальше, нужно устранить проблемы в данных."
   ]
  },
  {
   "cell_type": "markdown",
   "metadata": {},
   "source": [
    "## Шаг 2. Подготовим данные.\n",
    "\n",
    "### Заменим названия столбцов (приведем к нижнему регистру)."
   ]
  },
  {
   "cell_type": "markdown",
   "metadata": {},
   "source": [
    "Выведем на экран названия столбцов:"
   ]
  },
  {
   "cell_type": "code",
   "execution_count": 6,
   "metadata": {},
   "outputs": [
    {
     "data": {
      "text/plain": [
       "Index(['Name', 'Platform', 'Year_of_Release', 'Genre', 'NA_sales', 'EU_sales',\n",
       "       'JP_sales', 'Other_sales', 'Critic_Score', 'User_Score', 'Rating'],\n",
       "      dtype='object')"
      ]
     },
     "execution_count": 6,
     "metadata": {},
     "output_type": "execute_result"
    }
   ],
   "source": [
    "data.columns"
   ]
  },
  {
   "cell_type": "markdown",
   "metadata": {},
   "source": [
    "Переименнуем столбцы."
   ]
  },
  {
   "cell_type": "code",
   "execution_count": 7,
   "metadata": {
    "scrolled": true
   },
   "outputs": [
    {
     "data": {
      "text/plain": [
       "Index(['name', 'platform', 'year_of_release', 'genre', 'na_sales', 'eu_sales',\n",
       "       'jp_sales', 'other_sales', 'critic_score', 'user_score', 'rating'],\n",
       "      dtype='object')"
      ]
     },
     "execution_count": 7,
     "metadata": {},
     "output_type": "execute_result"
    }
   ],
   "source": [
    "data.columns = data.columns.str.lower()\n",
    "data.columns"
   ]
  },
  {
   "cell_type": "markdown",
   "metadata": {},
   "source": [
    "### Преобразуем данные в нужные типы."
   ]
  },
  {
   "cell_type": "code",
   "execution_count": 8,
   "metadata": {},
   "outputs": [
    {
     "name": "stdout",
     "output_type": "stream",
     "text": [
      "<class 'pandas.core.frame.DataFrame'>\n",
      "RangeIndex: 16715 entries, 0 to 16714\n",
      "Data columns (total 11 columns):\n",
      " #   Column           Non-Null Count  Dtype  \n",
      "---  ------           --------------  -----  \n",
      " 0   name             16713 non-null  object \n",
      " 1   platform         16715 non-null  object \n",
      " 2   year_of_release  16446 non-null  float64\n",
      " 3   genre            16713 non-null  object \n",
      " 4   na_sales         16715 non-null  float64\n",
      " 5   eu_sales         16715 non-null  float64\n",
      " 6   jp_sales         16715 non-null  float64\n",
      " 7   other_sales      16715 non-null  float64\n",
      " 8   critic_score     8137 non-null   float64\n",
      " 9   user_score       10014 non-null  object \n",
      " 10  rating           9949 non-null   object \n",
      "dtypes: float64(6), object(5)\n",
      "memory usage: 1.4+ MB\n"
     ]
    }
   ],
   "source": [
    "data.info()"
   ]
  },
  {
   "cell_type": "markdown",
   "metadata": {},
   "source": [
    "* 1   year_of_release(год выпуска) - float64 - переведем в целочисленный тип, так как года обычно целочисленно обозначаются,\n",
    "* 2   user_score(оценка пользователей) - object - переведем в числовой объект с плавающей точкой, так как можно будет больше операций делать.\n",
    "\n",
    "Все остальные категории подходящие."
   ]
  },
  {
   "cell_type": "code",
   "execution_count": 9,
   "metadata": {},
   "outputs": [
    {
     "name": "stdout",
     "output_type": "stream",
     "text": [
      "<class 'pandas.core.frame.DataFrame'>\n",
      "RangeIndex: 16715 entries, 0 to 16714\n",
      "Data columns (total 11 columns):\n",
      " #   Column           Non-Null Count  Dtype  \n",
      "---  ------           --------------  -----  \n",
      " 0   name             16713 non-null  object \n",
      " 1   platform         16715 non-null  object \n",
      " 2   year_of_release  16446 non-null  Int32  \n",
      " 3   genre            16713 non-null  object \n",
      " 4   na_sales         16715 non-null  float64\n",
      " 5   eu_sales         16715 non-null  float64\n",
      " 6   jp_sales         16715 non-null  float64\n",
      " 7   other_sales      16715 non-null  float64\n",
      " 8   critic_score     8137 non-null   float64\n",
      " 9   user_score       10014 non-null  object \n",
      " 10  rating           9949 non-null   object \n",
      "dtypes: Int32(1), float64(5), object(5)\n",
      "memory usage: 1.4+ MB\n"
     ]
    }
   ],
   "source": [
    "data = data.astype({'year_of_release': \"Int32\"})\n",
    "\n",
    "data.info()"
   ]
  },
  {
   "cell_type": "markdown",
   "metadata": {},
   "source": [
    "Проверим есть ли в user_score помимо цифр объекты."
   ]
  },
  {
   "cell_type": "code",
   "execution_count": 10,
   "metadata": {},
   "outputs": [
    {
     "data": {
      "text/plain": [
       "array(['8', nan, '8.3', '8.5', '6.6', '8.4', '8.6', '7.7', '6.3', '7.4',\n",
       "       '8.2', '9', '7.9', '8.1', '8.7', '7.1', '3.4', '5.3', '4.8', '3.2',\n",
       "       '8.9', '6.4', '7.8', '7.5', '2.6', '7.2', '9.2', '7', '7.3', '4.3',\n",
       "       '7.6', '5.7', '5', '9.1', '6.5', 'tbd', '8.8', '6.9', '9.4', '6.8',\n",
       "       '6.1', '6.7', '5.4', '4', '4.9', '4.5', '9.3', '6.2', '4.2', '6',\n",
       "       '3.7', '4.1', '5.8', '5.6', '5.5', '4.4', '4.6', '5.9', '3.9',\n",
       "       '3.1', '2.9', '5.2', '3.3', '4.7', '5.1', '3.5', '2.5', '1.9', '3',\n",
       "       '2.7', '2.2', '2', '9.5', '2.1', '3.6', '2.8', '1.8', '3.8', '0',\n",
       "       '1.6', '9.6', '2.4', '1.7', '1.1', '0.3', '1.5', '0.7', '1.2',\n",
       "       '2.3', '0.5', '1.3', '0.2', '0.6', '1.4', '0.9', '1', '9.7'],\n",
       "      dtype=object)"
      ]
     },
     "execution_count": 10,
     "metadata": {},
     "output_type": "execute_result"
    }
   ],
   "source": [
    "data['user_score'].unique()"
   ]
  },
  {
   "cell_type": "markdown",
   "metadata": {},
   "source": [
    "'tbd' обозначает \"to be determined\", что переводится как будет определен (в будущем). Значит можно заменить на Nan."
   ]
  },
  {
   "cell_type": "code",
   "execution_count": 11,
   "metadata": {
    "scrolled": true
   },
   "outputs": [
    {
     "data": {
      "text/plain": [
       "array(['8', nan, '8.3', '8.5', '6.6', '8.4', '8.6', '7.7', '6.3', '7.4',\n",
       "       '8.2', '9', '7.9', '8.1', '8.7', '7.1', '3.4', '5.3', '4.8', '3.2',\n",
       "       '8.9', '6.4', '7.8', '7.5', '2.6', '7.2', '9.2', '7', '7.3', '4.3',\n",
       "       '7.6', '5.7', '5', '9.1', '6.5', '8.8', '6.9', '9.4', '6.8', '6.1',\n",
       "       '6.7', '5.4', '4', '4.9', '4.5', '9.3', '6.2', '4.2', '6', '3.7',\n",
       "       '4.1', '5.8', '5.6', '5.5', '4.4', '4.6', '5.9', '3.9', '3.1',\n",
       "       '2.9', '5.2', '3.3', '4.7', '5.1', '3.5', '2.5', '1.9', '3', '2.7',\n",
       "       '2.2', '2', '9.5', '2.1', '3.6', '2.8', '1.8', '3.8', '0', '1.6',\n",
       "       '9.6', '2.4', '1.7', '1.1', '0.3', '1.5', '0.7', '1.2', '2.3',\n",
       "       '0.5', '1.3', '0.2', '0.6', '1.4', '0.9', '1', '9.7'], dtype=object)"
      ]
     },
     "execution_count": 11,
     "metadata": {},
     "output_type": "execute_result"
    }
   ],
   "source": [
    "data['user_score'] = data['user_score'].replace('tbd', np.nan)\n",
    "data['user_score'].unique()"
   ]
  },
  {
   "cell_type": "markdown",
   "metadata": {},
   "source": [
    "Теперь мы сможем перевсти в формат float64, так как в столбце остались только численные значения. "
   ]
  },
  {
   "cell_type": "code",
   "execution_count": 12,
   "metadata": {},
   "outputs": [
    {
     "name": "stdout",
     "output_type": "stream",
     "text": [
      "<class 'pandas.core.frame.DataFrame'>\n",
      "RangeIndex: 16715 entries, 0 to 16714\n",
      "Data columns (total 11 columns):\n",
      " #   Column           Non-Null Count  Dtype  \n",
      "---  ------           --------------  -----  \n",
      " 0   name             16713 non-null  object \n",
      " 1   platform         16715 non-null  object \n",
      " 2   year_of_release  16446 non-null  Int32  \n",
      " 3   genre            16713 non-null  object \n",
      " 4   na_sales         16715 non-null  float64\n",
      " 5   eu_sales         16715 non-null  float64\n",
      " 6   jp_sales         16715 non-null  float64\n",
      " 7   other_sales      16715 non-null  float64\n",
      " 8   critic_score     8137 non-null   float64\n",
      " 9   user_score       7590 non-null   float64\n",
      " 10  rating           9949 non-null   object \n",
      "dtypes: Int32(1), float64(6), object(4)\n",
      "memory usage: 1.4+ MB\n"
     ]
    }
   ],
   "source": [
    "data = data.astype({'user_score': \"float64\"})\n",
    "\n",
    "data.info()"
   ]
  },
  {
   "cell_type": "markdown",
   "metadata": {},
   "source": [
    "### Обработаем пропуски при необходимости."
   ]
  },
  {
   "cell_type": "markdown",
   "metadata": {},
   "source": [
    "Посчитаем, сколько в таблице пропущенных значений."
   ]
  },
  {
   "cell_type": "code",
   "execution_count": 13,
   "metadata": {},
   "outputs": [
    {
     "data": {
      "text/plain": [
       "name                  2\n",
       "platform              0\n",
       "year_of_release     269\n",
       "genre                 2\n",
       "na_sales              0\n",
       "eu_sales              0\n",
       "jp_sales              0\n",
       "other_sales           0\n",
       "critic_score       8578\n",
       "user_score         9125\n",
       "rating             6766\n",
       "dtype: int64"
      ]
     },
     "execution_count": 13,
     "metadata": {},
     "output_type": "execute_result"
    }
   ],
   "source": [
    "data.isna().sum()"
   ]
  },
  {
   "cell_type": "code",
   "execution_count": 14,
   "metadata": {},
   "outputs": [],
   "source": [
    "sns.set()"
   ]
  },
  {
   "cell_type": "code",
   "execution_count": 15,
   "metadata": {},
   "outputs": [
    {
     "data": {
      "image/png": "[encoded data removed]",
      "text/plain": [
       "<Figure size 1800x720 with 3 Axes>"
      ]
     },
     "metadata": {},
     "output_type": "display_data"
    }
   ],
   "source": [
    "msno.bar(data);"
   ]
  },
  {
   "cell_type": "code",
   "execution_count": 16,
   "metadata": {},
   "outputs": [
    {
     "data": {
      "image/png": "[encoded data removed]",
      "text/plain": [
       "<Figure size 1800x720 with 2 Axes>"
      ]
     },
     "metadata": {},
     "output_type": "display_data"
    }
   ],
   "source": [
    "msno.matrix(data);"
   ]
  },
  {
   "cell_type": "code",
   "execution_count": 17,
   "metadata": {},
   "outputs": [
    {
     "data": {
      "text/plain": [
       "40.83757104397248"
      ]
     },
     "execution_count": 17,
     "metadata": {},
     "output_type": "execute_result"
    }
   ],
   "source": [
    "len(data.dropna())/len(data)*100"
   ]
  },
  {
   "cell_type": "markdown",
   "metadata": {},
   "source": [
    "Строки с пустыми значениями 40% от всей таблицы, а удалить можно максимум 5%, поэтому все сразу нельзя удалять строки с пустыми значениями.\n",
    "\n",
    "Закономерностей каких-либо в пропусках нет.\n",
    "\n",
    "name(назвние игры) - 2, year_of_release(год выпуска) - 269, genre(жанр) - 2 -  очень мало значений, можно удалить, если в сумме будет удалений меньше 5 % от всей таблицы,\n",
    "\n",
    "critic_score(оценка критиков) - 8578, user_score(оценка пользователей) - 9125, rating(рейтинг) - 6766 - заменим средним значением."
   ]
  },
  {
   "cell_type": "code",
   "execution_count": 18,
   "metadata": {},
   "outputs": [
    {
     "data": {
      "text/plain": [
       "1.6332635357463356"
      ]
     },
     "execution_count": 18,
     "metadata": {},
     "output_type": "execute_result"
    }
   ],
   "source": [
    "((data['name'].isna().sum() + data['year_of_release'].isna().sum() + data['genre'].isna().sum())/len(data))*100\n"
   ]
  },
  {
   "cell_type": "markdown",
   "metadata": {},
   "source": [
    "Можно удалить 1,6 процент данных, так как это меньше 5%."
   ]
  },
  {
   "cell_type": "code",
   "execution_count": 19,
   "metadata": {},
   "outputs": [
    {
     "data": {
      "text/plain": [
       "name                  0\n",
       "platform              0\n",
       "year_of_release       0\n",
       "genre                 0\n",
       "na_sales              0\n",
       "eu_sales              0\n",
       "jp_sales              0\n",
       "other_sales           0\n",
       "critic_score       8461\n",
       "user_score         8981\n",
       "rating             6676\n",
       "dtype: int64"
      ]
     },
     "execution_count": 19,
     "metadata": {},
     "output_type": "execute_result"
    }
   ],
   "source": [
    "data = data.dropna(subset=['name', 'year_of_release', 'genre'])\n",
    "\n",
    "data.isna().sum()"
   ]
  },
  {
   "cell_type": "markdown",
   "metadata": {},
   "source": [
    "Остальные ячейки я оставлю с пропусками,чтобы они не повлияли на статистику(чтобы на графиках не было выбросов)."
   ]
  },
  {
   "cell_type": "markdown",
   "metadata": {},
   "source": [
    "Проверим на дубликаты."
   ]
  },
  {
   "cell_type": "code",
   "execution_count": 20,
   "metadata": {},
   "outputs": [
    {
     "data": {
      "text/plain": [
       "0"
      ]
     },
     "execution_count": 20,
     "metadata": {},
     "output_type": "execute_result"
    }
   ],
   "source": [
    "data.duplicated().sum()"
   ]
  },
  {
   "cell_type": "markdown",
   "metadata": {},
   "source": [
    "Явных дубликатов нет. Проверим на неявные дубликаты, совпадающие по названию, платформе и году релиза одновременно."
   ]
  },
  {
   "cell_type": "code",
   "execution_count": 21,
   "metadata": {},
   "outputs": [
    {
     "data": {
      "text/plain": [
       "1"
      ]
     },
     "execution_count": 21,
     "metadata": {},
     "output_type": "execute_result"
    }
   ],
   "source": [
    "data[['name', 'year_of_release', 'platform']].duplicated().sum()"
   ]
  },
  {
   "cell_type": "code",
   "execution_count": 22,
   "metadata": {
    "scrolled": true
   },
   "outputs": [
    {
     "data": {
      "text/html": [
       "<div>\n",
       "<style scoped>\n",
       "    .dataframe tbody tr th:only-of-type {\n",
       "        vertical-align: middle;\n",
       "    }\n",
       "\n",
       "    .dataframe tbody tr th {\n",
       "        vertical-align: top;\n",
       "    }\n",
       "\n",
       "    .dataframe thead th {\n",
       "        text-align: right;\n",
       "    }\n",
       "</style>\n",
       "<table border=\"1\" class=\"dataframe\">\n",
       "  <thead>\n",
       "    <tr style=\"text-align: right;\">\n",
       "      <th></th>\n",
       "      <th>name</th>\n",
       "      <th>platform</th>\n",
       "      <th>year_of_release</th>\n",
       "      <th>genre</th>\n",
       "      <th>na_sales</th>\n",
       "      <th>eu_sales</th>\n",
       "      <th>jp_sales</th>\n",
       "      <th>other_sales</th>\n",
       "      <th>critic_score</th>\n",
       "      <th>user_score</th>\n",
       "      <th>rating</th>\n",
       "    </tr>\n",
       "  </thead>\n",
       "  <tbody>\n",
       "    <tr>\n",
       "      <th>16230</th>\n",
       "      <td>Madden NFL 13</td>\n",
       "      <td>PS3</td>\n",
       "      <td>2012</td>\n",
       "      <td>Sports</td>\n",
       "      <td>0.0</td>\n",
       "      <td>0.01</td>\n",
       "      <td>0.0</td>\n",
       "      <td>0.0</td>\n",
       "      <td>83.0</td>\n",
       "      <td>5.5</td>\n",
       "      <td>E</td>\n",
       "    </tr>\n",
       "  </tbody>\n",
       "</table>\n",
       "</div>"
      ],
      "text/plain": [
       "                name platform  year_of_release   genre  na_sales  eu_sales  \\\n",
       "16230  Madden NFL 13      PS3             2012  Sports       0.0      0.01   \n",
       "\n",
       "       jp_sales  other_sales  critic_score  user_score rating  \n",
       "16230       0.0          0.0          83.0         5.5      E  "
      ]
     },
     "execution_count": 22,
     "metadata": {},
     "output_type": "execute_result"
    }
   ],
   "source": [
    "data[data[['name', 'year_of_release', 'platform']].duplicated()==True]"
   ]
  },
  {
   "cell_type": "code",
   "execution_count": 23,
   "metadata": {},
   "outputs": [
    {
     "data": {
      "text/html": [
       "<div>\n",
       "<style scoped>\n",
       "    .dataframe tbody tr th:only-of-type {\n",
       "        vertical-align: middle;\n",
       "    }\n",
       "\n",
       "    .dataframe tbody tr th {\n",
       "        vertical-align: top;\n",
       "    }\n",
       "\n",
       "    .dataframe thead th {\n",
       "        text-align: right;\n",
       "    }\n",
       "</style>\n",
       "<table border=\"1\" class=\"dataframe\">\n",
       "  <thead>\n",
       "    <tr style=\"text-align: right;\">\n",
       "      <th></th>\n",
       "      <th>name</th>\n",
       "      <th>platform</th>\n",
       "      <th>year_of_release</th>\n",
       "      <th>genre</th>\n",
       "      <th>na_sales</th>\n",
       "      <th>eu_sales</th>\n",
       "      <th>jp_sales</th>\n",
       "      <th>other_sales</th>\n",
       "      <th>critic_score</th>\n",
       "      <th>user_score</th>\n",
       "      <th>rating</th>\n",
       "    </tr>\n",
       "  </thead>\n",
       "  <tbody>\n",
       "    <tr>\n",
       "      <th>604</th>\n",
       "      <td>Madden NFL 13</td>\n",
       "      <td>PS3</td>\n",
       "      <td>2012</td>\n",
       "      <td>Sports</td>\n",
       "      <td>2.11</td>\n",
       "      <td>0.22</td>\n",
       "      <td>0.0</td>\n",
       "      <td>0.23</td>\n",
       "      <td>83.0</td>\n",
       "      <td>5.5</td>\n",
       "      <td>E</td>\n",
       "    </tr>\n",
       "    <tr>\n",
       "      <th>16230</th>\n",
       "      <td>Madden NFL 13</td>\n",
       "      <td>PS3</td>\n",
       "      <td>2012</td>\n",
       "      <td>Sports</td>\n",
       "      <td>0.00</td>\n",
       "      <td>0.01</td>\n",
       "      <td>0.0</td>\n",
       "      <td>0.00</td>\n",
       "      <td>83.0</td>\n",
       "      <td>5.5</td>\n",
       "      <td>E</td>\n",
       "    </tr>\n",
       "  </tbody>\n",
       "</table>\n",
       "</div>"
      ],
      "text/plain": [
       "                name platform  year_of_release   genre  na_sales  eu_sales  \\\n",
       "604    Madden NFL 13      PS3             2012  Sports      2.11      0.22   \n",
       "16230  Madden NFL 13      PS3             2012  Sports      0.00      0.01   \n",
       "\n",
       "       jp_sales  other_sales  critic_score  user_score rating  \n",
       "604         0.0         0.23          83.0         5.5      E  \n",
       "16230       0.0         0.00          83.0         5.5      E  "
      ]
     },
     "execution_count": 23,
     "metadata": {},
     "output_type": "execute_result"
    }
   ],
   "source": [
    "data[(data['name']=='Madden NFL 13') & (data['year_of_release']==2012) & (data['platform']=='PS3')]"
   ]
  },
  {
   "cell_type": "markdown",
   "metadata": {},
   "source": [
    "Удалим строку 16230, где меньше всего данных о продажах."
   ]
  },
  {
   "cell_type": "code",
   "execution_count": 24,
   "metadata": {
    "scrolled": true
   },
   "outputs": [
    {
     "data": {
      "text/html": [
       "<div>\n",
       "<style scoped>\n",
       "    .dataframe tbody tr th:only-of-type {\n",
       "        vertical-align: middle;\n",
       "    }\n",
       "\n",
       "    .dataframe tbody tr th {\n",
       "        vertical-align: top;\n",
       "    }\n",
       "\n",
       "    .dataframe thead th {\n",
       "        text-align: right;\n",
       "    }\n",
       "</style>\n",
       "<table border=\"1\" class=\"dataframe\">\n",
       "  <thead>\n",
       "    <tr style=\"text-align: right;\">\n",
       "      <th></th>\n",
       "      <th>name</th>\n",
       "      <th>platform</th>\n",
       "      <th>year_of_release</th>\n",
       "      <th>genre</th>\n",
       "      <th>na_sales</th>\n",
       "      <th>eu_sales</th>\n",
       "      <th>jp_sales</th>\n",
       "      <th>other_sales</th>\n",
       "      <th>critic_score</th>\n",
       "      <th>user_score</th>\n",
       "      <th>rating</th>\n",
       "    </tr>\n",
       "  </thead>\n",
       "  <tbody>\n",
       "    <tr>\n",
       "      <th>604</th>\n",
       "      <td>Madden NFL 13</td>\n",
       "      <td>PS3</td>\n",
       "      <td>2012</td>\n",
       "      <td>Sports</td>\n",
       "      <td>2.11</td>\n",
       "      <td>0.22</td>\n",
       "      <td>0.0</td>\n",
       "      <td>0.23</td>\n",
       "      <td>83.0</td>\n",
       "      <td>5.5</td>\n",
       "      <td>E</td>\n",
       "    </tr>\n",
       "  </tbody>\n",
       "</table>\n",
       "</div>"
      ],
      "text/plain": [
       "              name platform  year_of_release   genre  na_sales  eu_sales  \\\n",
       "604  Madden NFL 13      PS3             2012  Sports      2.11      0.22   \n",
       "\n",
       "     jp_sales  other_sales  critic_score  user_score rating  \n",
       "604       0.0         0.23          83.0         5.5      E  "
      ]
     },
     "execution_count": 24,
     "metadata": {},
     "output_type": "execute_result"
    }
   ],
   "source": [
    "data = data.drop(labels = [16230],axis = 0)\n",
    "\n",
    "data[(data['name']=='Madden NFL 13') & (data['year_of_release']==2012) & (data['platform']=='PS3')]"
   ]
  },
  {
   "cell_type": "code",
   "execution_count": 25,
   "metadata": {},
   "outputs": [
    {
     "data": {
      "text/plain": [
       "0"
      ]
     },
     "execution_count": 25,
     "metadata": {},
     "output_type": "execute_result"
    }
   ],
   "source": [
    "data[['name', 'year_of_release', 'platform']].duplicated().sum()"
   ]
  },
  {
   "cell_type": "markdown",
   "metadata": {},
   "source": [
    "Неявный дубликат удалили."
   ]
  },
  {
   "cell_type": "markdown",
   "metadata": {},
   "source": [
    "### Посчитаем суммарные продажи во всех регионах и запишем их в отдельный столбец."
   ]
  },
  {
   "cell_type": "code",
   "execution_count": 26,
   "metadata": {},
   "outputs": [
    {
     "data": {
      "text/html": [
       "<div>\n",
       "<style scoped>\n",
       "    .dataframe tbody tr th:only-of-type {\n",
       "        vertical-align: middle;\n",
       "    }\n",
       "\n",
       "    .dataframe tbody tr th {\n",
       "        vertical-align: top;\n",
       "    }\n",
       "\n",
       "    .dataframe thead th {\n",
       "        text-align: right;\n",
       "    }\n",
       "</style>\n",
       "<table border=\"1\" class=\"dataframe\">\n",
       "  <thead>\n",
       "    <tr style=\"text-align: right;\">\n",
       "      <th></th>\n",
       "      <th>name</th>\n",
       "      <th>platform</th>\n",
       "      <th>year_of_release</th>\n",
       "      <th>genre</th>\n",
       "      <th>na_sales</th>\n",
       "      <th>eu_sales</th>\n",
       "      <th>jp_sales</th>\n",
       "      <th>other_sales</th>\n",
       "      <th>critic_score</th>\n",
       "      <th>user_score</th>\n",
       "      <th>rating</th>\n",
       "      <th>sales_regions</th>\n",
       "    </tr>\n",
       "  </thead>\n",
       "  <tbody>\n",
       "    <tr>\n",
       "      <th>0</th>\n",
       "      <td>Wii Sports</td>\n",
       "      <td>Wii</td>\n",
       "      <td>2006</td>\n",
       "      <td>Sports</td>\n",
       "      <td>41.36</td>\n",
       "      <td>28.96</td>\n",
       "      <td>3.77</td>\n",
       "      <td>8.45</td>\n",
       "      <td>76.0</td>\n",
       "      <td>8.0</td>\n",
       "      <td>E</td>\n",
       "      <td>82.54</td>\n",
       "    </tr>\n",
       "    <tr>\n",
       "      <th>1</th>\n",
       "      <td>Super Mario Bros.</td>\n",
       "      <td>NES</td>\n",
       "      <td>1985</td>\n",
       "      <td>Platform</td>\n",
       "      <td>29.08</td>\n",
       "      <td>3.58</td>\n",
       "      <td>6.81</td>\n",
       "      <td>0.77</td>\n",
       "      <td>NaN</td>\n",
       "      <td>NaN</td>\n",
       "      <td>NaN</td>\n",
       "      <td>40.24</td>\n",
       "    </tr>\n",
       "    <tr>\n",
       "      <th>2</th>\n",
       "      <td>Mario Kart Wii</td>\n",
       "      <td>Wii</td>\n",
       "      <td>2008</td>\n",
       "      <td>Racing</td>\n",
       "      <td>15.68</td>\n",
       "      <td>12.76</td>\n",
       "      <td>3.79</td>\n",
       "      <td>3.29</td>\n",
       "      <td>82.0</td>\n",
       "      <td>8.3</td>\n",
       "      <td>E</td>\n",
       "      <td>35.52</td>\n",
       "    </tr>\n",
       "    <tr>\n",
       "      <th>3</th>\n",
       "      <td>Wii Sports Resort</td>\n",
       "      <td>Wii</td>\n",
       "      <td>2009</td>\n",
       "      <td>Sports</td>\n",
       "      <td>15.61</td>\n",
       "      <td>10.93</td>\n",
       "      <td>3.28</td>\n",
       "      <td>2.95</td>\n",
       "      <td>80.0</td>\n",
       "      <td>8.0</td>\n",
       "      <td>E</td>\n",
       "      <td>32.77</td>\n",
       "    </tr>\n",
       "    <tr>\n",
       "      <th>4</th>\n",
       "      <td>Pokemon Red/Pokemon Blue</td>\n",
       "      <td>GB</td>\n",
       "      <td>1996</td>\n",
       "      <td>Role-Playing</td>\n",
       "      <td>11.27</td>\n",
       "      <td>8.89</td>\n",
       "      <td>10.22</td>\n",
       "      <td>1.00</td>\n",
       "      <td>NaN</td>\n",
       "      <td>NaN</td>\n",
       "      <td>NaN</td>\n",
       "      <td>31.38</td>\n",
       "    </tr>\n",
       "  </tbody>\n",
       "</table>\n",
       "</div>"
      ],
      "text/plain": [
       "                       name platform  year_of_release         genre  na_sales  \\\n",
       "0                Wii Sports      Wii             2006        Sports     41.36   \n",
       "1         Super Mario Bros.      NES             1985      Platform     29.08   \n",
       "2            Mario Kart Wii      Wii             2008        Racing     15.68   \n",
       "3         Wii Sports Resort      Wii             2009        Sports     15.61   \n",
       "4  Pokemon Red/Pokemon Blue       GB             1996  Role-Playing     11.27   \n",
       "\n",
       "   eu_sales  jp_sales  other_sales  critic_score  user_score rating  \\\n",
       "0     28.96      3.77         8.45          76.0         8.0      E   \n",
       "1      3.58      6.81         0.77           NaN         NaN    NaN   \n",
       "2     12.76      3.79         3.29          82.0         8.3      E   \n",
       "3     10.93      3.28         2.95          80.0         8.0      E   \n",
       "4      8.89     10.22         1.00           NaN         NaN    NaN   \n",
       "\n",
       "   sales_regions  \n",
       "0          82.54  \n",
       "1          40.24  \n",
       "2          35.52  \n",
       "3          32.77  \n",
       "4          31.38  "
      ]
     },
     "execution_count": 26,
     "metadata": {},
     "output_type": "execute_result"
    }
   ],
   "source": [
    "data['sales_regions'] = data[['na_sales', 'eu_sales', 'jp_sales', 'other_sales']].sum(axis=1)\n",
    "data.head()"
   ]
  },
  {
   "cell_type": "markdown",
   "metadata": {},
   "source": [
    "Вывод.\n",
    "\n",
    "Мы удалили данные в столбцах name, year_of_release, genre с пропусками меньше 2%. Остальные пропуски в столбцах critic_score, user_score, rating решили оставить, чтобы они не влияли на графики распределений, и не было никаких выбросов.Добавили столбец с общей суммой продаж -sales_regions.\n",
    "\n",
    "Пропусков в name, year_of_release, genre мало, поэтому они могли произойти по невнимательности, что их забыли заполнить.\n",
    "\n",
    "Пропуски в critic_score, user_score, rating скорей всего не заполняли специально, например люди не хотели ставить оценку, либо игра была не популярной поэтому оценки не собрались, либо игра была старой, и она вупускалась в то время, когда не ставили оценки играм.\n",
    "\n",
    "Явных дубликатов нет.Удалили один неявный дубликат.\n",
    "\n",
    "year_of_release(год выпуска) перевели в целочисленный тип, user_score(оценка пользователей) - object - перевели в числовой объект с плавающей точкой."
   ]
  },
  {
   "cell_type": "markdown",
   "metadata": {},
   "source": [
    "## Шаг 3. Проведите исследовательский анализ данных.\n",
    "\n",
    "### Посмотрим, сколько игр выпускалось в разные годы."
   ]
  },
  {
   "cell_type": "code",
   "execution_count": 27,
   "metadata": {},
   "outputs": [
    {
     "data": {
      "image/png": "[encoded data removed]",
      "text/plain": [
       "<Figure size 432x288 with 1 Axes>"
      ]
     },
     "metadata": {},
     "output_type": "display_data"
    }
   ],
   "source": [
    "# Creating histogram \n",
    "fig, ax = plt.subplots(1, 1) \n",
    "ax.hist(data['year_of_release'], bins=37) \n",
    "\n",
    "# Set title \n",
    "ax.set_title('Cколько игр выпускалось в разные годы') \n",
    "\n",
    "# adding labels \n",
    "ax.set_xlabel('Года') \n",
    "ax.set_ylabel('Количество игр') \n",
    "\n",
    "\n",
    "plt.show() \n"
   ]
  },
  {
   "cell_type": "markdown",
   "metadata": {},
   "source": [
    "Больше всего игра выпускалось в 2007,2008 годах, Далее количество игр пошло на спад."
   ]
  },
  {
   "cell_type": "code",
   "execution_count": 28,
   "metadata": {},
   "outputs": [
    {
     "data": {
      "image/png": "[encoded data removed]",
      "text/plain": [
       "<Figure size 432x288 with 1 Axes>"
      ]
     },
     "metadata": {},
     "output_type": "display_data"
    }
   ],
   "source": [
    "# Creating histogram \n",
    "fig, ax = plt.subplots(1, 1) \n",
    "ax.hist(data['year_of_release'], bins=37, range=(1980,1990)) \n",
    "\n",
    "# Set title \n",
    "ax.set_title('Cколько игр выпускалось в разные годы') \n",
    "\n",
    "# adding labels \n",
    "ax.set_xlabel('Года') \n",
    "ax.set_ylabel('Количество игр') \n",
    "    \n",
    "plt.show() "
   ]
  },
  {
   "cell_type": "markdown",
   "metadata": {},
   "source": [
    "Меньше всего игр в 1980, 1983, 1984, 1985, 1987, 1988."
   ]
  },
  {
   "cell_type": "markdown",
   "metadata": {},
   "source": [
    "### Посмотрим, как менялись продажи по платформам. Выберем платформы с наибольшими суммарными продажами и построем распределение по годам. Определим за какой характерный срок появляются новые и исчезают старые платформы."
   ]
  },
  {
   "cell_type": "code",
   "execution_count": 29,
   "metadata": {},
   "outputs": [
    {
     "data": {
      "text/html": [
       "<div>\n",
       "<style scoped>\n",
       "    .dataframe tbody tr th:only-of-type {\n",
       "        vertical-align: middle;\n",
       "    }\n",
       "\n",
       "    .dataframe tbody tr th {\n",
       "        vertical-align: top;\n",
       "    }\n",
       "\n",
       "    .dataframe thead th {\n",
       "        text-align: right;\n",
       "    }\n",
       "</style>\n",
       "<table border=\"1\" class=\"dataframe\">\n",
       "  <thead>\n",
       "    <tr style=\"text-align: right;\">\n",
       "      <th></th>\n",
       "      <th>sales_regions</th>\n",
       "    </tr>\n",
       "    <tr>\n",
       "      <th>platform</th>\n",
       "      <th></th>\n",
       "    </tr>\n",
       "  </thead>\n",
       "  <tbody>\n",
       "    <tr>\n",
       "      <th>PS2</th>\n",
       "      <td>1233.56</td>\n",
       "    </tr>\n",
       "    <tr>\n",
       "      <th>X360</th>\n",
       "      <td>961.24</td>\n",
       "    </tr>\n",
       "    <tr>\n",
       "      <th>PS3</th>\n",
       "      <td>931.33</td>\n",
       "    </tr>\n",
       "    <tr>\n",
       "      <th>Wii</th>\n",
       "      <td>891.18</td>\n",
       "    </tr>\n",
       "    <tr>\n",
       "      <th>DS</th>\n",
       "      <td>802.78</td>\n",
       "    </tr>\n",
       "    <tr>\n",
       "      <th>PS</th>\n",
       "      <td>727.58</td>\n",
       "    </tr>\n",
       "    <tr>\n",
       "      <th>PS4</th>\n",
       "      <td>314.14</td>\n",
       "    </tr>\n",
       "    <tr>\n",
       "      <th>GBA</th>\n",
       "      <td>312.88</td>\n",
       "    </tr>\n",
       "    <tr>\n",
       "      <th>PSP</th>\n",
       "      <td>289.53</td>\n",
       "    </tr>\n",
       "    <tr>\n",
       "      <th>3DS</th>\n",
       "      <td>257.81</td>\n",
       "    </tr>\n",
       "    <tr>\n",
       "      <th>PC</th>\n",
       "      <td>255.76</td>\n",
       "    </tr>\n",
       "    <tr>\n",
       "      <th>GB</th>\n",
       "      <td>254.43</td>\n",
       "    </tr>\n",
       "    <tr>\n",
       "      <th>XB</th>\n",
       "      <td>251.57</td>\n",
       "    </tr>\n",
       "    <tr>\n",
       "      <th>NES</th>\n",
       "      <td>251.05</td>\n",
       "    </tr>\n",
       "    <tr>\n",
       "      <th>N64</th>\n",
       "      <td>218.01</td>\n",
       "    </tr>\n",
       "    <tr>\n",
       "      <th>SNES</th>\n",
       "      <td>200.04</td>\n",
       "    </tr>\n",
       "    <tr>\n",
       "      <th>GC</th>\n",
       "      <td>196.73</td>\n",
       "    </tr>\n",
       "    <tr>\n",
       "      <th>XOne</th>\n",
       "      <td>159.32</td>\n",
       "    </tr>\n",
       "    <tr>\n",
       "      <th>2600</th>\n",
       "      <td>86.48</td>\n",
       "    </tr>\n",
       "    <tr>\n",
       "      <th>WiiU</th>\n",
       "      <td>82.19</td>\n",
       "    </tr>\n",
       "    <tr>\n",
       "      <th>PSV</th>\n",
       "      <td>53.81</td>\n",
       "    </tr>\n",
       "    <tr>\n",
       "      <th>SAT</th>\n",
       "      <td>33.59</td>\n",
       "    </tr>\n",
       "    <tr>\n",
       "      <th>GEN</th>\n",
       "      <td>28.35</td>\n",
       "    </tr>\n",
       "    <tr>\n",
       "      <th>DC</th>\n",
       "      <td>15.95</td>\n",
       "    </tr>\n",
       "    <tr>\n",
       "      <th>SCD</th>\n",
       "      <td>1.86</td>\n",
       "    </tr>\n",
       "    <tr>\n",
       "      <th>NG</th>\n",
       "      <td>1.44</td>\n",
       "    </tr>\n",
       "    <tr>\n",
       "      <th>WS</th>\n",
       "      <td>1.42</td>\n",
       "    </tr>\n",
       "    <tr>\n",
       "      <th>TG16</th>\n",
       "      <td>0.16</td>\n",
       "    </tr>\n",
       "    <tr>\n",
       "      <th>3DO</th>\n",
       "      <td>0.10</td>\n",
       "    </tr>\n",
       "    <tr>\n",
       "      <th>GG</th>\n",
       "      <td>0.04</td>\n",
       "    </tr>\n",
       "    <tr>\n",
       "      <th>PCFX</th>\n",
       "      <td>0.03</td>\n",
       "    </tr>\n",
       "  </tbody>\n",
       "</table>\n",
       "</div>"
      ],
      "text/plain": [
       "          sales_regions\n",
       "platform               \n",
       "PS2             1233.56\n",
       "X360             961.24\n",
       "PS3              931.33\n",
       "Wii              891.18\n",
       "DS               802.78\n",
       "PS               727.58\n",
       "PS4              314.14\n",
       "GBA              312.88\n",
       "PSP              289.53\n",
       "3DS              257.81\n",
       "PC               255.76\n",
       "GB               254.43\n",
       "XB               251.57\n",
       "NES              251.05\n",
       "N64              218.01\n",
       "SNES             200.04\n",
       "GC               196.73\n",
       "XOne             159.32\n",
       "2600              86.48\n",
       "WiiU              82.19\n",
       "PSV               53.81\n",
       "SAT               33.59\n",
       "GEN               28.35\n",
       "DC                15.95\n",
       "SCD                1.86\n",
       "NG                 1.44\n",
       "WS                 1.42\n",
       "TG16               0.16\n",
       "3DO                0.10\n",
       "GG                 0.04\n",
       "PCFX               0.03"
      ]
     },
     "execution_count": 29,
     "metadata": {},
     "output_type": "execute_result"
    }
   ],
   "source": [
    "dataplatformsale = (pd.pivot_table(data, values='sales_regions', index='platform', aggfunc=\"sum\")\n",
    "                    .sort_values(by='sales_regions', ascending=False))\n",
    "dataplatformsale"
   ]
  },
  {
   "cell_type": "code",
   "execution_count": 30,
   "metadata": {},
   "outputs": [
    {
     "data": {
      "text/html": [
       "<div>\n",
       "<style scoped>\n",
       "    .dataframe tbody tr th:only-of-type {\n",
       "        vertical-align: middle;\n",
       "    }\n",
       "\n",
       "    .dataframe tbody tr th {\n",
       "        vertical-align: top;\n",
       "    }\n",
       "\n",
       "    .dataframe thead th {\n",
       "        text-align: right;\n",
       "    }\n",
       "</style>\n",
       "<table border=\"1\" class=\"dataframe\">\n",
       "  <thead>\n",
       "    <tr style=\"text-align: right;\">\n",
       "      <th>platform</th>\n",
       "      <th>DS</th>\n",
       "      <th>PS</th>\n",
       "      <th>PS2</th>\n",
       "      <th>PS3</th>\n",
       "      <th>Wii</th>\n",
       "      <th>X360</th>\n",
       "    </tr>\n",
       "    <tr>\n",
       "      <th>year_of_release</th>\n",
       "      <th></th>\n",
       "      <th></th>\n",
       "      <th></th>\n",
       "      <th></th>\n",
       "      <th></th>\n",
       "      <th></th>\n",
       "    </tr>\n",
       "  </thead>\n",
       "  <tbody>\n",
       "    <tr>\n",
       "      <th>1985</th>\n",
       "      <td>0.02</td>\n",
       "      <td>NaN</td>\n",
       "      <td>NaN</td>\n",
       "      <td>NaN</td>\n",
       "      <td>NaN</td>\n",
       "      <td>NaN</td>\n",
       "    </tr>\n",
       "    <tr>\n",
       "      <th>1994</th>\n",
       "      <td>NaN</td>\n",
       "      <td>6.03</td>\n",
       "      <td>NaN</td>\n",
       "      <td>NaN</td>\n",
       "      <td>NaN</td>\n",
       "      <td>NaN</td>\n",
       "    </tr>\n",
       "    <tr>\n",
       "      <th>1995</th>\n",
       "      <td>NaN</td>\n",
       "      <td>35.96</td>\n",
       "      <td>NaN</td>\n",
       "      <td>NaN</td>\n",
       "      <td>NaN</td>\n",
       "      <td>NaN</td>\n",
       "    </tr>\n",
       "    <tr>\n",
       "      <th>1996</th>\n",
       "      <td>NaN</td>\n",
       "      <td>94.70</td>\n",
       "      <td>NaN</td>\n",
       "      <td>NaN</td>\n",
       "      <td>NaN</td>\n",
       "      <td>NaN</td>\n",
       "    </tr>\n",
       "    <tr>\n",
       "      <th>1997</th>\n",
       "      <td>NaN</td>\n",
       "      <td>136.17</td>\n",
       "      <td>NaN</td>\n",
       "      <td>NaN</td>\n",
       "      <td>NaN</td>\n",
       "      <td>NaN</td>\n",
       "    </tr>\n",
       "    <tr>\n",
       "      <th>1998</th>\n",
       "      <td>NaN</td>\n",
       "      <td>169.49</td>\n",
       "      <td>NaN</td>\n",
       "      <td>NaN</td>\n",
       "      <td>NaN</td>\n",
       "      <td>NaN</td>\n",
       "    </tr>\n",
       "    <tr>\n",
       "      <th>1999</th>\n",
       "      <td>NaN</td>\n",
       "      <td>144.53</td>\n",
       "      <td>NaN</td>\n",
       "      <td>NaN</td>\n",
       "      <td>NaN</td>\n",
       "      <td>NaN</td>\n",
       "    </tr>\n",
       "    <tr>\n",
       "      <th>2000</th>\n",
       "      <td>NaN</td>\n",
       "      <td>96.37</td>\n",
       "      <td>39.17</td>\n",
       "      <td>NaN</td>\n",
       "      <td>NaN</td>\n",
       "      <td>NaN</td>\n",
       "    </tr>\n",
       "    <tr>\n",
       "      <th>2001</th>\n",
       "      <td>NaN</td>\n",
       "      <td>35.59</td>\n",
       "      <td>166.43</td>\n",
       "      <td>NaN</td>\n",
       "      <td>NaN</td>\n",
       "      <td>NaN</td>\n",
       "    </tr>\n",
       "    <tr>\n",
       "      <th>2002</th>\n",
       "      <td>NaN</td>\n",
       "      <td>6.67</td>\n",
       "      <td>205.38</td>\n",
       "      <td>NaN</td>\n",
       "      <td>NaN</td>\n",
       "      <td>NaN</td>\n",
       "    </tr>\n",
       "    <tr>\n",
       "      <th>2003</th>\n",
       "      <td>NaN</td>\n",
       "      <td>2.07</td>\n",
       "      <td>184.31</td>\n",
       "      <td>NaN</td>\n",
       "      <td>NaN</td>\n",
       "      <td>NaN</td>\n",
       "    </tr>\n",
       "    <tr>\n",
       "      <th>2004</th>\n",
       "      <td>17.27</td>\n",
       "      <td>NaN</td>\n",
       "      <td>211.81</td>\n",
       "      <td>NaN</td>\n",
       "      <td>NaN</td>\n",
       "      <td>NaN</td>\n",
       "    </tr>\n",
       "    <tr>\n",
       "      <th>2005</th>\n",
       "      <td>130.14</td>\n",
       "      <td>NaN</td>\n",
       "      <td>160.66</td>\n",
       "      <td>NaN</td>\n",
       "      <td>NaN</td>\n",
       "      <td>8.25</td>\n",
       "    </tr>\n",
       "    <tr>\n",
       "      <th>2006</th>\n",
       "      <td>119.81</td>\n",
       "      <td>NaN</td>\n",
       "      <td>103.42</td>\n",
       "      <td>20.96</td>\n",
       "      <td>137.15</td>\n",
       "      <td>51.62</td>\n",
       "    </tr>\n",
       "    <tr>\n",
       "      <th>2007</th>\n",
       "      <td>146.94</td>\n",
       "      <td>NaN</td>\n",
       "      <td>75.99</td>\n",
       "      <td>73.19</td>\n",
       "      <td>152.77</td>\n",
       "      <td>95.41</td>\n",
       "    </tr>\n",
       "    <tr>\n",
       "      <th>2008</th>\n",
       "      <td>145.31</td>\n",
       "      <td>NaN</td>\n",
       "      <td>53.90</td>\n",
       "      <td>118.52</td>\n",
       "      <td>171.32</td>\n",
       "      <td>135.26</td>\n",
       "    </tr>\n",
       "    <tr>\n",
       "      <th>2009</th>\n",
       "      <td>119.54</td>\n",
       "      <td>NaN</td>\n",
       "      <td>26.40</td>\n",
       "      <td>130.93</td>\n",
       "      <td>206.97</td>\n",
       "      <td>120.29</td>\n",
       "    </tr>\n",
       "    <tr>\n",
       "      <th>2010</th>\n",
       "      <td>85.02</td>\n",
       "      <td>NaN</td>\n",
       "      <td>5.64</td>\n",
       "      <td>142.17</td>\n",
       "      <td>127.95</td>\n",
       "      <td>170.03</td>\n",
       "    </tr>\n",
       "    <tr>\n",
       "      <th>2011</th>\n",
       "      <td>26.18</td>\n",
       "      <td>NaN</td>\n",
       "      <td>0.45</td>\n",
       "      <td>156.78</td>\n",
       "      <td>59.65</td>\n",
       "      <td>143.84</td>\n",
       "    </tr>\n",
       "    <tr>\n",
       "      <th>2012</th>\n",
       "      <td>11.01</td>\n",
       "      <td>NaN</td>\n",
       "      <td>NaN</td>\n",
       "      <td>107.35</td>\n",
       "      <td>21.71</td>\n",
       "      <td>99.74</td>\n",
       "    </tr>\n",
       "    <tr>\n",
       "      <th>2013</th>\n",
       "      <td>1.54</td>\n",
       "      <td>NaN</td>\n",
       "      <td>NaN</td>\n",
       "      <td>113.25</td>\n",
       "      <td>8.59</td>\n",
       "      <td>88.58</td>\n",
       "    </tr>\n",
       "    <tr>\n",
       "      <th>2014</th>\n",
       "      <td>NaN</td>\n",
       "      <td>NaN</td>\n",
       "      <td>NaN</td>\n",
       "      <td>47.76</td>\n",
       "      <td>3.75</td>\n",
       "      <td>34.74</td>\n",
       "    </tr>\n",
       "    <tr>\n",
       "      <th>2015</th>\n",
       "      <td>NaN</td>\n",
       "      <td>NaN</td>\n",
       "      <td>NaN</td>\n",
       "      <td>16.82</td>\n",
       "      <td>1.14</td>\n",
       "      <td>11.96</td>\n",
       "    </tr>\n",
       "    <tr>\n",
       "      <th>2016</th>\n",
       "      <td>NaN</td>\n",
       "      <td>NaN</td>\n",
       "      <td>NaN</td>\n",
       "      <td>3.60</td>\n",
       "      <td>0.18</td>\n",
       "      <td>1.52</td>\n",
       "    </tr>\n",
       "  </tbody>\n",
       "</table>\n",
       "</div>"
      ],
      "text/plain": [
       "platform             DS      PS     PS2     PS3     Wii    X360\n",
       "year_of_release                                                \n",
       "1985               0.02     NaN     NaN     NaN     NaN     NaN\n",
       "1994                NaN    6.03     NaN     NaN     NaN     NaN\n",
       "1995                NaN   35.96     NaN     NaN     NaN     NaN\n",
       "1996                NaN   94.70     NaN     NaN     NaN     NaN\n",
       "1997                NaN  136.17     NaN     NaN     NaN     NaN\n",
       "1998                NaN  169.49     NaN     NaN     NaN     NaN\n",
       "1999                NaN  144.53     NaN     NaN     NaN     NaN\n",
       "2000                NaN   96.37   39.17     NaN     NaN     NaN\n",
       "2001                NaN   35.59  166.43     NaN     NaN     NaN\n",
       "2002                NaN    6.67  205.38     NaN     NaN     NaN\n",
       "2003                NaN    2.07  184.31     NaN     NaN     NaN\n",
       "2004              17.27     NaN  211.81     NaN     NaN     NaN\n",
       "2005             130.14     NaN  160.66     NaN     NaN    8.25\n",
       "2006             119.81     NaN  103.42   20.96  137.15   51.62\n",
       "2007             146.94     NaN   75.99   73.19  152.77   95.41\n",
       "2008             145.31     NaN   53.90  118.52  171.32  135.26\n",
       "2009             119.54     NaN   26.40  130.93  206.97  120.29\n",
       "2010              85.02     NaN    5.64  142.17  127.95  170.03\n",
       "2011              26.18     NaN    0.45  156.78   59.65  143.84\n",
       "2012              11.01     NaN     NaN  107.35   21.71   99.74\n",
       "2013               1.54     NaN     NaN  113.25    8.59   88.58\n",
       "2014                NaN     NaN     NaN   47.76    3.75   34.74\n",
       "2015                NaN     NaN     NaN   16.82    1.14   11.96\n",
       "2016                NaN     NaN     NaN    3.60    0.18    1.52"
      ]
     },
     "execution_count": 30,
     "metadata": {},
     "output_type": "execute_result"
    }
   ],
   "source": [
    "dataplatformsaletearly = (pd.pivot_table(data[data['platform']\n",
    "                        .isin(dataplatformsale.head(6).index.values)], \n",
    "                        values='sales_regions', columns='platform', index='year_of_release', aggfunc=\"sum\"))\n",
    "\n",
    "dataplatformsaletearly"
   ]
  },
  {
   "cell_type": "code",
   "execution_count": 31,
   "metadata": {},
   "outputs": [
    {
     "data": {
      "image/png": "[encoded data removed]",
      "text/plain": [
       "<Figure size 432x288 with 1 Axes>"
      ]
     },
     "metadata": {},
     "output_type": "display_data"
    }
   ],
   "source": [
    "dataplatformsaletearly.plot(xlabel='Года', ylabel='Выручка', title='Распределение платформ по годам')\n",
    "\n",
    "plt.show()"
   ]
  },
  {
   "cell_type": "markdown",
   "metadata": {},
   "source": [
    "Появляются игры на платформах и возврастают в продажах примерно за 4-6 лет, постепенно падают продажи и платформы уходят 4-6 лет.\n",
    "\n",
    "Расчитаем примерный срок жизни платформ."
   ]
  },
  {
   "cell_type": "code",
   "execution_count": 32,
   "metadata": {},
   "outputs": [
    {
     "data": {
      "text/plain": [
       "11.166666666666666"
      ]
     },
     "execution_count": 32,
     "metadata": {},
     "output_type": "execute_result"
    }
   ],
   "source": [
    "dataplatformsaletearly.notna().sum(axis = 0).mean()"
   ]
  },
  {
   "cell_type": "markdown",
   "metadata": {},
   "source": [
    "Примерный срок жизни платформ 11 лет."
   ]
  },
  {
   "cell_type": "markdown",
   "metadata": {},
   "source": [
    "### Посмотрим какие платформы лидируют по продажам, растут или падают. Выберем несколько потенциально прибыльных платформ за актуальный период, чтобы эти данные помогли построить прогноз на 2017 год."
   ]
  },
  {
   "cell_type": "markdown",
   "metadata": {},
   "source": [
    "Так как платформы трятят время на возрастание прибыли или уменьшение прибыли 4-6 лет, и нас интересует период, который способен помочь в прогнозировании прибыли, то возьмем данные за последние 4 года (2013-2016)."
   ]
  },
  {
   "cell_type": "code",
   "execution_count": 33,
   "metadata": {},
   "outputs": [
    {
     "data": {
      "text/html": [
       "<div>\n",
       "<style scoped>\n",
       "    .dataframe tbody tr th:only-of-type {\n",
       "        vertical-align: middle;\n",
       "    }\n",
       "\n",
       "    .dataframe tbody tr th {\n",
       "        vertical-align: top;\n",
       "    }\n",
       "\n",
       "    .dataframe thead th {\n",
       "        text-align: right;\n",
       "    }\n",
       "</style>\n",
       "<table border=\"1\" class=\"dataframe\">\n",
       "  <thead>\n",
       "    <tr style=\"text-align: right;\">\n",
       "      <th>platform</th>\n",
       "      <th>year_of_release</th>\n",
       "      <th>2600</th>\n",
       "      <th>3DO</th>\n",
       "      <th>3DS</th>\n",
       "      <th>DC</th>\n",
       "      <th>DS</th>\n",
       "      <th>GB</th>\n",
       "      <th>GBA</th>\n",
       "      <th>GC</th>\n",
       "      <th>GEN</th>\n",
       "      <th>...</th>\n",
       "      <th>SAT</th>\n",
       "      <th>SCD</th>\n",
       "      <th>SNES</th>\n",
       "      <th>TG16</th>\n",
       "      <th>WS</th>\n",
       "      <th>Wii</th>\n",
       "      <th>WiiU</th>\n",
       "      <th>X360</th>\n",
       "      <th>XB</th>\n",
       "      <th>XOne</th>\n",
       "    </tr>\n",
       "  </thead>\n",
       "  <tbody>\n",
       "    <tr>\n",
       "      <th>0</th>\n",
       "      <td>1980</td>\n",
       "      <td>11.38</td>\n",
       "      <td>NaN</td>\n",
       "      <td>NaN</td>\n",
       "      <td>NaN</td>\n",
       "      <td>NaN</td>\n",
       "      <td>NaN</td>\n",
       "      <td>NaN</td>\n",
       "      <td>NaN</td>\n",
       "      <td>NaN</td>\n",
       "      <td>...</td>\n",
       "      <td>NaN</td>\n",
       "      <td>NaN</td>\n",
       "      <td>NaN</td>\n",
       "      <td>NaN</td>\n",
       "      <td>NaN</td>\n",
       "      <td>NaN</td>\n",
       "      <td>NaN</td>\n",
       "      <td>NaN</td>\n",
       "      <td>NaN</td>\n",
       "      <td>NaN</td>\n",
       "    </tr>\n",
       "    <tr>\n",
       "      <th>1</th>\n",
       "      <td>1981</td>\n",
       "      <td>35.68</td>\n",
       "      <td>NaN</td>\n",
       "      <td>NaN</td>\n",
       "      <td>NaN</td>\n",
       "      <td>NaN</td>\n",
       "      <td>NaN</td>\n",
       "      <td>NaN</td>\n",
       "      <td>NaN</td>\n",
       "      <td>NaN</td>\n",
       "      <td>...</td>\n",
       "      <td>NaN</td>\n",
       "      <td>NaN</td>\n",
       "      <td>NaN</td>\n",
       "      <td>NaN</td>\n",
       "      <td>NaN</td>\n",
       "      <td>NaN</td>\n",
       "      <td>NaN</td>\n",
       "      <td>NaN</td>\n",
       "      <td>NaN</td>\n",
       "      <td>NaN</td>\n",
       "    </tr>\n",
       "    <tr>\n",
       "      <th>2</th>\n",
       "      <td>1982</td>\n",
       "      <td>28.88</td>\n",
       "      <td>NaN</td>\n",
       "      <td>NaN</td>\n",
       "      <td>NaN</td>\n",
       "      <td>NaN</td>\n",
       "      <td>NaN</td>\n",
       "      <td>NaN</td>\n",
       "      <td>NaN</td>\n",
       "      <td>NaN</td>\n",
       "      <td>...</td>\n",
       "      <td>NaN</td>\n",
       "      <td>NaN</td>\n",
       "      <td>NaN</td>\n",
       "      <td>NaN</td>\n",
       "      <td>NaN</td>\n",
       "      <td>NaN</td>\n",
       "      <td>NaN</td>\n",
       "      <td>NaN</td>\n",
       "      <td>NaN</td>\n",
       "      <td>NaN</td>\n",
       "    </tr>\n",
       "    <tr>\n",
       "      <th>3</th>\n",
       "      <td>1983</td>\n",
       "      <td>5.84</td>\n",
       "      <td>NaN</td>\n",
       "      <td>NaN</td>\n",
       "      <td>NaN</td>\n",
       "      <td>NaN</td>\n",
       "      <td>NaN</td>\n",
       "      <td>NaN</td>\n",
       "      <td>NaN</td>\n",
       "      <td>NaN</td>\n",
       "      <td>...</td>\n",
       "      <td>NaN</td>\n",
       "      <td>NaN</td>\n",
       "      <td>NaN</td>\n",
       "      <td>NaN</td>\n",
       "      <td>NaN</td>\n",
       "      <td>NaN</td>\n",
       "      <td>NaN</td>\n",
       "      <td>NaN</td>\n",
       "      <td>NaN</td>\n",
       "      <td>NaN</td>\n",
       "    </tr>\n",
       "    <tr>\n",
       "      <th>4</th>\n",
       "      <td>1984</td>\n",
       "      <td>0.27</td>\n",
       "      <td>NaN</td>\n",
       "      <td>NaN</td>\n",
       "      <td>NaN</td>\n",
       "      <td>NaN</td>\n",
       "      <td>NaN</td>\n",
       "      <td>NaN</td>\n",
       "      <td>NaN</td>\n",
       "      <td>NaN</td>\n",
       "      <td>...</td>\n",
       "      <td>NaN</td>\n",
       "      <td>NaN</td>\n",
       "      <td>NaN</td>\n",
       "      <td>NaN</td>\n",
       "      <td>NaN</td>\n",
       "      <td>NaN</td>\n",
       "      <td>NaN</td>\n",
       "      <td>NaN</td>\n",
       "      <td>NaN</td>\n",
       "      <td>NaN</td>\n",
       "    </tr>\n",
       "    <tr>\n",
       "      <th>5</th>\n",
       "      <td>1985</td>\n",
       "      <td>0.45</td>\n",
       "      <td>NaN</td>\n",
       "      <td>NaN</td>\n",
       "      <td>NaN</td>\n",
       "      <td>0.02</td>\n",
       "      <td>NaN</td>\n",
       "      <td>NaN</td>\n",
       "      <td>NaN</td>\n",
       "      <td>NaN</td>\n",
       "      <td>...</td>\n",
       "      <td>NaN</td>\n",
       "      <td>NaN</td>\n",
       "      <td>NaN</td>\n",
       "      <td>NaN</td>\n",
       "      <td>NaN</td>\n",
       "      <td>NaN</td>\n",
       "      <td>NaN</td>\n",
       "      <td>NaN</td>\n",
       "      <td>NaN</td>\n",
       "      <td>NaN</td>\n",
       "    </tr>\n",
       "    <tr>\n",
       "      <th>6</th>\n",
       "      <td>1986</td>\n",
       "      <td>0.67</td>\n",
       "      <td>NaN</td>\n",
       "      <td>NaN</td>\n",
       "      <td>NaN</td>\n",
       "      <td>NaN</td>\n",
       "      <td>NaN</td>\n",
       "      <td>NaN</td>\n",
       "      <td>NaN</td>\n",
       "      <td>NaN</td>\n",
       "      <td>...</td>\n",
       "      <td>NaN</td>\n",
       "      <td>NaN</td>\n",
       "      <td>NaN</td>\n",
       "      <td>NaN</td>\n",
       "      <td>NaN</td>\n",
       "      <td>NaN</td>\n",
       "      <td>NaN</td>\n",
       "      <td>NaN</td>\n",
       "      <td>NaN</td>\n",
       "      <td>NaN</td>\n",
       "    </tr>\n",
       "    <tr>\n",
       "      <th>7</th>\n",
       "      <td>1987</td>\n",
       "      <td>1.94</td>\n",
       "      <td>NaN</td>\n",
       "      <td>NaN</td>\n",
       "      <td>NaN</td>\n",
       "      <td>NaN</td>\n",
       "      <td>NaN</td>\n",
       "      <td>NaN</td>\n",
       "      <td>NaN</td>\n",
       "      <td>NaN</td>\n",
       "      <td>...</td>\n",
       "      <td>NaN</td>\n",
       "      <td>NaN</td>\n",
       "      <td>NaN</td>\n",
       "      <td>NaN</td>\n",
       "      <td>NaN</td>\n",
       "      <td>NaN</td>\n",
       "      <td>NaN</td>\n",
       "      <td>NaN</td>\n",
       "      <td>NaN</td>\n",
       "      <td>NaN</td>\n",
       "    </tr>\n",
       "    <tr>\n",
       "      <th>8</th>\n",
       "      <td>1988</td>\n",
       "      <td>0.74</td>\n",
       "      <td>NaN</td>\n",
       "      <td>NaN</td>\n",
       "      <td>NaN</td>\n",
       "      <td>NaN</td>\n",
       "      <td>1.43</td>\n",
       "      <td>NaN</td>\n",
       "      <td>NaN</td>\n",
       "      <td>NaN</td>\n",
       "      <td>...</td>\n",
       "      <td>NaN</td>\n",
       "      <td>NaN</td>\n",
       "      <td>NaN</td>\n",
       "      <td>NaN</td>\n",
       "      <td>NaN</td>\n",
       "      <td>NaN</td>\n",
       "      <td>NaN</td>\n",
       "      <td>NaN</td>\n",
       "      <td>NaN</td>\n",
       "      <td>NaN</td>\n",
       "    </tr>\n",
       "    <tr>\n",
       "      <th>9</th>\n",
       "      <td>1989</td>\n",
       "      <td>0.63</td>\n",
       "      <td>NaN</td>\n",
       "      <td>NaN</td>\n",
       "      <td>NaN</td>\n",
       "      <td>NaN</td>\n",
       "      <td>64.97</td>\n",
       "      <td>NaN</td>\n",
       "      <td>NaN</td>\n",
       "      <td>NaN</td>\n",
       "      <td>...</td>\n",
       "      <td>NaN</td>\n",
       "      <td>NaN</td>\n",
       "      <td>NaN</td>\n",
       "      <td>NaN</td>\n",
       "      <td>NaN</td>\n",
       "      <td>NaN</td>\n",
       "      <td>NaN</td>\n",
       "      <td>NaN</td>\n",
       "      <td>NaN</td>\n",
       "      <td>NaN</td>\n",
       "    </tr>\n",
       "    <tr>\n",
       "      <th>10</th>\n",
       "      <td>1990</td>\n",
       "      <td>NaN</td>\n",
       "      <td>NaN</td>\n",
       "      <td>NaN</td>\n",
       "      <td>NaN</td>\n",
       "      <td>NaN</td>\n",
       "      <td>4.89</td>\n",
       "      <td>NaN</td>\n",
       "      <td>NaN</td>\n",
       "      <td>2.60</td>\n",
       "      <td>...</td>\n",
       "      <td>NaN</td>\n",
       "      <td>NaN</td>\n",
       "      <td>26.15</td>\n",
       "      <td>NaN</td>\n",
       "      <td>NaN</td>\n",
       "      <td>NaN</td>\n",
       "      <td>NaN</td>\n",
       "      <td>NaN</td>\n",
       "      <td>NaN</td>\n",
       "      <td>NaN</td>\n",
       "    </tr>\n",
       "    <tr>\n",
       "      <th>11</th>\n",
       "      <td>1991</td>\n",
       "      <td>NaN</td>\n",
       "      <td>NaN</td>\n",
       "      <td>NaN</td>\n",
       "      <td>NaN</td>\n",
       "      <td>NaN</td>\n",
       "      <td>5.57</td>\n",
       "      <td>NaN</td>\n",
       "      <td>NaN</td>\n",
       "      <td>4.33</td>\n",
       "      <td>...</td>\n",
       "      <td>NaN</td>\n",
       "      <td>NaN</td>\n",
       "      <td>16.22</td>\n",
       "      <td>NaN</td>\n",
       "      <td>NaN</td>\n",
       "      <td>NaN</td>\n",
       "      <td>NaN</td>\n",
       "      <td>NaN</td>\n",
       "      <td>NaN</td>\n",
       "      <td>NaN</td>\n",
       "    </tr>\n",
       "    <tr>\n",
       "      <th>12</th>\n",
       "      <td>1992</td>\n",
       "      <td>NaN</td>\n",
       "      <td>NaN</td>\n",
       "      <td>NaN</td>\n",
       "      <td>NaN</td>\n",
       "      <td>NaN</td>\n",
       "      <td>25.49</td>\n",
       "      <td>NaN</td>\n",
       "      <td>NaN</td>\n",
       "      <td>12.64</td>\n",
       "      <td>...</td>\n",
       "      <td>NaN</td>\n",
       "      <td>NaN</td>\n",
       "      <td>32.98</td>\n",
       "      <td>NaN</td>\n",
       "      <td>NaN</td>\n",
       "      <td>NaN</td>\n",
       "      <td>NaN</td>\n",
       "      <td>NaN</td>\n",
       "      <td>NaN</td>\n",
       "      <td>NaN</td>\n",
       "    </tr>\n",
       "    <tr>\n",
       "      <th>13</th>\n",
       "      <td>1993</td>\n",
       "      <td>NaN</td>\n",
       "      <td>NaN</td>\n",
       "      <td>NaN</td>\n",
       "      <td>NaN</td>\n",
       "      <td>NaN</td>\n",
       "      <td>NaN</td>\n",
       "      <td>NaN</td>\n",
       "      <td>NaN</td>\n",
       "      <td>0.65</td>\n",
       "      <td>...</td>\n",
       "      <td>NaN</td>\n",
       "      <td>1.50</td>\n",
       "      <td>40.02</td>\n",
       "      <td>NaN</td>\n",
       "      <td>NaN</td>\n",
       "      <td>NaN</td>\n",
       "      <td>NaN</td>\n",
       "      <td>NaN</td>\n",
       "      <td>NaN</td>\n",
       "      <td>NaN</td>\n",
       "    </tr>\n",
       "    <tr>\n",
       "      <th>14</th>\n",
       "      <td>1994</td>\n",
       "      <td>NaN</td>\n",
       "      <td>0.02</td>\n",
       "      <td>NaN</td>\n",
       "      <td>NaN</td>\n",
       "      <td>NaN</td>\n",
       "      <td>12.18</td>\n",
       "      <td>NaN</td>\n",
       "      <td>NaN</td>\n",
       "      <td>8.13</td>\n",
       "      <td>...</td>\n",
       "      <td>3.65</td>\n",
       "      <td>0.36</td>\n",
       "      <td>35.08</td>\n",
       "      <td>NaN</td>\n",
       "      <td>NaN</td>\n",
       "      <td>NaN</td>\n",
       "      <td>NaN</td>\n",
       "      <td>NaN</td>\n",
       "      <td>NaN</td>\n",
       "      <td>NaN</td>\n",
       "    </tr>\n",
       "    <tr>\n",
       "      <th>15</th>\n",
       "      <td>1995</td>\n",
       "      <td>NaN</td>\n",
       "      <td>0.08</td>\n",
       "      <td>NaN</td>\n",
       "      <td>NaN</td>\n",
       "      <td>NaN</td>\n",
       "      <td>3.60</td>\n",
       "      <td>NaN</td>\n",
       "      <td>NaN</td>\n",
       "      <td>NaN</td>\n",
       "      <td>...</td>\n",
       "      <td>11.57</td>\n",
       "      <td>NaN</td>\n",
       "      <td>32.20</td>\n",
       "      <td>0.16</td>\n",
       "      <td>NaN</td>\n",
       "      <td>NaN</td>\n",
       "      <td>NaN</td>\n",
       "      <td>NaN</td>\n",
       "      <td>NaN</td>\n",
       "      <td>NaN</td>\n",
       "    </tr>\n",
       "    <tr>\n",
       "      <th>16</th>\n",
       "      <td>1996</td>\n",
       "      <td>NaN</td>\n",
       "      <td>NaN</td>\n",
       "      <td>NaN</td>\n",
       "      <td>NaN</td>\n",
       "      <td>NaN</td>\n",
       "      <td>36.03</td>\n",
       "      <td>NaN</td>\n",
       "      <td>NaN</td>\n",
       "      <td>NaN</td>\n",
       "      <td>...</td>\n",
       "      <td>7.69</td>\n",
       "      <td>NaN</td>\n",
       "      <td>15.92</td>\n",
       "      <td>NaN</td>\n",
       "      <td>NaN</td>\n",
       "      <td>NaN</td>\n",
       "      <td>NaN</td>\n",
       "      <td>NaN</td>\n",
       "      <td>NaN</td>\n",
       "      <td>NaN</td>\n",
       "    </tr>\n",
       "    <tr>\n",
       "      <th>17</th>\n",
       "      <td>1997</td>\n",
       "      <td>NaN</td>\n",
       "      <td>NaN</td>\n",
       "      <td>NaN</td>\n",
       "      <td>NaN</td>\n",
       "      <td>NaN</td>\n",
       "      <td>6.37</td>\n",
       "      <td>NaN</td>\n",
       "      <td>NaN</td>\n",
       "      <td>NaN</td>\n",
       "      <td>...</td>\n",
       "      <td>6.77</td>\n",
       "      <td>NaN</td>\n",
       "      <td>0.99</td>\n",
       "      <td>NaN</td>\n",
       "      <td>NaN</td>\n",
       "      <td>NaN</td>\n",
       "      <td>NaN</td>\n",
       "      <td>NaN</td>\n",
       "      <td>NaN</td>\n",
       "      <td>NaN</td>\n",
       "    </tr>\n",
       "    <tr>\n",
       "      <th>18</th>\n",
       "      <td>1998</td>\n",
       "      <td>NaN</td>\n",
       "      <td>NaN</td>\n",
       "      <td>NaN</td>\n",
       "      <td>3.38</td>\n",
       "      <td>NaN</td>\n",
       "      <td>26.90</td>\n",
       "      <td>NaN</td>\n",
       "      <td>NaN</td>\n",
       "      <td>NaN</td>\n",
       "      <td>...</td>\n",
       "      <td>3.82</td>\n",
       "      <td>NaN</td>\n",
       "      <td>0.22</td>\n",
       "      <td>NaN</td>\n",
       "      <td>NaN</td>\n",
       "      <td>NaN</td>\n",
       "      <td>NaN</td>\n",
       "      <td>NaN</td>\n",
       "      <td>NaN</td>\n",
       "      <td>NaN</td>\n",
       "    </tr>\n",
       "    <tr>\n",
       "      <th>19</th>\n",
       "      <td>1999</td>\n",
       "      <td>NaN</td>\n",
       "      <td>NaN</td>\n",
       "      <td>NaN</td>\n",
       "      <td>5.16</td>\n",
       "      <td>NaN</td>\n",
       "      <td>38.00</td>\n",
       "      <td>NaN</td>\n",
       "      <td>NaN</td>\n",
       "      <td>NaN</td>\n",
       "      <td>...</td>\n",
       "      <td>0.09</td>\n",
       "      <td>NaN</td>\n",
       "      <td>0.26</td>\n",
       "      <td>NaN</td>\n",
       "      <td>0.46</td>\n",
       "      <td>NaN</td>\n",
       "      <td>NaN</td>\n",
       "      <td>NaN</td>\n",
       "      <td>NaN</td>\n",
       "      <td>NaN</td>\n",
       "    </tr>\n",
       "    <tr>\n",
       "      <th>20</th>\n",
       "      <td>2000</td>\n",
       "      <td>NaN</td>\n",
       "      <td>NaN</td>\n",
       "      <td>NaN</td>\n",
       "      <td>5.99</td>\n",
       "      <td>NaN</td>\n",
       "      <td>19.76</td>\n",
       "      <td>0.07</td>\n",
       "      <td>NaN</td>\n",
       "      <td>NaN</td>\n",
       "      <td>...</td>\n",
       "      <td>NaN</td>\n",
       "      <td>NaN</td>\n",
       "      <td>NaN</td>\n",
       "      <td>NaN</td>\n",
       "      <td>0.68</td>\n",
       "      <td>NaN</td>\n",
       "      <td>NaN</td>\n",
       "      <td>NaN</td>\n",
       "      <td>0.99</td>\n",
       "      <td>NaN</td>\n",
       "    </tr>\n",
       "    <tr>\n",
       "      <th>21</th>\n",
       "      <td>2001</td>\n",
       "      <td>NaN</td>\n",
       "      <td>NaN</td>\n",
       "      <td>NaN</td>\n",
       "      <td>1.07</td>\n",
       "      <td>NaN</td>\n",
       "      <td>9.24</td>\n",
       "      <td>61.53</td>\n",
       "      <td>26.34</td>\n",
       "      <td>NaN</td>\n",
       "      <td>...</td>\n",
       "      <td>NaN</td>\n",
       "      <td>NaN</td>\n",
       "      <td>NaN</td>\n",
       "      <td>NaN</td>\n",
       "      <td>0.28</td>\n",
       "      <td>NaN</td>\n",
       "      <td>NaN</td>\n",
       "      <td>NaN</td>\n",
       "      <td>22.26</td>\n",
       "      <td>NaN</td>\n",
       "    </tr>\n",
       "    <tr>\n",
       "      <th>22</th>\n",
       "      <td>2002</td>\n",
       "      <td>NaN</td>\n",
       "      <td>NaN</td>\n",
       "      <td>NaN</td>\n",
       "      <td>0.29</td>\n",
       "      <td>NaN</td>\n",
       "      <td>NaN</td>\n",
       "      <td>74.16</td>\n",
       "      <td>51.81</td>\n",
       "      <td>NaN</td>\n",
       "      <td>...</td>\n",
       "      <td>NaN</td>\n",
       "      <td>NaN</td>\n",
       "      <td>NaN</td>\n",
       "      <td>NaN</td>\n",
       "      <td>NaN</td>\n",
       "      <td>NaN</td>\n",
       "      <td>NaN</td>\n",
       "      <td>NaN</td>\n",
       "      <td>48.01</td>\n",
       "      <td>NaN</td>\n",
       "    </tr>\n",
       "    <tr>\n",
       "      <th>23</th>\n",
       "      <td>2003</td>\n",
       "      <td>NaN</td>\n",
       "      <td>NaN</td>\n",
       "      <td>NaN</td>\n",
       "      <td>NaN</td>\n",
       "      <td>NaN</td>\n",
       "      <td>NaN</td>\n",
       "      <td>56.67</td>\n",
       "      <td>50.61</td>\n",
       "      <td>NaN</td>\n",
       "      <td>...</td>\n",
       "      <td>NaN</td>\n",
       "      <td>NaN</td>\n",
       "      <td>NaN</td>\n",
       "      <td>NaN</td>\n",
       "      <td>NaN</td>\n",
       "      <td>NaN</td>\n",
       "      <td>NaN</td>\n",
       "      <td>NaN</td>\n",
       "      <td>55.04</td>\n",
       "      <td>NaN</td>\n",
       "    </tr>\n",
       "    <tr>\n",
       "      <th>24</th>\n",
       "      <td>2004</td>\n",
       "      <td>NaN</td>\n",
       "      <td>NaN</td>\n",
       "      <td>NaN</td>\n",
       "      <td>NaN</td>\n",
       "      <td>17.27</td>\n",
       "      <td>NaN</td>\n",
       "      <td>77.91</td>\n",
       "      <td>28.82</td>\n",
       "      <td>NaN</td>\n",
       "      <td>...</td>\n",
       "      <td>NaN</td>\n",
       "      <td>NaN</td>\n",
       "      <td>NaN</td>\n",
       "      <td>NaN</td>\n",
       "      <td>NaN</td>\n",
       "      <td>NaN</td>\n",
       "      <td>NaN</td>\n",
       "      <td>NaN</td>\n",
       "      <td>65.42</td>\n",
       "      <td>NaN</td>\n",
       "    </tr>\n",
       "    <tr>\n",
       "      <th>25</th>\n",
       "      <td>2005</td>\n",
       "      <td>NaN</td>\n",
       "      <td>NaN</td>\n",
       "      <td>NaN</td>\n",
       "      <td>NaN</td>\n",
       "      <td>130.14</td>\n",
       "      <td>NaN</td>\n",
       "      <td>33.86</td>\n",
       "      <td>27.62</td>\n",
       "      <td>NaN</td>\n",
       "      <td>...</td>\n",
       "      <td>NaN</td>\n",
       "      <td>NaN</td>\n",
       "      <td>NaN</td>\n",
       "      <td>NaN</td>\n",
       "      <td>NaN</td>\n",
       "      <td>NaN</td>\n",
       "      <td>NaN</td>\n",
       "      <td>8.25</td>\n",
       "      <td>49.08</td>\n",
       "      <td>NaN</td>\n",
       "    </tr>\n",
       "    <tr>\n",
       "      <th>26</th>\n",
       "      <td>2006</td>\n",
       "      <td>NaN</td>\n",
       "      <td>NaN</td>\n",
       "      <td>NaN</td>\n",
       "      <td>NaN</td>\n",
       "      <td>119.81</td>\n",
       "      <td>NaN</td>\n",
       "      <td>5.28</td>\n",
       "      <td>11.26</td>\n",
       "      <td>NaN</td>\n",
       "      <td>...</td>\n",
       "      <td>NaN</td>\n",
       "      <td>NaN</td>\n",
       "      <td>NaN</td>\n",
       "      <td>NaN</td>\n",
       "      <td>NaN</td>\n",
       "      <td>137.15</td>\n",
       "      <td>NaN</td>\n",
       "      <td>51.62</td>\n",
       "      <td>10.04</td>\n",
       "      <td>NaN</td>\n",
       "    </tr>\n",
       "    <tr>\n",
       "      <th>27</th>\n",
       "      <td>2007</td>\n",
       "      <td>NaN</td>\n",
       "      <td>NaN</td>\n",
       "      <td>NaN</td>\n",
       "      <td>0.02</td>\n",
       "      <td>146.94</td>\n",
       "      <td>NaN</td>\n",
       "      <td>3.40</td>\n",
       "      <td>0.27</td>\n",
       "      <td>NaN</td>\n",
       "      <td>...</td>\n",
       "      <td>NaN</td>\n",
       "      <td>NaN</td>\n",
       "      <td>NaN</td>\n",
       "      <td>NaN</td>\n",
       "      <td>NaN</td>\n",
       "      <td>152.77</td>\n",
       "      <td>NaN</td>\n",
       "      <td>95.41</td>\n",
       "      <td>0.55</td>\n",
       "      <td>NaN</td>\n",
       "    </tr>\n",
       "    <tr>\n",
       "      <th>28</th>\n",
       "      <td>2008</td>\n",
       "      <td>NaN</td>\n",
       "      <td>NaN</td>\n",
       "      <td>NaN</td>\n",
       "      <td>0.04</td>\n",
       "      <td>145.31</td>\n",
       "      <td>NaN</td>\n",
       "      <td>NaN</td>\n",
       "      <td>NaN</td>\n",
       "      <td>NaN</td>\n",
       "      <td>...</td>\n",
       "      <td>NaN</td>\n",
       "      <td>NaN</td>\n",
       "      <td>NaN</td>\n",
       "      <td>NaN</td>\n",
       "      <td>NaN</td>\n",
       "      <td>171.32</td>\n",
       "      <td>NaN</td>\n",
       "      <td>135.26</td>\n",
       "      <td>0.18</td>\n",
       "      <td>NaN</td>\n",
       "    </tr>\n",
       "    <tr>\n",
       "      <th>29</th>\n",
       "      <td>2009</td>\n",
       "      <td>NaN</td>\n",
       "      <td>NaN</td>\n",
       "      <td>NaN</td>\n",
       "      <td>NaN</td>\n",
       "      <td>119.54</td>\n",
       "      <td>NaN</td>\n",
       "      <td>NaN</td>\n",
       "      <td>NaN</td>\n",
       "      <td>NaN</td>\n",
       "      <td>...</td>\n",
       "      <td>NaN</td>\n",
       "      <td>NaN</td>\n",
       "      <td>NaN</td>\n",
       "      <td>NaN</td>\n",
       "      <td>NaN</td>\n",
       "      <td>206.97</td>\n",
       "      <td>NaN</td>\n",
       "      <td>120.29</td>\n",
       "      <td>NaN</td>\n",
       "      <td>NaN</td>\n",
       "    </tr>\n",
       "    <tr>\n",
       "      <th>30</th>\n",
       "      <td>2010</td>\n",
       "      <td>NaN</td>\n",
       "      <td>NaN</td>\n",
       "      <td>NaN</td>\n",
       "      <td>NaN</td>\n",
       "      <td>85.02</td>\n",
       "      <td>NaN</td>\n",
       "      <td>NaN</td>\n",
       "      <td>NaN</td>\n",
       "      <td>NaN</td>\n",
       "      <td>...</td>\n",
       "      <td>NaN</td>\n",
       "      <td>NaN</td>\n",
       "      <td>NaN</td>\n",
       "      <td>NaN</td>\n",
       "      <td>NaN</td>\n",
       "      <td>127.95</td>\n",
       "      <td>NaN</td>\n",
       "      <td>170.03</td>\n",
       "      <td>NaN</td>\n",
       "      <td>NaN</td>\n",
       "    </tr>\n",
       "    <tr>\n",
       "      <th>31</th>\n",
       "      <td>2011</td>\n",
       "      <td>NaN</td>\n",
       "      <td>NaN</td>\n",
       "      <td>63.20</td>\n",
       "      <td>NaN</td>\n",
       "      <td>26.18</td>\n",
       "      <td>NaN</td>\n",
       "      <td>NaN</td>\n",
       "      <td>NaN</td>\n",
       "      <td>NaN</td>\n",
       "      <td>...</td>\n",
       "      <td>NaN</td>\n",
       "      <td>NaN</td>\n",
       "      <td>NaN</td>\n",
       "      <td>NaN</td>\n",
       "      <td>NaN</td>\n",
       "      <td>59.65</td>\n",
       "      <td>NaN</td>\n",
       "      <td>143.84</td>\n",
       "      <td>NaN</td>\n",
       "      <td>NaN</td>\n",
       "    </tr>\n",
       "    <tr>\n",
       "      <th>32</th>\n",
       "      <td>2012</td>\n",
       "      <td>NaN</td>\n",
       "      <td>NaN</td>\n",
       "      <td>51.36</td>\n",
       "      <td>NaN</td>\n",
       "      <td>11.01</td>\n",
       "      <td>NaN</td>\n",
       "      <td>NaN</td>\n",
       "      <td>NaN</td>\n",
       "      <td>NaN</td>\n",
       "      <td>...</td>\n",
       "      <td>NaN</td>\n",
       "      <td>NaN</td>\n",
       "      <td>NaN</td>\n",
       "      <td>NaN</td>\n",
       "      <td>NaN</td>\n",
       "      <td>21.71</td>\n",
       "      <td>17.56</td>\n",
       "      <td>99.74</td>\n",
       "      <td>NaN</td>\n",
       "      <td>NaN</td>\n",
       "    </tr>\n",
       "    <tr>\n",
       "      <th>33</th>\n",
       "      <td>2013</td>\n",
       "      <td>NaN</td>\n",
       "      <td>NaN</td>\n",
       "      <td>56.57</td>\n",
       "      <td>NaN</td>\n",
       "      <td>1.54</td>\n",
       "      <td>NaN</td>\n",
       "      <td>NaN</td>\n",
       "      <td>NaN</td>\n",
       "      <td>NaN</td>\n",
       "      <td>...</td>\n",
       "      <td>NaN</td>\n",
       "      <td>NaN</td>\n",
       "      <td>NaN</td>\n",
       "      <td>NaN</td>\n",
       "      <td>NaN</td>\n",
       "      <td>8.59</td>\n",
       "      <td>21.65</td>\n",
       "      <td>88.58</td>\n",
       "      <td>NaN</td>\n",
       "      <td>18.96</td>\n",
       "    </tr>\n",
       "    <tr>\n",
       "      <th>34</th>\n",
       "      <td>2014</td>\n",
       "      <td>NaN</td>\n",
       "      <td>NaN</td>\n",
       "      <td>43.76</td>\n",
       "      <td>NaN</td>\n",
       "      <td>NaN</td>\n",
       "      <td>NaN</td>\n",
       "      <td>NaN</td>\n",
       "      <td>NaN</td>\n",
       "      <td>NaN</td>\n",
       "      <td>...</td>\n",
       "      <td>NaN</td>\n",
       "      <td>NaN</td>\n",
       "      <td>NaN</td>\n",
       "      <td>NaN</td>\n",
       "      <td>NaN</td>\n",
       "      <td>3.75</td>\n",
       "      <td>22.03</td>\n",
       "      <td>34.74</td>\n",
       "      <td>NaN</td>\n",
       "      <td>54.07</td>\n",
       "    </tr>\n",
       "    <tr>\n",
       "      <th>35</th>\n",
       "      <td>2015</td>\n",
       "      <td>NaN</td>\n",
       "      <td>NaN</td>\n",
       "      <td>27.78</td>\n",
       "      <td>NaN</td>\n",
       "      <td>NaN</td>\n",
       "      <td>NaN</td>\n",
       "      <td>NaN</td>\n",
       "      <td>NaN</td>\n",
       "      <td>NaN</td>\n",
       "      <td>...</td>\n",
       "      <td>NaN</td>\n",
       "      <td>NaN</td>\n",
       "      <td>NaN</td>\n",
       "      <td>NaN</td>\n",
       "      <td>NaN</td>\n",
       "      <td>1.14</td>\n",
       "      <td>16.35</td>\n",
       "      <td>11.96</td>\n",
       "      <td>NaN</td>\n",
       "      <td>60.14</td>\n",
       "    </tr>\n",
       "    <tr>\n",
       "      <th>36</th>\n",
       "      <td>2016</td>\n",
       "      <td>NaN</td>\n",
       "      <td>NaN</td>\n",
       "      <td>15.14</td>\n",
       "      <td>NaN</td>\n",
       "      <td>NaN</td>\n",
       "      <td>NaN</td>\n",
       "      <td>NaN</td>\n",
       "      <td>NaN</td>\n",
       "      <td>NaN</td>\n",
       "      <td>...</td>\n",
       "      <td>NaN</td>\n",
       "      <td>NaN</td>\n",
       "      <td>NaN</td>\n",
       "      <td>NaN</td>\n",
       "      <td>NaN</td>\n",
       "      <td>0.18</td>\n",
       "      <td>4.60</td>\n",
       "      <td>1.52</td>\n",
       "      <td>NaN</td>\n",
       "      <td>26.15</td>\n",
       "    </tr>\n",
       "  </tbody>\n",
       "</table>\n",
       "<p>37 rows × 32 columns</p>\n",
       "</div>"
      ],
      "text/plain": [
       "platform  year_of_release   2600   3DO    3DS    DC      DS     GB    GBA  \\\n",
       "0                    1980  11.38   NaN    NaN   NaN     NaN    NaN    NaN   \n",
       "1                    1981  35.68   NaN    NaN   NaN     NaN    NaN    NaN   \n",
       "2                    1982  28.88   NaN    NaN   NaN     NaN    NaN    NaN   \n",
       "3                    1983   5.84   NaN    NaN   NaN     NaN    NaN    NaN   \n",
       "4                    1984   0.27   NaN    NaN   NaN     NaN    NaN    NaN   \n",
       "5                    1985   0.45   NaN    NaN   NaN    0.02    NaN    NaN   \n",
       "6                    1986   0.67   NaN    NaN   NaN     NaN    NaN    NaN   \n",
       "7                    1987   1.94   NaN    NaN   NaN     NaN    NaN    NaN   \n",
       "8                    1988   0.74   NaN    NaN   NaN     NaN   1.43    NaN   \n",
       "9                    1989   0.63   NaN    NaN   NaN     NaN  64.97    NaN   \n",
       "10                   1990    NaN   NaN    NaN   NaN     NaN   4.89    NaN   \n",
       "11                   1991    NaN   NaN    NaN   NaN     NaN   5.57    NaN   \n",
       "12                   1992    NaN   NaN    NaN   NaN     NaN  25.49    NaN   \n",
       "13                   1993    NaN   NaN    NaN   NaN     NaN    NaN    NaN   \n",
       "14                   1994    NaN  0.02    NaN   NaN     NaN  12.18    NaN   \n",
       "15                   1995    NaN  0.08    NaN   NaN     NaN   3.60    NaN   \n",
       "16                   1996    NaN   NaN    NaN   NaN     NaN  36.03    NaN   \n",
       "17                   1997    NaN   NaN    NaN   NaN     NaN   6.37    NaN   \n",
       "18                   1998    NaN   NaN    NaN  3.38     NaN  26.90    NaN   \n",
       "19                   1999    NaN   NaN    NaN  5.16     NaN  38.00    NaN   \n",
       "20                   2000    NaN   NaN    NaN  5.99     NaN  19.76   0.07   \n",
       "21                   2001    NaN   NaN    NaN  1.07     NaN   9.24  61.53   \n",
       "22                   2002    NaN   NaN    NaN  0.29     NaN    NaN  74.16   \n",
       "23                   2003    NaN   NaN    NaN   NaN     NaN    NaN  56.67   \n",
       "24                   2004    NaN   NaN    NaN   NaN   17.27    NaN  77.91   \n",
       "25                   2005    NaN   NaN    NaN   NaN  130.14    NaN  33.86   \n",
       "26                   2006    NaN   NaN    NaN   NaN  119.81    NaN   5.28   \n",
       "27                   2007    NaN   NaN    NaN  0.02  146.94    NaN   3.40   \n",
       "28                   2008    NaN   NaN    NaN  0.04  145.31    NaN    NaN   \n",
       "29                   2009    NaN   NaN    NaN   NaN  119.54    NaN    NaN   \n",
       "30                   2010    NaN   NaN    NaN   NaN   85.02    NaN    NaN   \n",
       "31                   2011    NaN   NaN  63.20   NaN   26.18    NaN    NaN   \n",
       "32                   2012    NaN   NaN  51.36   NaN   11.01    NaN    NaN   \n",
       "33                   2013    NaN   NaN  56.57   NaN    1.54    NaN    NaN   \n",
       "34                   2014    NaN   NaN  43.76   NaN     NaN    NaN    NaN   \n",
       "35                   2015    NaN   NaN  27.78   NaN     NaN    NaN    NaN   \n",
       "36                   2016    NaN   NaN  15.14   NaN     NaN    NaN    NaN   \n",
       "\n",
       "platform     GC    GEN  ...    SAT   SCD   SNES  TG16    WS     Wii   WiiU  \\\n",
       "0           NaN    NaN  ...    NaN   NaN    NaN   NaN   NaN     NaN    NaN   \n",
       "1           NaN    NaN  ...    NaN   NaN    NaN   NaN   NaN     NaN    NaN   \n",
       "2           NaN    NaN  ...    NaN   NaN    NaN   NaN   NaN     NaN    NaN   \n",
       "3           NaN    NaN  ...    NaN   NaN    NaN   NaN   NaN     NaN    NaN   \n",
       "4           NaN    NaN  ...    NaN   NaN    NaN   NaN   NaN     NaN    NaN   \n",
       "5           NaN    NaN  ...    NaN   NaN    NaN   NaN   NaN     NaN    NaN   \n",
       "6           NaN    NaN  ...    NaN   NaN    NaN   NaN   NaN     NaN    NaN   \n",
       "7           NaN    NaN  ...    NaN   NaN    NaN   NaN   NaN     NaN    NaN   \n",
       "8           NaN    NaN  ...    NaN   NaN    NaN   NaN   NaN     NaN    NaN   \n",
       "9           NaN    NaN  ...    NaN   NaN    NaN   NaN   NaN     NaN    NaN   \n",
       "10          NaN   2.60  ...    NaN   NaN  26.15   NaN   NaN     NaN    NaN   \n",
       "11          NaN   4.33  ...    NaN   NaN  16.22   NaN   NaN     NaN    NaN   \n",
       "12          NaN  12.64  ...    NaN   NaN  32.98   NaN   NaN     NaN    NaN   \n",
       "13          NaN   0.65  ...    NaN  1.50  40.02   NaN   NaN     NaN    NaN   \n",
       "14          NaN   8.13  ...   3.65  0.36  35.08   NaN   NaN     NaN    NaN   \n",
       "15          NaN    NaN  ...  11.57   NaN  32.20  0.16   NaN     NaN    NaN   \n",
       "16          NaN    NaN  ...   7.69   NaN  15.92   NaN   NaN     NaN    NaN   \n",
       "17          NaN    NaN  ...   6.77   NaN   0.99   NaN   NaN     NaN    NaN   \n",
       "18          NaN    NaN  ...   3.82   NaN   0.22   NaN   NaN     NaN    NaN   \n",
       "19          NaN    NaN  ...   0.09   NaN   0.26   NaN  0.46     NaN    NaN   \n",
       "20          NaN    NaN  ...    NaN   NaN    NaN   NaN  0.68     NaN    NaN   \n",
       "21        26.34    NaN  ...    NaN   NaN    NaN   NaN  0.28     NaN    NaN   \n",
       "22        51.81    NaN  ...    NaN   NaN    NaN   NaN   NaN     NaN    NaN   \n",
       "23        50.61    NaN  ...    NaN   NaN    NaN   NaN   NaN     NaN    NaN   \n",
       "24        28.82    NaN  ...    NaN   NaN    NaN   NaN   NaN     NaN    NaN   \n",
       "25        27.62    NaN  ...    NaN   NaN    NaN   NaN   NaN     NaN    NaN   \n",
       "26        11.26    NaN  ...    NaN   NaN    NaN   NaN   NaN  137.15    NaN   \n",
       "27         0.27    NaN  ...    NaN   NaN    NaN   NaN   NaN  152.77    NaN   \n",
       "28          NaN    NaN  ...    NaN   NaN    NaN   NaN   NaN  171.32    NaN   \n",
       "29          NaN    NaN  ...    NaN   NaN    NaN   NaN   NaN  206.97    NaN   \n",
       "30          NaN    NaN  ...    NaN   NaN    NaN   NaN   NaN  127.95    NaN   \n",
       "31          NaN    NaN  ...    NaN   NaN    NaN   NaN   NaN   59.65    NaN   \n",
       "32          NaN    NaN  ...    NaN   NaN    NaN   NaN   NaN   21.71  17.56   \n",
       "33          NaN    NaN  ...    NaN   NaN    NaN   NaN   NaN    8.59  21.65   \n",
       "34          NaN    NaN  ...    NaN   NaN    NaN   NaN   NaN    3.75  22.03   \n",
       "35          NaN    NaN  ...    NaN   NaN    NaN   NaN   NaN    1.14  16.35   \n",
       "36          NaN    NaN  ...    NaN   NaN    NaN   NaN   NaN    0.18   4.60   \n",
       "\n",
       "platform    X360     XB   XOne  \n",
       "0            NaN    NaN    NaN  \n",
       "1            NaN    NaN    NaN  \n",
       "2            NaN    NaN    NaN  \n",
       "3            NaN    NaN    NaN  \n",
       "4            NaN    NaN    NaN  \n",
       "5            NaN    NaN    NaN  \n",
       "6            NaN    NaN    NaN  \n",
       "7            NaN    NaN    NaN  \n",
       "8            NaN    NaN    NaN  \n",
       "9            NaN    NaN    NaN  \n",
       "10           NaN    NaN    NaN  \n",
       "11           NaN    NaN    NaN  \n",
       "12           NaN    NaN    NaN  \n",
       "13           NaN    NaN    NaN  \n",
       "14           NaN    NaN    NaN  \n",
       "15           NaN    NaN    NaN  \n",
       "16           NaN    NaN    NaN  \n",
       "17           NaN    NaN    NaN  \n",
       "18           NaN    NaN    NaN  \n",
       "19           NaN    NaN    NaN  \n",
       "20           NaN   0.99    NaN  \n",
       "21           NaN  22.26    NaN  \n",
       "22           NaN  48.01    NaN  \n",
       "23           NaN  55.04    NaN  \n",
       "24           NaN  65.42    NaN  \n",
       "25          8.25  49.08    NaN  \n",
       "26         51.62  10.04    NaN  \n",
       "27         95.41   0.55    NaN  \n",
       "28        135.26   0.18    NaN  \n",
       "29        120.29    NaN    NaN  \n",
       "30        170.03    NaN    NaN  \n",
       "31        143.84    NaN    NaN  \n",
       "32         99.74    NaN    NaN  \n",
       "33         88.58    NaN  18.96  \n",
       "34         34.74    NaN  54.07  \n",
       "35         11.96    NaN  60.14  \n",
       "36          1.52    NaN  26.15  \n",
       "\n",
       "[37 rows x 32 columns]"
      ]
     },
     "execution_count": 33,
     "metadata": {},
     "output_type": "execute_result"
    }
   ],
   "source": [
    "dataplatformsaletearlyall = (pd.pivot_table(data[data['platform']\n",
    "                        .isin(dataplatformsale.index.values)], \n",
    "                        values='sales_regions', columns='platform', index='year_of_release', aggfunc=\"sum\").reset_index())\n",
    "\n",
    "dataplatformsaletearlyall"
   ]
  },
  {
   "cell_type": "code",
   "execution_count": 34,
   "metadata": {},
   "outputs": [
    {
     "data": {
      "image/png": "[encoded data removed]",
      "text/plain": [
       "<Figure size 432x288 with 1 Axes>"
      ]
     },
     "metadata": {},
     "output_type": "display_data"
    }
   ],
   "source": [
    "dataplatformsaletearlyall[dataplatformsaletearlyall['year_of_release'] > 2012].dropna(axis=1, how='all').plot(x = 'year_of_release', xlabel='Года', ylabel='Выручка', title='Распределение платформ по годам')\n",
    "plt.show()"
   ]
  },
  {
   "cell_type": "markdown",
   "metadata": {},
   "source": [
    "В целом все платформы идут на спад или уже перестали существовать. Но можно выделить потенциально прибыльные платформы на 2017 год PS4, XOne."
   ]
  },
  {
   "cell_type": "markdown",
   "metadata": {},
   "source": [
    "### Построем график «ящик с усами» по глобальным продажам игр в разбивке по платформам."
   ]
  },
  {
   "cell_type": "code",
   "execution_count": 35,
   "metadata": {},
   "outputs": [
    {
     "name": "stderr",
     "output_type": "stream",
     "text": [
      "E:\\Apps\\anacondas\\lib\\site-packages\\matplotlib\\cbook\\__init__.py:1420: VisibleDeprecationWarning: Creating an ndarray from ragged nested sequences (which is a list-or-tuple of lists-or-tuples-or ndarrays with different lengths or shapes) is deprecated. If you meant to do this, you must specify 'dtype=object' when creating the ndarray.\n",
      "  X = np.atleast_1d(X.T if isinstance(X, np.ndarray) else np.asarray(X))\n"
     ]
    },
    {
     "data": {
      "image/png": "[encoded data removed]",
      "text/plain": [
       "<Figure size 432x288 with 1 Axes>"
      ]
     },
     "metadata": {},
     "output_type": "display_data"
    }
   ],
   "source": [
    "data[data['platform'].isin(pd.pivot_table(data[data['year_of_release']>2012], values='sales_regions', index='platform', aggfunc=\"sum\").sort_values(by='sales_regions', ascending=False).head(6).index) & (data['year_of_release'] > 2012)].boxplot(column='sales_regions', by='platform').set(\n",
    "    title = 'Глобальные продажи по платформам', xlabel = 'Платформы', ylabel = 'Продажи')\n",
    "plt.ylim(0, 1.75)\n",
    "plt.suptitle('')\n",
    "plt.show()"
   ]
  },
  {
   "cell_type": "markdown",
   "metadata": {},
   "source": [
    "Судя по медиане и дисперсии больще всего заработали игры X360. Меньше всего 3DS."
   ]
  },
  {
   "cell_type": "markdown",
   "metadata": {},
   "source": [
    "### Посмотрим, как влияют на продажи внутри одной популярной платформы отзывы пользователей и критиков. Построим диаграмму рассеяния и посчитаем корреляцию между отзывами и продажами."
   ]
  },
  {
   "cell_type": "code",
   "execution_count": 36,
   "metadata": {},
   "outputs": [
    {
     "name": "stderr",
     "output_type": "stream",
     "text": [
      "'c' argument looks like a single numeric RGB or RGBA sequence, which should be avoided as value-mapping will have precedence in case its length matches with 'x' & 'y'.  Please use a 2-D array with a single row if you really want to specify the same RGB or RGBA value for all points.\n"
     ]
    },
    {
     "data": {
      "image/png": "[encoded data removed]",
      "text/plain": [
       "<Figure size 432x288 with 1 Axes>"
      ]
     },
     "metadata": {},
     "output_type": "display_data"
    }
   ],
   "source": [
    "data[(data['platform']=='X360') & (data['year_of_release']>2012)].dropna().plot(x='critic_score', y='sales_regions', kind='scatter').set(\n",
    "    title = 'Взаимосвязь оценки критиков и выручки X360', xlabel = 'Оценка критиков', ylabel = 'Выручка')\n",
    "plt.ylim(0,10)\n",
    "plt.show()\n"
   ]
  },
  {
   "cell_type": "markdown",
   "metadata": {},
   "source": [
    "Видно ,что на высоких прибылях, с увеличением выручки, увеличивается оценка критиков. Но при этом у игр с низкой выручкой оценки сильно разнятся от минимальной к максимальной."
   ]
  },
  {
   "cell_type": "code",
   "execution_count": 37,
   "metadata": {},
   "outputs": [
    {
     "name": "stderr",
     "output_type": "stream",
     "text": [
      "'c' argument looks like a single numeric RGB or RGBA sequence, which should be avoided as value-mapping will have precedence in case its length matches with 'x' & 'y'.  Please use a 2-D array with a single row if you really want to specify the same RGB or RGBA value for all points.\n"
     ]
    },
    {
     "data": {
      "image/png": "[encoded data removed]",
      "text/plain": [
       "<Figure size 432x288 with 1 Axes>"
      ]
     },
     "metadata": {},
     "output_type": "display_data"
    }
   ],
   "source": [
    "data[(data['platform']=='X360') & (data['year_of_release']>2012)].dropna().plot(x='user_score', y='sales_regions', kind='scatter').set(\n",
    "    title = 'Взаимосвязь оценки пользователей и выручки X360', xlabel = 'Оценка пользователей', ylabel = 'Выручка')\n",
    "plt.ylim(0,10)\n",
    "plt.show()\n"
   ]
  },
  {
   "cell_type": "markdown",
   "metadata": {},
   "source": [
    "Здесь мы видим больше выбросов, что даже при высокой выручке, пользователи могут оценить игру не очень хорошо, но в целом картина такая же на высоких прибылях, с увеличением выручки увеличивается и оценка, а на низких прибылях оценки разннобразные."
   ]
  },
  {
   "cell_type": "code",
   "execution_count": 38,
   "metadata": {},
   "outputs": [
    {
     "data": {
      "text/plain": [
       "[Text(0.5, 1, 'Взаимосвязь оценки критиков и выручки X360')]"
      ]
     },
     "execution_count": 38,
     "metadata": {},
     "output_type": "execute_result"
    },
    {
     "data": {
      "image/png": "[encoded data removed]",
      "text/plain": [
       "<Figure size 432x288 with 2 Axes>"
      ]
     },
     "metadata": {},
     "output_type": "display_data"
    }
   ],
   "source": [
    "sns.heatmap(data[(data['platform']=='X360') & (data['year_of_release']>2012)][['sales_regions', 'critic_score','user_score']].corr(),annot=True).set(\n",
    "    title = 'Взаимосвязь оценки критиков и выручки X360')\n"
   ]
  },
  {
   "cell_type": "markdown",
   "metadata": {},
   "source": [
    "Корреляция между оценками критиков и выручкой выше, чем корреляция между оценкой пользователей и выручкой.корреляция между оценкой пользователей и выручкой отрицательна, значит она обратно прорциональна. Но корреляция довольно-таки низкая, нельзя сказать, что эти две величины сильно зависимы."
   ]
  },
  {
   "cell_type": "markdown",
   "metadata": {},
   "source": [
    "### Соотнесем выводы с продажами игр на других платформах."
   ]
  },
  {
   "cell_type": "code",
   "execution_count": 39,
   "metadata": {},
   "outputs": [],
   "source": [
    "def print_graf(platform):\n",
    "    data[(data['platform']=='PS3') & (data['year_of_release']>2012)]\n",
    "    data[(data['platform']==platform)& (data['year_of_release']>2012)].dropna().plot(x='critic_score', y='sales_regions', kind='scatter').set(\n",
    "    title = 'Взаимосвязь оценки критиков и выручки ' + platform, xlabel = 'Оценка критиков', ylabel = 'Выручка')\n",
    "    data[(data['platform']==platform)& (data['year_of_release']>2012)].dropna().plot(x='user_score', y='sales_regions', kind='scatter').set(\n",
    "    title = 'Взаимосвязь оценки пользователей и выручки ' + platform, xlabel = 'Оценка пользователей', ylabel = 'Выручка')\n",
    "    \n",
    "    plt.ylim(0,10)\n",
    "    \n",
    "    plt.show()\n",
    "\n",
    "    \n",
    "def print_graf2(platform):\n",
    "    sns.heatmap(data[(data['platform']== platform) & (data['year_of_release']>2012)][['sales_regions', 'critic_score','user_score']].corr(),annot=True).set(\n",
    "    title = 'Взаимосвязь оценки критиков и выручки ' + platform)\n",
    "    plt.show()\n"
   ]
  },
  {
   "cell_type": "markdown",
   "metadata": {},
   "source": [
    "<div class=\"alert alert-block alert-success\">\n",
    "<b>✅Комментарий ревьюера:</b> Молодец, что написала функции! Их можно объединить в одну </div>"
   ]
  },
  {
   "cell_type": "code",
   "execution_count": 40,
   "metadata": {},
   "outputs": [
    {
     "name": "stderr",
     "output_type": "stream",
     "text": [
      "'c' argument looks like a single numeric RGB or RGBA sequence, which should be avoided as value-mapping will have precedence in case its length matches with 'x' & 'y'.  Please use a 2-D array with a single row if you really want to specify the same RGB or RGBA value for all points.\n",
      "'c' argument looks like a single numeric RGB or RGBA sequence, which should be avoided as value-mapping will have precedence in case its length matches with 'x' & 'y'.  Please use a 2-D array with a single row if you really want to specify the same RGB or RGBA value for all points.\n"
     ]
    },
    {
     "data": {
      "image/png": "[encoded data removed]",
      "text/plain": [
       "<Figure size 432x288 with 1 Axes>"
      ]
     },
     "metadata": {},
     "output_type": "display_data"
    },
    {
     "data": {
      "image/png": "[encoded data removed]",
      "text/plain": [
       "<Figure size 432x288 with 1 Axes>"
      ]
     },
     "metadata": {},
     "output_type": "display_data"
    },
    {
     "data": {
      "image/png": "[encoded data removed]",
      "text/plain": [
       "<Figure size 432x288 with 2 Axes>"
      ]
     },
     "metadata": {},
     "output_type": "display_data"
    }
   ],
   "source": [
    "platform = 'XOne'\n",
    "print_graf(platform)\n",
    "print_graf2(platform)"
   ]
  },
  {
   "cell_type": "code",
   "execution_count": 41,
   "metadata": {},
   "outputs": [
    {
     "name": "stderr",
     "output_type": "stream",
     "text": [
      "'c' argument looks like a single numeric RGB or RGBA sequence, which should be avoided as value-mapping will have precedence in case its length matches with 'x' & 'y'.  Please use a 2-D array with a single row if you really want to specify the same RGB or RGBA value for all points.\n",
      "'c' argument looks like a single numeric RGB or RGBA sequence, which should be avoided as value-mapping will have precedence in case its length matches with 'x' & 'y'.  Please use a 2-D array with a single row if you really want to specify the same RGB or RGBA value for all points.\n"
     ]
    },
    {
     "data": {
      "image/png": "[encoded data removed]",
      "text/plain": [
       "<Figure size 432x288 with 1 Axes>"
      ]
     },
     "metadata": {},
     "output_type": "display_data"
    },
    {
     "data": {
      "image/png": "[encoded data removed]",
      "text/plain": [
       "<Figure size 432x288 with 1 Axes>"
      ]
     },
     "metadata": {},
     "output_type": "display_data"
    },
    {
     "data": {
      "image/png": "[encoded data removed]",
      "text/plain": [
       "<Figure size 432x288 with 2 Axes>"
      ]
     },
     "metadata": {},
     "output_type": "display_data"
    }
   ],
   "source": [
    "platform = 'PS4'\n",
    "print_graf(platform)\n",
    "print_graf2(platform)"
   ]
  },
  {
   "cell_type": "code",
   "execution_count": 42,
   "metadata": {},
   "outputs": [
    {
     "name": "stderr",
     "output_type": "stream",
     "text": [
      "'c' argument looks like a single numeric RGB or RGBA sequence, which should be avoided as value-mapping will have precedence in case its length matches with 'x' & 'y'.  Please use a 2-D array with a single row if you really want to specify the same RGB or RGBA value for all points.\n",
      "'c' argument looks like a single numeric RGB or RGBA sequence, which should be avoided as value-mapping will have precedence in case its length matches with 'x' & 'y'.  Please use a 2-D array with a single row if you really want to specify the same RGB or RGBA value for all points.\n"
     ]
    },
    {
     "data": {
      "image/png": "[encoded data removed]",
      "text/plain": [
       "<Figure size 432x288 with 1 Axes>"
      ]
     },
     "metadata": {},
     "output_type": "display_data"
    },
    {
     "data": {
      "image/png": "[encoded data removed]",
      "text/plain": [
       "<Figure size 432x288 with 1 Axes>"
      ]
     },
     "metadata": {},
     "output_type": "display_data"
    },
    {
     "data": {
      "image/png": "[encoded data removed]",
      "text/plain": [
       "<Figure size 432x288 with 2 Axes>"
      ]
     },
     "metadata": {},
     "output_type": "display_data"
    }
   ],
   "source": [
    "platform = 'WiiU'\n",
    "print_graf(platform)\n",
    "print_graf2(platform)"
   ]
  },
  {
   "cell_type": "code",
   "execution_count": 43,
   "metadata": {},
   "outputs": [
    {
     "name": "stderr",
     "output_type": "stream",
     "text": [
      "'c' argument looks like a single numeric RGB or RGBA sequence, which should be avoided as value-mapping will have precedence in case its length matches with 'x' & 'y'.  Please use a 2-D array with a single row if you really want to specify the same RGB or RGBA value for all points.\n",
      "'c' argument looks like a single numeric RGB or RGBA sequence, which should be avoided as value-mapping will have precedence in case its length matches with 'x' & 'y'.  Please use a 2-D array with a single row if you really want to specify the same RGB or RGBA value for all points.\n"
     ]
    },
    {
     "data": {
      "image/png": "[encoded data removed]",
      "text/plain": [
       "<Figure size 432x288 with 1 Axes>"
      ]
     },
     "metadata": {},
     "output_type": "display_data"
    },
    {
     "data": {
      "image/png": "[encoded data removed]",
      "text/plain": [
       "<Figure size 432x288 with 1 Axes>"
      ]
     },
     "metadata": {},
     "output_type": "display_data"
    },
    {
     "data": {
      "image/png": "[encoded data removed]",
      "text/plain": [
       "<Figure size 432x288 with 2 Axes>"
      ]
     },
     "metadata": {},
     "output_type": "display_data"
    }
   ],
   "source": [
    "platform = 'PS3'\n",
    "\n",
    "print_graf(platform)\n",
    "print_graf2(platform)\n"
   ]
  },
  {
   "cell_type": "code",
   "execution_count": 44,
   "metadata": {},
   "outputs": [
    {
     "name": "stderr",
     "output_type": "stream",
     "text": [
      "'c' argument looks like a single numeric RGB or RGBA sequence, which should be avoided as value-mapping will have precedence in case its length matches with 'x' & 'y'.  Please use a 2-D array with a single row if you really want to specify the same RGB or RGBA value for all points.\n",
      "'c' argument looks like a single numeric RGB or RGBA sequence, which should be avoided as value-mapping will have precedence in case its length matches with 'x' & 'y'.  Please use a 2-D array with a single row if you really want to specify the same RGB or RGBA value for all points.\n"
     ]
    },
    {
     "data": {
      "image/png": "[encoded data removed]",
      "text/plain": [
       "<Figure size 432x288 with 1 Axes>"
      ]
     },
     "metadata": {},
     "output_type": "display_data"
    },
    {
     "data": {
      "image/png": "[encoded data removed]",
      "text/plain": [
       "<Figure size 432x288 with 1 Axes>"
      ]
     },
     "metadata": {},
     "output_type": "display_data"
    },
    {
     "data": {
      "image/png": "[encoded data removed]",
      "text/plain": [
       "<Figure size 432x288 with 2 Axes>"
      ]
     },
     "metadata": {},
     "output_type": "display_data"
    }
   ],
   "source": [
    "platform = '3DS'\n",
    "\n",
    "print_graf(platform)\n",
    "print_graf2(platform)"
   ]
  },
  {
   "cell_type": "markdown",
   "metadata": {},
   "source": [
    "X360,XOne,PS4, PS3 - корреляция оценок критиков с выручкой выше, чем корреляция оценок пользователей с вручкой. Корреляция оценок критиков с выручкой прямо пропорциональна. Чем выше выручка, тем выше оценка критиков. Корреляция оценок пользователей с вручкой очень низкая, можно сказать, что взаимосвязи нет.\n",
    "\n",
    "Выделилась платформа WiiU оценка критиков и оценка пользователей возрастает пропорциально прибыли.Оценка пользователей с прибылью имеет большую корреляцию чем оценка критиков с прибылью.\n",
    "\n",
    "платформа 3DS оценка критиков и оценка пользователей возрастает пропорциально прибыли.Оценка пользователей с прибылью имеет большую корреляцию чем оценка критиков с прибылью."
   ]
  },
  {
   "cell_type": "markdown",
   "metadata": {},
   "source": [
    "### Посмотрим на общее распределение игр по жанрам."
   ]
  },
  {
   "cell_type": "code",
   "execution_count": 45,
   "metadata": {
    "scrolled": true
   },
   "outputs": [
    {
     "name": "stderr",
     "output_type": "stream",
     "text": [
      "E:\\Apps\\anacondas\\lib\\site-packages\\matplotlib\\cbook\\__init__.py:1420: VisibleDeprecationWarning: Creating an ndarray from ragged nested sequences (which is a list-or-tuple of lists-or-tuples-or ndarrays with different lengths or shapes) is deprecated. If you meant to do this, you must specify 'dtype=object' when creating the ndarray.\n",
      "  X = np.atleast_1d(X.T if isinstance(X, np.ndarray) else np.asarray(X))\n"
     ]
    },
    {
     "data": {
      "image/png": "[encoded data removed]",
      "text/plain": [
       "<Figure size 432x288 with 1 Axes>"
      ]
     },
     "metadata": {},
     "output_type": "display_data"
    }
   ],
   "source": [
    "data[data['genre'].isin(pd.pivot_table(data[data['year_of_release']>2012], values='sales_regions', index='genre', aggfunc=\"sum\").sort_values(by='sales_regions', ascending=False).head(6).index.values)].boxplot(column='sales_regions', by='genre').set(title = 'Глобальные продажи по жанрам', xlabel = 'Жанры', ylabel = 'Продажи')\n",
    "plt.ylim(0, 1)\n",
    "plt.suptitle('')\n",
    "plt.show()"
   ]
  },
  {
   "cell_type": "markdown",
   "metadata": {},
   "source": [
    "Самые высокие подажи в жанре Platform и Shooter.Меньше всего продаж в Misc.\n",
    "\n",
    "Вывод.\n",
    "\n",
    "Больше всего игра выпускалось в 2007,2008 годах, меньше всего - в 1980, 1983, 1984, 1985, 1987, 1988.\n",
    "\n",
    "Появляются игры на платформах и возврастают в продажах примерно за 4-6 лет, постепенно падают продажи и платформы уходят 4-6 лет.\n",
    "\n",
    "Потенциально прибыльные платформы на 2017 год PS4, XOne.\n",
    "\n",
    "Больше всего заработали игры на платформах X360, в жанре Platform и Shooter. Меньше всего - на платформе 3DS, в жанре Misc.\n",
    "\n",
    "Для всех платформ справедливо, что кореляция оценок критиков с выручкой выше, чем корреляция оценок пользователей с вручкой потому что даже при высокой выручке, пользователи могут оценить игру не очень хорошо.\n",
    "\n",
    "X360,XOne,PS4, PS3 - корреляция оценок критиков с выручкой выше, чем корреляция оценок пользователей с вручкой. Корреляция оценок критиков с выручкой прямо пропорциональна. Чем выше выручка, тем выше оценка критиков. Корреляция оценок пользователей с вручкой очень низкая, можно сказать, что взаимосвязи нет.\n",
    "\n",
    "Выделилась платформа WiiU оценка критиков и оценка пользователей возрастает пропорциально прибыли.Оценка пользователей с прибылью имеет большую корреляцию чем оценка критиков с прибылью.\n",
    "\n",
    "Платформа 3DS оценка критиков и оценка пользователей возрастает пропорциально прибыли.Оценка пользователей с прибылью имеет большую корреляцию чем оценка критиков с прибылью.\n",
    "\n",
    "Примерный срок жизни платформ 11 лет."
   ]
  },
  {
   "cell_type": "markdown",
   "metadata": {},
   "source": [
    "## Шаг 4. Составим портрет пользователя каждого региона."
   ]
  },
  {
   "cell_type": "markdown",
   "metadata": {},
   "source": [
    "### Самые популярные платформы (топ-5)."
   ]
  },
  {
   "cell_type": "code",
   "execution_count": 46,
   "metadata": {},
   "outputs": [],
   "source": [
    "countries = ['na_sales', 'eu_sales', 'jp_sales']\n",
    "def graf(typegraf):\n",
    "    fig, ax = plt.subplots(1, 3, figsize=(15, 5))\n",
    "    if typegraf=='platform':\n",
    "        fig.suptitle('ТОП-5 платформ в регионах')\n",
    "    else:\n",
    "        fig.suptitle('ТОП-5 жанров в регионах')\n",
    "    for i, country in enumerate(countries):\n",
    "\n",
    "        # выделим топ платформ\n",
    "        full_sales = data[data['year_of_release']>2012][country].sum()\n",
    "        data_country = data[data['year_of_release']>2012].groupby(typegraf)[country].sum().reset_index().sort_values(country, ascending = False, ignore_index = True).head(5)\n",
    "        # добавим все сотальные платформы, чтобы потом посчитать долю\n",
    "        data_country[country] = data_country[country] / full_sales\n",
    "        ax[i].bar(height = data_country[country], x = data_country[typegraf])\n",
    "        ax[i].set_title(country.split('_')[0].upper())\n",
    "        if typegraf=='platform':\n",
    "            ax[i].set_xlabel('Платформы')\n",
    "        else:\n",
    "            ax[i].set_xlabel('Жанры')\n",
    "        ax[i].set_ylabel('Продажи')\n",
    "\n",
    "    plt.show()"
   ]
  },
  {
   "cell_type": "code",
   "execution_count": 47,
   "metadata": {
    "scrolled": false
   },
   "outputs": [
    {
     "data": {
      "image/png": "[encoded data removed]",
      "text/plain": [
       "<Figure size 1080x360 with 3 Axes>"
      ]
     },
     "metadata": {},
     "output_type": "display_data"
    },
    {
     "name": "stdout",
     "output_type": "stream",
     "text": [
      "None\n"
     ]
    },
    {
     "data": {
      "image/png": "[encoded data removed]",
      "text/plain": [
       "<Figure size 1080x360 with 3 Axes>"
      ]
     },
     "metadata": {},
     "output_type": "display_data"
    },
    {
     "name": "stdout",
     "output_type": "stream",
     "text": [
      "None\n"
     ]
    }
   ],
   "source": [
    "print(graf('platform'))\n",
    "print(graf('genre'))\n"
   ]
  },
  {
   "cell_type": "markdown",
   "metadata": {},
   "source": [
    "В северной Америке больше всего продаж на платформе PS4, в Европе - PS4, В Японии - 3DS.\n",
    "По жанрам в Америке и Европе популярен - Action, в Японии - Role_Playing."
   ]
  },
  {
   "cell_type": "code",
   "execution_count": 48,
   "metadata": {},
   "outputs": [],
   "source": [
    "def graf_reiting(sales):\n",
    "    data.groupby(by= 'rating', dropna = False)[sales].mean().plot.bar().set(title = 'Взаимосвязь рейтинга и выручки', xlabel = 'Рейтинг', ylabel = 'Выручка')\n",
    "    plt.show()\n",
    "    \n",
    "  \n",
    "    \n"
   ]
  },
  {
   "cell_type": "code",
   "execution_count": 49,
   "metadata": {},
   "outputs": [
    {
     "name": "stdout",
     "output_type": "stream",
     "text": [
      "Северная Америка\n"
     ]
    },
    {
     "data": {
      "image/png": "[encoded data removed]",
      "text/plain": [
       "<Figure size 432x288 with 1 Axes>"
      ]
     },
     "metadata": {},
     "output_type": "display_data"
    }
   ],
   "source": [
    "print('Северная Америка')\n",
    "graf_reiting('na_sales')"
   ]
  },
  {
   "cell_type": "code",
   "execution_count": 50,
   "metadata": {},
   "outputs": [
    {
     "name": "stdout",
     "output_type": "stream",
     "text": [
      "Европа\n"
     ]
    },
    {
     "data": {
      "image/png": "[encoded data removed]",
      "text/plain": [
       "<Figure size 432x288 with 1 Axes>"
      ]
     },
     "metadata": {},
     "output_type": "display_data"
    }
   ],
   "source": [
    "print('Европа')\n",
    "graf_reiting('eu_sales')"
   ]
  },
  {
   "cell_type": "code",
   "execution_count": 51,
   "metadata": {},
   "outputs": [
    {
     "name": "stdout",
     "output_type": "stream",
     "text": [
      "Япония\n"
     ]
    },
    {
     "data": {
      "image/png": "[encoded data removed]",
      "text/plain": [
       "<Figure size 432x288 with 1 Axes>"
      ]
     },
     "metadata": {},
     "output_type": "display_data"
    }
   ],
   "source": [
    "print('Япония')\n",
    "graf_reiting('jp_sales')"
   ]
  },
  {
   "cell_type": "markdown",
   "metadata": {},
   "source": [
    "В Северной Америке и Европе самая высокая выручка с рейтингом только для взрослых. В Японии - для всех."
   ]
  },
  {
   "cell_type": "markdown",
   "metadata": {},
   "source": [
    "Вывод.\n",
    "\n",
    "В Северной Америке больше всего продаж на платформе PS4, жанр Action с рейтингом только для взрослых.\n",
    "\n",
    "В Европе больше всего продаж на платформе PS4 жанр Action с рейтингом только для взрослых.\n",
    "\n",
    "В Японии больше всего продаж на платформе 3DS, жанр Role_Playing для всех.\n"
   ]
  },
  {
   "cell_type": "markdown",
   "metadata": {},
   "source": [
    "## Шаг 5. Проверим гипотезы."
   ]
  },
  {
   "cell_type": "markdown",
   "metadata": {},
   "source": [
    "### Средние пользовательские рейтинги платформ Xbox One и PC одинаковые."
   ]
  },
  {
   "cell_type": "markdown",
   "metadata": {},
   "source": [
    "Нулевая гипотеза: средние пользовательские рейтинги платформ Xbox One и PC равны.\n",
    "\n",
    "Альтернативная гипотеза: средние пользовательские рейтинги платформ Xbox One и PC не равны."
   ]
  },
  {
   "cell_type": "code",
   "execution_count": 52,
   "metadata": {},
   "outputs": [
    {
     "name": "stdout",
     "output_type": "stream",
     "text": [
      "p-значение: 0.14759594013430463\n",
      "Не получилось отвергнуть нулевую гипотезу\n"
     ]
    }
   ],
   "source": [
    "results = st.ttest_ind(data[data['year_of_release'] > 2012].query('platform == \"XOne\"')['user_score'].dropna(), data[data['year_of_release'] > 2012].query('platform == \"PC\"')['user_score'].dropna(), equal_var=False)\n",
    "\n",
    "alpha = 0.05\n",
    "print('p-значение:', results.pvalue)\n",
    "\n",
    "if results.pvalue < alpha:\n",
    "    print(\"Отвергаем нулевую гипотезу\")\n",
    "else:\n",
    "    print(\"Не получилось отвергнуть нулевую гипотезу\")"
   ]
  },
  {
   "cell_type": "markdown",
   "metadata": {},
   "source": [
    "Нулевая гипотеза: средние пользовательские рейтинги платформ Xbox One и PC равны."
   ]
  },
  {
   "cell_type": "markdown",
   "metadata": {},
   "source": [
    "### Средние пользовательские рейтинги жанров Action (англ. «действие», экшен-игры) и Sports (англ. «спортивные соревнования») разные."
   ]
  },
  {
   "cell_type": "markdown",
   "metadata": {},
   "source": [
    "Нулевая гипотеза: cредние пользовательские рейтинги жанров Action (англ. «действие», экшен-игры) и Sports (англ. «спортивные соревнования»)  равны.\n",
    "\n",
    "Альтернативная гипотеза: cредние пользовательские рейтинги жанров Action (англ. «действие», экшен-игры) и Sports (англ. «спортивные соревнования») не равны."
   ]
  },
  {
   "cell_type": "code",
   "execution_count": 53,
   "metadata": {},
   "outputs": [
    {
     "name": "stdout",
     "output_type": "stream",
     "text": [
      "p-значение: 1.4460039700704318e-20\n",
      "Отвергаем нулевую гипотезу\n"
     ]
    }
   ],
   "source": [
    "results = st.ttest_ind(data[data['year_of_release'] > 2012].query('genre == \"Action\"')['user_score'].dropna(), data[data['year_of_release'] > 2012].query('genre == \"Sports\"')['user_score'].dropna(), equal_var=False)\n",
    "\n",
    "alpha = 0.05\n",
    "print('p-значение:', results.pvalue)\n",
    "\n",
    "if results.pvalue < alpha:\n",
    "    print(\"Отвергаем нулевую гипотезу\")\n",
    "else:\n",
    "    print(\"Не получилось отвергнуть нулевую гипотезу\")"
   ]
  },
  {
   "cell_type": "markdown",
   "metadata": {},
   "source": [
    "Альтернативная гипотеза: cредние пользовательские рейтинги жанров Action (англ. «действие», экшен-игры) и Sports (англ. «спортивные соревнования») не равны."
   ]
  },
  {
   "cell_type": "markdown",
   "metadata": {},
   "source": [
    "Вывод.\n",
    "\n",
    "Средние пользовательские рейтинги платформ Xbox One и PC равны, Средние пользовательские рейтинги жанров Action (англ. «действие», экшен-игры) и Sports (англ. «спортивные соревнования») не равны. Применили двухсторонний критерий, потому что все что больше или меньше заданного среднего значения в промежутке, то и является не равным."
   ]
  },
  {
   "cell_type": "markdown",
   "metadata": {},
   "source": [
    "## Шаг 6. Напишите общий вывод"
   ]
  },
  {
   "cell_type": "markdown",
   "metadata": {},
   "source": [
    "Исследование об интернет-магазине «Стримчик» началось с предобработки данных.\n",
    "\n",
    "Мы удалили пропуски в столбцах name, year_of_release, genre.Удалили один неявный дубликат. Добавили столбец с общей суммой продаж -sales_regions.\n",
    "year_of_release(год выпуска) перевели в целочисленный тип, user_score(оценка пользователей) - object - перевели в числовой объект с плавающей точкой.\n",
    "\n",
    "В таблице представлены игры на 31 платформе,12 жанров, выделены 3 страны и другие страны объденены в один столбец. С 1985 по 2016 год.\n",
    "\n",
    "Больше всего игр выпускалось в 2007,2008 годах, меньше всего - в 1980, 1983, 1984, 1985, 1987, 1988.\n",
    "\n",
    "Появляются игры на платформах и возврастают в продажах примерно за 4-6 лет, постепенно падают продажи и платформы уходят 4-6 лет.\n",
    "\n",
    "Примерный срок жизни платформ 11 лет.\n",
    "\n",
    "Потенциально прибыльные платформы на 2017 год PS4, XOne.\n",
    "\n",
    "Больше всего заработали игры на платформах X360, в жанре Platform и Shooter. Меньше всего - на платформе 3DS, в жанре Misc.\n",
    "\n",
    "X360,XOne,PS4, PS3 - корреляция оценок критиков с выручкой выше, чем корреляция оценок пользователей с вручкой. Корреляция оценок критиков с выручкой прямо пропорциональна. Чем выше выручка, тем выше оценка критиков. Корреляция оценок пользователей с вручкой очень низкая, можно сказать, что взаимосвязи нет.\n",
    "\n",
    "Выделилась платформа WiiU оценка критиков и оценка пользователей возрастает пропорциально прибыли.Оценка пользователей с прибылью имеет большую корреляцию чем оценка критиков с прибылью.\n",
    "\n",
    "Платформа 3DS оценка критиков и оценка пользователей возрастает пропорциально прибыли.Оценка пользователей с прибылью имеет большую корреляцию чем оценка критиков с прибылью.\n",
    "\n",
    "В Северной Америке больше всего продаж на платформе PS4, жанр Action с рейтингом только для взрослых.\n",
    "\n",
    "В Европе больше всего продаж на платформе PS4 жанр Action с рейтингом только для взрослых.\n",
    "\n",
    "В Японии больше всего продаж на платформе 3DS, жанр Role_Playing для всех.\n",
    "\n",
    "Вы проверили 2 гипотезы и установили:\n",
    "\n",
    "* средние пользовательские рейтинги платформ Xbox One и PC равны.\n",
    "\n",
    "* cредние пользовательские рейтинги жанров Action (англ. «действие», экшен-игры) и Sports (англ. «спортивные соревнования») не равны.\n",
    "\n",
    "Рекомендации для маркетинга.\n",
    "\n",
    "Потенциально прибыльные игры на платформах PS4, XOne, в жанре Platform и Shooter для взрослых или для всех возрастов."
   ]
  }
 ],
 "metadata": {
  "ExecuteTimeLog": [
   {
    "duration": 1254,
    "start_time": "2023-10-30T10:32:52.432Z"
   },
   {
    "duration": 95,
    "start_time": "2023-10-30T10:36:09.775Z"
   },
   {
    "duration": 57,
    "start_time": "2023-10-30T11:20:55.029Z"
   },
   {
    "duration": 25,
    "start_time": "2023-10-30T11:26:05.241Z"
   },
   {
    "duration": 13,
    "start_time": "2023-10-30T11:26:34.403Z"
   },
   {
    "duration": 3,
    "start_time": "2023-10-30T13:00:21.419Z"
   },
   {
    "duration": 5,
    "start_time": "2023-10-30T13:02:52.600Z"
   },
   {
    "duration": 91,
    "start_time": "2023-10-30T13:10:00.590Z"
   },
   {
    "duration": 5,
    "start_time": "2023-10-30T13:10:10.023Z"
   },
   {
    "duration": 3,
    "start_time": "2023-10-30T13:10:16.954Z"
   },
   {
    "duration": 3,
    "start_time": "2023-10-30T14:19:31.188Z"
   },
   {
    "duration": 55,
    "start_time": "2023-10-30T14:19:32.667Z"
   },
   {
    "duration": 12,
    "start_time": "2023-10-30T14:19:33.625Z"
   },
   {
    "duration": 12,
    "start_time": "2023-10-30T14:19:35.221Z"
   },
   {
    "duration": 8,
    "start_time": "2023-10-30T14:19:40.592Z"
   },
   {
    "duration": 7,
    "start_time": "2023-10-30T14:19:47.060Z"
   },
   {
    "duration": 8,
    "start_time": "2023-10-30T14:20:31.060Z"
   },
   {
    "duration": 4,
    "start_time": "2023-10-30T14:21:07.067Z"
   },
   {
    "duration": 7,
    "start_time": "2023-10-30T14:21:20.126Z"
   },
   {
    "duration": 4,
    "start_time": "2023-10-30T14:22:05.212Z"
   },
   {
    "duration": 4,
    "start_time": "2023-10-30T14:22:24.348Z"
   },
   {
    "duration": 5,
    "start_time": "2023-10-30T14:22:58.971Z"
   },
   {
    "duration": 3,
    "start_time": "2023-10-30T14:23:06.053Z"
   },
   {
    "duration": 4,
    "start_time": "2023-10-30T14:23:09.965Z"
   },
   {
    "duration": 4,
    "start_time": "2023-10-30T14:23:42.764Z"
   },
   {
    "duration": 12,
    "start_time": "2023-10-30T14:31:26.559Z"
   },
   {
    "duration": 16,
    "start_time": "2023-10-30T14:43:34.604Z"
   },
   {
    "duration": 18,
    "start_time": "2023-10-30T14:44:13.987Z"
   },
   {
    "duration": 15,
    "start_time": "2023-10-30T14:44:48.604Z"
   },
   {
    "duration": 23,
    "start_time": "2023-10-30T14:45:53.668Z"
   },
   {
    "duration": 9,
    "start_time": "2023-10-30T14:46:52.165Z"
   },
   {
    "duration": 4,
    "start_time": "2023-10-30T14:47:16.373Z"
   },
   {
    "duration": 7,
    "start_time": "2023-10-30T15:21:33.268Z"
   },
   {
    "duration": 9,
    "start_time": "2023-10-30T15:22:21.818Z"
   },
   {
    "duration": 7,
    "start_time": "2023-10-30T15:22:28.813Z"
   },
   {
    "duration": 3,
    "start_time": "2023-10-30T15:22:49.164Z"
   },
   {
    "duration": 4,
    "start_time": "2023-10-30T15:22:55.962Z"
   },
   {
    "duration": 7,
    "start_time": "2023-10-30T15:30:30.143Z"
   },
   {
    "duration": 7,
    "start_time": "2023-10-30T15:30:53.227Z"
   },
   {
    "duration": 15,
    "start_time": "2023-10-30T15:31:46.593Z"
   },
   {
    "duration": 8,
    "start_time": "2023-10-30T15:37:42.642Z"
   },
   {
    "duration": 4,
    "start_time": "2023-10-30T15:43:20.087Z"
   },
   {
    "duration": 13,
    "start_time": "2023-10-30T15:44:43.357Z"
   },
   {
    "duration": 15,
    "start_time": "2023-10-30T15:44:53.550Z"
   },
   {
    "duration": 17,
    "start_time": "2023-10-30T15:45:02.047Z"
   },
   {
    "duration": 5,
    "start_time": "2023-10-30T15:45:05.241Z"
   },
   {
    "duration": 7,
    "start_time": "2023-10-30T16:23:54.293Z"
   },
   {
    "duration": 7,
    "start_time": "2023-10-30T16:24:13.476Z"
   },
   {
    "duration": 8,
    "start_time": "2023-10-30T16:24:40.037Z"
   },
   {
    "duration": 10,
    "start_time": "2023-10-30T16:25:27.338Z"
   },
   {
    "duration": 10,
    "start_time": "2023-10-30T16:25:30.844Z"
   },
   {
    "duration": 9,
    "start_time": "2023-10-30T16:25:36.556Z"
   },
   {
    "duration": 8,
    "start_time": "2023-10-30T16:25:44.021Z"
   },
   {
    "duration": 8,
    "start_time": "2023-10-30T16:25:49.591Z"
   },
   {
    "duration": 10,
    "start_time": "2023-10-30T16:25:57.525Z"
   },
   {
    "duration": 5,
    "start_time": "2023-10-30T16:26:08.470Z"
   },
   {
    "duration": 1501,
    "start_time": "2023-10-30T16:26:34.172Z"
   },
   {
    "duration": 18,
    "start_time": "2023-10-30T16:26:44.276Z"
   },
   {
    "duration": 71,
    "start_time": "2023-10-30T16:31:10.660Z"
   },
   {
    "duration": 17,
    "start_time": "2023-10-30T16:31:16.573Z"
   },
   {
    "duration": 6,
    "start_time": "2023-10-30T16:31:57.128Z"
   },
   {
    "duration": 7,
    "start_time": "2023-10-30T16:32:16.112Z"
   },
   {
    "duration": 47,
    "start_time": "2023-10-30T17:04:44.710Z"
   },
   {
    "duration": 23,
    "start_time": "2023-10-30T17:04:59.751Z"
   },
   {
    "duration": 9,
    "start_time": "2023-10-30T17:05:13.996Z"
   },
   {
    "duration": 7,
    "start_time": "2023-10-30T17:05:52.566Z"
   },
   {
    "duration": 21,
    "start_time": "2023-10-30T17:07:49.944Z"
   },
   {
    "duration": 8,
    "start_time": "2023-10-30T17:08:00.928Z"
   },
   {
    "duration": 16,
    "start_time": "2023-10-30T17:08:14.392Z"
   },
   {
    "duration": 6,
    "start_time": "2023-10-30T17:08:31.502Z"
   },
   {
    "duration": 21,
    "start_time": "2023-10-30T17:35:39.496Z"
   },
   {
    "duration": 9,
    "start_time": "2023-10-30T17:35:47.960Z"
   },
   {
    "duration": 8,
    "start_time": "2023-10-30T17:36:01.091Z"
   },
   {
    "duration": 9,
    "start_time": "2023-10-30T17:38:19.549Z"
   },
   {
    "duration": 47,
    "start_time": "2023-10-30T17:59:03.655Z"
   },
   {
    "duration": 2996,
    "start_time": "2023-10-30T17:59:22.204Z"
   },
   {
    "duration": 57,
    "start_time": "2023-10-30T17:59:48.056Z"
   },
   {
    "duration": 50,
    "start_time": "2023-10-30T17:59:48.115Z"
   },
   {
    "duration": 11,
    "start_time": "2023-10-30T17:59:48.167Z"
   },
   {
    "duration": 14,
    "start_time": "2023-10-30T17:59:48.180Z"
   },
   {
    "duration": 4,
    "start_time": "2023-10-30T17:59:48.196Z"
   },
   {
    "duration": 12,
    "start_time": "2023-10-30T17:59:48.202Z"
   },
   {
    "duration": 22,
    "start_time": "2023-10-30T17:59:48.215Z"
   },
   {
    "duration": 23,
    "start_time": "2023-10-30T17:59:48.238Z"
   },
   {
    "duration": 6,
    "start_time": "2023-10-30T17:59:48.262Z"
   },
   {
    "duration": 13,
    "start_time": "2023-10-30T17:59:48.269Z"
   },
   {
    "duration": 33,
    "start_time": "2023-10-30T17:59:48.284Z"
   },
   {
    "duration": 25,
    "start_time": "2023-10-30T17:59:48.318Z"
   },
   {
    "duration": 32,
    "start_time": "2023-10-30T17:59:48.345Z"
   },
   {
    "duration": 13,
    "start_time": "2023-10-30T18:00:44.907Z"
   },
   {
    "duration": 2,
    "start_time": "2023-10-30T18:01:24.669Z"
   },
   {
    "duration": 3,
    "start_time": "2023-10-30T18:01:32.069Z"
   },
   {
    "duration": 8,
    "start_time": "2023-10-30T18:01:56.341Z"
   },
   {
    "duration": 982,
    "start_time": "2023-10-30T18:02:03.763Z"
   },
   {
    "duration": 941,
    "start_time": "2023-10-30T18:02:07.469Z"
   },
   {
    "duration": 948,
    "start_time": "2023-10-30T18:02:15.869Z"
   },
   {
    "duration": 8,
    "start_time": "2023-10-30T18:03:38.861Z"
   },
   {
    "duration": 559,
    "start_time": "2023-10-30T18:03:46.885Z"
   },
   {
    "duration": 6,
    "start_time": "2023-10-30T18:34:15.367Z"
   },
   {
    "duration": 6,
    "start_time": "2023-10-30T18:34:46.488Z"
   },
   {
    "duration": 7,
    "start_time": "2023-10-30T18:35:52.961Z"
   },
   {
    "duration": 6,
    "start_time": "2023-10-30T18:36:18.496Z"
   },
   {
    "duration": 10,
    "start_time": "2023-10-30T18:39:04.435Z"
   },
   {
    "duration": 13,
    "start_time": "2023-10-30T21:52:27.437Z"
   },
   {
    "duration": 13,
    "start_time": "2023-10-30T21:53:03.317Z"
   },
   {
    "duration": 1533,
    "start_time": "2023-10-31T09:20:03.631Z"
   },
   {
    "duration": 0,
    "start_time": "2023-10-31T09:20:05.166Z"
   },
   {
    "duration": 0,
    "start_time": "2023-10-31T09:20:05.167Z"
   },
   {
    "duration": 0,
    "start_time": "2023-10-31T09:20:05.168Z"
   },
   {
    "duration": 0,
    "start_time": "2023-10-31T09:20:05.169Z"
   },
   {
    "duration": 0,
    "start_time": "2023-10-31T09:20:05.170Z"
   },
   {
    "duration": 0,
    "start_time": "2023-10-31T09:20:05.171Z"
   },
   {
    "duration": 0,
    "start_time": "2023-10-31T09:20:05.173Z"
   },
   {
    "duration": 0,
    "start_time": "2023-10-31T09:20:05.174Z"
   },
   {
    "duration": 0,
    "start_time": "2023-10-31T09:20:05.175Z"
   },
   {
    "duration": 0,
    "start_time": "2023-10-31T09:20:05.176Z"
   },
   {
    "duration": 0,
    "start_time": "2023-10-31T09:20:05.177Z"
   },
   {
    "duration": 0,
    "start_time": "2023-10-31T09:20:05.178Z"
   },
   {
    "duration": 0,
    "start_time": "2023-10-31T09:20:05.179Z"
   },
   {
    "duration": 0,
    "start_time": "2023-10-31T09:20:05.202Z"
   },
   {
    "duration": 0,
    "start_time": "2023-10-31T09:20:05.205Z"
   },
   {
    "duration": 0,
    "start_time": "2023-10-31T09:20:05.206Z"
   },
   {
    "duration": 0,
    "start_time": "2023-10-31T09:20:05.207Z"
   },
   {
    "duration": 0,
    "start_time": "2023-10-31T09:20:05.208Z"
   },
   {
    "duration": 3074,
    "start_time": "2023-10-31T09:20:44.433Z"
   },
   {
    "duration": 2307,
    "start_time": "2023-10-31T09:20:54.513Z"
   },
   {
    "duration": 64,
    "start_time": "2023-10-31T09:20:56.822Z"
   },
   {
    "duration": 103,
    "start_time": "2023-10-31T09:20:56.887Z"
   },
   {
    "duration": 21,
    "start_time": "2023-10-31T09:20:56.991Z"
   },
   {
    "duration": 16,
    "start_time": "2023-10-31T09:20:57.015Z"
   },
   {
    "duration": 22,
    "start_time": "2023-10-31T09:20:57.033Z"
   },
   {
    "duration": 11,
    "start_time": "2023-10-31T09:20:57.057Z"
   },
   {
    "duration": 19,
    "start_time": "2023-10-31T09:20:57.070Z"
   },
   {
    "duration": 22,
    "start_time": "2023-10-31T09:20:57.090Z"
   },
   {
    "duration": 5,
    "start_time": "2023-10-31T09:20:57.113Z"
   },
   {
    "duration": 28,
    "start_time": "2023-10-31T09:20:57.119Z"
   },
   {
    "duration": 24,
    "start_time": "2023-10-31T09:20:57.149Z"
   },
   {
    "duration": 10,
    "start_time": "2023-10-31T09:20:57.174Z"
   },
   {
    "duration": 8,
    "start_time": "2023-10-31T09:20:57.187Z"
   },
   {
    "duration": 1101,
    "start_time": "2023-10-31T09:20:57.197Z"
   },
   {
    "duration": 615,
    "start_time": "2023-10-31T09:20:58.300Z"
   },
   {
    "duration": 11,
    "start_time": "2023-10-31T09:20:58.917Z"
   },
   {
    "duration": 15,
    "start_time": "2023-10-31T09:20:58.930Z"
   },
   {
    "duration": 34,
    "start_time": "2023-10-31T09:20:58.947Z"
   },
   {
    "duration": 83,
    "start_time": "2023-10-31T09:20:58.982Z"
   },
   {
    "duration": 3,
    "start_time": "2023-10-31T09:45:07.114Z"
   },
   {
    "duration": 239,
    "start_time": "2023-10-31T09:45:07.994Z"
   },
   {
    "duration": 284,
    "start_time": "2023-10-31T09:45:28.914Z"
   },
   {
    "duration": 3,
    "start_time": "2023-10-31T09:45:50.914Z"
   },
   {
    "duration": 244,
    "start_time": "2023-10-31T09:45:51.492Z"
   },
   {
    "duration": 2386,
    "start_time": "2023-10-31T09:46:00.202Z"
   },
   {
    "duration": 4,
    "start_time": "2023-10-31T09:46:02.590Z"
   },
   {
    "duration": 157,
    "start_time": "2023-10-31T09:46:02.595Z"
   },
   {
    "duration": 15,
    "start_time": "2023-10-31T09:46:02.755Z"
   },
   {
    "duration": 62,
    "start_time": "2023-10-31T09:46:02.772Z"
   },
   {
    "duration": 87,
    "start_time": "2023-10-31T09:46:02.835Z"
   },
   {
    "duration": 86,
    "start_time": "2023-10-31T09:46:02.924Z"
   },
   {
    "duration": 63,
    "start_time": "2023-10-31T09:46:03.011Z"
   },
   {
    "duration": 40,
    "start_time": "2023-10-31T09:46:03.076Z"
   },
   {
    "duration": 24,
    "start_time": "2023-10-31T09:46:03.117Z"
   },
   {
    "duration": 45,
    "start_time": "2023-10-31T09:46:03.142Z"
   },
   {
    "duration": 29,
    "start_time": "2023-10-31T09:46:03.189Z"
   },
   {
    "duration": 35,
    "start_time": "2023-10-31T09:46:03.221Z"
   },
   {
    "duration": 21,
    "start_time": "2023-10-31T09:46:03.259Z"
   },
   {
    "duration": 1105,
    "start_time": "2023-10-31T09:46:03.281Z"
   },
   {
    "duration": 635,
    "start_time": "2023-10-31T09:46:04.388Z"
   },
   {
    "duration": 11,
    "start_time": "2023-10-31T09:46:05.025Z"
   },
   {
    "duration": 182,
    "start_time": "2023-10-31T09:46:05.037Z"
   },
   {
    "duration": 90,
    "start_time": "2023-10-31T09:46:05.221Z"
   },
   {
    "duration": 41,
    "start_time": "2023-10-31T09:46:05.313Z"
   },
   {
    "duration": 312,
    "start_time": "2023-10-31T09:46:05.356Z"
   },
   {
    "duration": 2287,
    "start_time": "2023-10-31T09:49:18.730Z"
   },
   {
    "duration": 4,
    "start_time": "2023-10-31T09:49:21.019Z"
   },
   {
    "duration": 78,
    "start_time": "2023-10-31T09:49:21.024Z"
   },
   {
    "duration": 20,
    "start_time": "2023-10-31T09:49:21.104Z"
   },
   {
    "duration": 95,
    "start_time": "2023-10-31T09:49:21.127Z"
   },
   {
    "duration": 24,
    "start_time": "2023-10-31T09:49:21.224Z"
   },
   {
    "duration": 58,
    "start_time": "2023-10-31T09:49:21.249Z"
   },
   {
    "duration": 59,
    "start_time": "2023-10-31T09:49:21.308Z"
   },
   {
    "duration": 61,
    "start_time": "2023-10-31T09:49:21.369Z"
   },
   {
    "duration": 38,
    "start_time": "2023-10-31T09:49:21.432Z"
   },
   {
    "duration": 60,
    "start_time": "2023-10-31T09:49:21.471Z"
   },
   {
    "duration": 69,
    "start_time": "2023-10-31T09:49:21.533Z"
   },
   {
    "duration": 46,
    "start_time": "2023-10-31T09:49:21.604Z"
   },
   {
    "duration": 44,
    "start_time": "2023-10-31T09:49:21.653Z"
   },
   {
    "duration": 1184,
    "start_time": "2023-10-31T09:49:21.699Z"
   },
   {
    "duration": 687,
    "start_time": "2023-10-31T09:49:22.885Z"
   },
   {
    "duration": 11,
    "start_time": "2023-10-31T09:49:23.574Z"
   },
   {
    "duration": 46,
    "start_time": "2023-10-31T09:49:23.587Z"
   },
   {
    "duration": 23,
    "start_time": "2023-10-31T09:49:23.635Z"
   },
   {
    "duration": 39,
    "start_time": "2023-10-31T09:49:23.660Z"
   },
   {
    "duration": 244,
    "start_time": "2023-10-31T09:49:23.701Z"
   },
   {
    "duration": 26,
    "start_time": "2023-10-31T09:50:00.595Z"
   },
   {
    "duration": 23,
    "start_time": "2023-10-31T09:50:14.684Z"
   },
   {
    "duration": 6,
    "start_time": "2023-10-31T09:50:16.153Z"
   },
   {
    "duration": 7,
    "start_time": "2023-10-31T09:50:17.571Z"
   },
   {
    "duration": 19,
    "start_time": "2023-10-31T09:50:21.661Z"
   },
   {
    "duration": 19,
    "start_time": "2023-10-31T09:50:47.893Z"
   },
   {
    "duration": 6,
    "start_time": "2023-10-31T09:50:53.627Z"
   },
   {
    "duration": 8,
    "start_time": "2023-10-31T09:50:58.371Z"
   },
   {
    "duration": 20,
    "start_time": "2023-10-31T09:51:38.619Z"
   },
   {
    "duration": 252,
    "start_time": "2023-10-31T09:52:07.485Z"
   },
   {
    "duration": 15,
    "start_time": "2023-10-31T09:53:46.629Z"
   },
   {
    "duration": 5,
    "start_time": "2023-10-31T09:54:48.989Z"
   },
   {
    "duration": 26,
    "start_time": "2023-10-31T09:55:06.141Z"
   },
   {
    "duration": 8,
    "start_time": "2023-10-31T09:55:48.871Z"
   },
   {
    "duration": 185,
    "start_time": "2023-10-31T09:56:13.821Z"
   },
   {
    "duration": 159,
    "start_time": "2023-10-31T09:57:11.869Z"
   },
   {
    "duration": 14,
    "start_time": "2023-10-31T09:59:12.314Z"
   },
   {
    "duration": 189,
    "start_time": "2023-10-31T09:59:20.217Z"
   },
   {
    "duration": 313,
    "start_time": "2023-10-31T09:59:28.975Z"
   },
   {
    "duration": 7,
    "start_time": "2023-10-31T09:59:57.344Z"
   },
   {
    "duration": 226,
    "start_time": "2023-10-31T10:00:05.011Z"
   },
   {
    "duration": 216,
    "start_time": "2023-10-31T10:03:35.041Z"
   },
   {
    "duration": 168,
    "start_time": "2023-10-31T10:06:47.321Z"
   },
   {
    "duration": 249,
    "start_time": "2023-10-31T10:06:54.697Z"
   },
   {
    "duration": 172,
    "start_time": "2023-10-31T10:12:39.211Z"
   },
   {
    "duration": 297,
    "start_time": "2023-10-31T10:12:57.659Z"
   },
   {
    "duration": 235,
    "start_time": "2023-10-31T10:13:39.172Z"
   },
   {
    "duration": 195,
    "start_time": "2023-10-31T10:17:47.613Z"
   },
   {
    "duration": 343,
    "start_time": "2023-10-31T10:21:11.734Z"
   },
   {
    "duration": 194,
    "start_time": "2023-10-31T10:22:44.942Z"
   },
   {
    "duration": 190,
    "start_time": "2023-10-31T10:23:33.696Z"
   },
   {
    "duration": 4,
    "start_time": "2023-10-31T11:17:32.278Z"
   },
   {
    "duration": 16,
    "start_time": "2023-10-31T11:17:43.863Z"
   },
   {
    "duration": 18,
    "start_time": "2023-10-31T11:18:07.318Z"
   },
   {
    "duration": 17,
    "start_time": "2023-10-31T11:18:15.934Z"
   },
   {
    "duration": 18,
    "start_time": "2023-10-31T11:18:20.790Z"
   },
   {
    "duration": 17,
    "start_time": "2023-10-31T11:18:30.039Z"
   },
   {
    "duration": 15,
    "start_time": "2023-10-31T11:18:52.991Z"
   },
   {
    "duration": 16,
    "start_time": "2023-10-31T11:19:20.735Z"
   },
   {
    "duration": 16,
    "start_time": "2023-10-31T11:27:47.768Z"
   },
   {
    "duration": 16,
    "start_time": "2023-10-31T11:28:16.144Z"
   },
   {
    "duration": 76,
    "start_time": "2023-10-31T11:41:33.355Z"
   },
   {
    "duration": 21,
    "start_time": "2023-10-31T11:41:39.600Z"
   },
   {
    "duration": 3407,
    "start_time": "2023-10-31T11:44:33.667Z"
   },
   {
    "duration": 1413,
    "start_time": "2023-10-31T12:21:26.371Z"
   },
   {
    "duration": 14,
    "start_time": "2023-10-31T12:22:06.627Z"
   },
   {
    "duration": 160,
    "start_time": "2023-10-31T12:30:26.021Z"
   },
   {
    "duration": 138,
    "start_time": "2023-10-31T12:30:56.190Z"
   },
   {
    "duration": 144,
    "start_time": "2023-10-31T12:33:24.322Z"
   },
   {
    "duration": 137,
    "start_time": "2023-10-31T12:34:06.066Z"
   },
   {
    "duration": 3590,
    "start_time": "2023-10-31T12:34:25.613Z"
   },
   {
    "duration": 22,
    "start_time": "2023-10-31T12:36:56.385Z"
   },
   {
    "duration": 27,
    "start_time": "2023-10-31T12:37:18.682Z"
   },
   {
    "duration": 2334,
    "start_time": "2023-10-31T12:37:48.554Z"
   },
   {
    "duration": 4,
    "start_time": "2023-10-31T12:37:50.891Z"
   },
   {
    "duration": 70,
    "start_time": "2023-10-31T12:37:50.896Z"
   },
   {
    "duration": 15,
    "start_time": "2023-10-31T12:37:50.968Z"
   },
   {
    "duration": 23,
    "start_time": "2023-10-31T12:37:50.986Z"
   },
   {
    "duration": 5,
    "start_time": "2023-10-31T12:37:51.011Z"
   },
   {
    "duration": 50,
    "start_time": "2023-10-31T12:37:51.017Z"
   },
   {
    "duration": 26,
    "start_time": "2023-10-31T12:37:51.069Z"
   },
   {
    "duration": 27,
    "start_time": "2023-10-31T12:37:51.097Z"
   },
   {
    "duration": 5,
    "start_time": "2023-10-31T12:37:51.126Z"
   },
   {
    "duration": 50,
    "start_time": "2023-10-31T12:37:51.133Z"
   },
   {
    "duration": 63,
    "start_time": "2023-10-31T12:37:51.185Z"
   },
   {
    "duration": 22,
    "start_time": "2023-10-31T12:37:51.250Z"
   },
   {
    "duration": 12,
    "start_time": "2023-10-31T12:37:51.276Z"
   },
   {
    "duration": 1083,
    "start_time": "2023-10-31T12:37:51.290Z"
   },
   {
    "duration": 642,
    "start_time": "2023-10-31T12:37:52.375Z"
   },
   {
    "duration": 12,
    "start_time": "2023-10-31T12:37:53.018Z"
   },
   {
    "duration": 14,
    "start_time": "2023-10-31T12:37:53.031Z"
   },
   {
    "duration": 39,
    "start_time": "2023-10-31T12:37:53.047Z"
   },
   {
    "duration": 3,
    "start_time": "2023-10-31T12:37:53.087Z"
   },
   {
    "duration": 279,
    "start_time": "2023-10-31T12:37:53.092Z"
   },
   {
    "duration": 240,
    "start_time": "2023-10-31T12:37:53.373Z"
   },
   {
    "duration": 220,
    "start_time": "2023-10-31T12:37:53.615Z"
   },
   {
    "duration": 16,
    "start_time": "2023-10-31T12:37:53.837Z"
   },
   {
    "duration": 25,
    "start_time": "2023-10-31T12:37:57.835Z"
   },
   {
    "duration": 21,
    "start_time": "2023-10-31T12:38:49.834Z"
   },
   {
    "duration": 24,
    "start_time": "2023-10-31T12:39:07.674Z"
   },
   {
    "duration": 57,
    "start_time": "2023-10-31T12:39:25.185Z"
   },
   {
    "duration": 15,
    "start_time": "2023-10-31T12:39:44.859Z"
   },
   {
    "duration": 56,
    "start_time": "2023-10-31T12:40:11.571Z"
   },
   {
    "duration": 829,
    "start_time": "2023-10-31T12:40:30.455Z"
   },
   {
    "duration": 8,
    "start_time": "2023-10-31T12:41:14.348Z"
   },
   {
    "duration": 4,
    "start_time": "2023-10-31T12:41:22.639Z"
   },
   {
    "duration": 5,
    "start_time": "2023-10-31T12:41:31.380Z"
   },
   {
    "duration": 12,
    "start_time": "2023-10-31T12:42:08.307Z"
   },
   {
    "duration": 14,
    "start_time": "2023-10-31T12:42:22.467Z"
   },
   {
    "duration": 14,
    "start_time": "2023-10-31T12:42:29.075Z"
   },
   {
    "duration": 5,
    "start_time": "2023-10-31T12:42:39.356Z"
   },
   {
    "duration": 13,
    "start_time": "2023-10-31T12:43:34.613Z"
   },
   {
    "duration": 14,
    "start_time": "2023-10-31T12:44:13.938Z"
   },
   {
    "duration": 13,
    "start_time": "2023-10-31T12:45:02.468Z"
   },
   {
    "duration": 25,
    "start_time": "2023-10-31T12:45:48.548Z"
   },
   {
    "duration": 38,
    "start_time": "2023-10-31T12:46:02.606Z"
   },
   {
    "duration": 399,
    "start_time": "2023-10-31T12:46:18.029Z"
   },
   {
    "duration": 1600,
    "start_time": "2023-10-31T12:47:17.085Z"
   },
   {
    "duration": 1303,
    "start_time": "2023-10-31T12:47:30.918Z"
   },
   {
    "duration": 11,
    "start_time": "2023-10-31T12:48:47.759Z"
   },
   {
    "duration": 11,
    "start_time": "2023-10-31T12:48:57.613Z"
   },
   {
    "duration": 5,
    "start_time": "2023-10-31T12:49:05.425Z"
   },
   {
    "duration": 4,
    "start_time": "2023-10-31T12:49:13.454Z"
   },
   {
    "duration": 32,
    "start_time": "2023-10-31T12:50:28.759Z"
   },
   {
    "duration": 10,
    "start_time": "2023-10-31T12:50:32.742Z"
   },
   {
    "duration": 228,
    "start_time": "2023-10-31T12:50:36.523Z"
   },
   {
    "duration": 223,
    "start_time": "2023-10-31T12:51:39.729Z"
   },
   {
    "duration": 213,
    "start_time": "2023-10-31T12:52:18.728Z"
   },
   {
    "duration": 226,
    "start_time": "2023-10-31T12:52:33.575Z"
   },
   {
    "duration": 95,
    "start_time": "2023-10-31T12:53:09.671Z"
   },
   {
    "duration": 213,
    "start_time": "2023-10-31T12:53:45.441Z"
   },
   {
    "duration": 228,
    "start_time": "2023-10-31T12:56:50.689Z"
   },
   {
    "duration": 96,
    "start_time": "2023-10-31T14:35:51.877Z"
   },
   {
    "duration": 7,
    "start_time": "2023-10-31T14:37:27.566Z"
   },
   {
    "duration": 25,
    "start_time": "2023-10-31T14:37:36.918Z"
   },
   {
    "duration": 15,
    "start_time": "2023-10-31T14:37:59.447Z"
   },
   {
    "duration": 11,
    "start_time": "2023-10-31T14:38:20.159Z"
   },
   {
    "duration": 7,
    "start_time": "2023-10-31T14:38:58.651Z"
   },
   {
    "duration": 11,
    "start_time": "2023-10-31T14:39:11.759Z"
   },
   {
    "duration": 17,
    "start_time": "2023-10-31T14:39:22.607Z"
   },
   {
    "duration": 16,
    "start_time": "2023-10-31T14:39:35.349Z"
   },
   {
    "duration": 24,
    "start_time": "2023-10-31T14:39:51.899Z"
   },
   {
    "duration": 18,
    "start_time": "2023-10-31T14:39:57.489Z"
   },
   {
    "duration": 27,
    "start_time": "2023-10-31T14:40:09.599Z"
   },
   {
    "duration": 8,
    "start_time": "2023-10-31T14:44:12.091Z"
   },
   {
    "duration": 1265,
    "start_time": "2023-10-31T14:44:22.027Z"
   },
   {
    "duration": 315,
    "start_time": "2023-10-31T14:47:32.003Z"
   },
   {
    "duration": 29,
    "start_time": "2023-10-31T14:47:54.155Z"
   },
   {
    "duration": 46,
    "start_time": "2023-10-31T14:48:15.314Z"
   },
   {
    "duration": 12,
    "start_time": "2023-10-31T14:48:40.179Z"
   },
   {
    "duration": 40,
    "start_time": "2023-10-31T14:49:35.317Z"
   },
   {
    "duration": 256,
    "start_time": "2023-10-31T14:49:41.987Z"
   },
   {
    "duration": 30,
    "start_time": "2023-10-31T14:50:18.364Z"
   },
   {
    "duration": 229,
    "start_time": "2023-10-31T14:50:20.755Z"
   },
   {
    "duration": 1481,
    "start_time": "2023-10-31T14:51:03.271Z"
   },
   {
    "duration": 17,
    "start_time": "2023-10-31T15:08:57.585Z"
   },
   {
    "duration": 17,
    "start_time": "2023-10-31T15:09:22.267Z"
   },
   {
    "duration": 16,
    "start_time": "2023-10-31T15:10:59.708Z"
   },
   {
    "duration": 18,
    "start_time": "2023-10-31T15:11:03.350Z"
   },
   {
    "duration": 8,
    "start_time": "2023-10-31T15:11:57.851Z"
   },
   {
    "duration": 5,
    "start_time": "2023-10-31T15:12:01.338Z"
   },
   {
    "duration": 4,
    "start_time": "2023-10-31T15:13:22.667Z"
   },
   {
    "duration": 9,
    "start_time": "2023-10-31T15:13:28.499Z"
   },
   {
    "duration": 4,
    "start_time": "2023-10-31T15:14:01.030Z"
   },
   {
    "duration": 6,
    "start_time": "2023-10-31T15:14:24.235Z"
   },
   {
    "duration": 13,
    "start_time": "2023-10-31T15:15:13.636Z"
   },
   {
    "duration": 387,
    "start_time": "2023-10-31T15:15:43.784Z"
   },
   {
    "duration": 13,
    "start_time": "2023-10-31T15:16:05.260Z"
   },
   {
    "duration": 96,
    "start_time": "2023-10-31T15:16:25.876Z"
   },
   {
    "duration": 303,
    "start_time": "2023-10-31T15:16:34.684Z"
   },
   {
    "duration": 254,
    "start_time": "2023-10-31T15:17:31.324Z"
   },
   {
    "duration": 2289,
    "start_time": "2023-10-31T15:17:50.660Z"
   },
   {
    "duration": 4,
    "start_time": "2023-10-31T15:17:52.952Z"
   },
   {
    "duration": 74,
    "start_time": "2023-10-31T15:17:52.957Z"
   },
   {
    "duration": 15,
    "start_time": "2023-10-31T15:17:53.033Z"
   },
   {
    "duration": 23,
    "start_time": "2023-10-31T15:17:53.050Z"
   },
   {
    "duration": 4,
    "start_time": "2023-10-31T15:17:53.075Z"
   },
   {
    "duration": 23,
    "start_time": "2023-10-31T15:17:53.080Z"
   },
   {
    "duration": 16,
    "start_time": "2023-10-31T15:17:53.105Z"
   },
   {
    "duration": 18,
    "start_time": "2023-10-31T15:17:53.123Z"
   },
   {
    "duration": 6,
    "start_time": "2023-10-31T15:17:53.143Z"
   },
   {
    "duration": 29,
    "start_time": "2023-10-31T15:17:53.150Z"
   },
   {
    "duration": 32,
    "start_time": "2023-10-31T15:17:53.180Z"
   },
   {
    "duration": 21,
    "start_time": "2023-10-31T15:17:53.214Z"
   },
   {
    "duration": 19,
    "start_time": "2023-10-31T15:17:53.238Z"
   },
   {
    "duration": 1128,
    "start_time": "2023-10-31T15:17:53.259Z"
   },
   {
    "duration": 646,
    "start_time": "2023-10-31T15:17:54.388Z"
   },
   {
    "duration": 13,
    "start_time": "2023-10-31T15:17:55.036Z"
   },
   {
    "duration": 67,
    "start_time": "2023-10-31T15:17:55.051Z"
   },
   {
    "duration": 43,
    "start_time": "2023-10-31T15:17:55.119Z"
   },
   {
    "duration": 2,
    "start_time": "2023-10-31T15:17:55.164Z"
   },
   {
    "duration": 297,
    "start_time": "2023-10-31T15:17:55.168Z"
   },
   {
    "duration": 245,
    "start_time": "2023-10-31T15:17:55.468Z"
   },
   {
    "duration": 205,
    "start_time": "2023-10-31T15:17:55.714Z"
   },
   {
    "duration": 16,
    "start_time": "2023-10-31T15:17:55.921Z"
   },
   {
    "duration": 31,
    "start_time": "2023-10-31T15:17:55.938Z"
   },
   {
    "duration": 270,
    "start_time": "2023-10-31T15:17:55.970Z"
   },
   {
    "duration": 13,
    "start_time": "2023-10-31T15:17:56.242Z"
   },
   {
    "duration": 233,
    "start_time": "2023-10-31T15:18:00.374Z"
   },
   {
    "duration": 13,
    "start_time": "2023-10-31T15:20:11.157Z"
   },
   {
    "duration": 224,
    "start_time": "2023-10-31T15:22:55.231Z"
   },
   {
    "duration": 225,
    "start_time": "2023-10-31T17:53:02.190Z"
   },
   {
    "duration": 126,
    "start_time": "2023-10-31T17:53:17.054Z"
   },
   {
    "duration": 123,
    "start_time": "2023-10-31T17:55:00.296Z"
   },
   {
    "duration": 14,
    "start_time": "2023-10-31T18:00:13.339Z"
   },
   {
    "duration": 17,
    "start_time": "2023-10-31T18:03:32.325Z"
   },
   {
    "duration": 17,
    "start_time": "2023-10-31T18:05:44.645Z"
   },
   {
    "duration": 12,
    "start_time": "2023-10-31T18:06:22.309Z"
   },
   {
    "duration": 11,
    "start_time": "2023-10-31T18:07:53.775Z"
   },
   {
    "duration": 22,
    "start_time": "2023-10-31T18:08:08.656Z"
   },
   {
    "duration": 191,
    "start_time": "2023-10-31T18:09:17.750Z"
   },
   {
    "duration": 693,
    "start_time": "2023-10-31T18:10:37.815Z"
   },
   {
    "duration": 690,
    "start_time": "2023-10-31T18:10:52.670Z"
   },
   {
    "duration": 142,
    "start_time": "2023-10-31T18:11:01.521Z"
   },
   {
    "duration": 198,
    "start_time": "2023-10-31T18:13:25.906Z"
   },
   {
    "duration": 157,
    "start_time": "2023-10-31T18:13:41.153Z"
   },
   {
    "duration": 167,
    "start_time": "2023-10-31T18:13:53.777Z"
   },
   {
    "duration": 148,
    "start_time": "2023-10-31T18:14:29.517Z"
   },
   {
    "duration": 175,
    "start_time": "2023-10-31T18:15:02.066Z"
   },
   {
    "duration": 187,
    "start_time": "2023-10-31T18:15:09.352Z"
   },
   {
    "duration": 305,
    "start_time": "2023-10-31T18:15:19.064Z"
   },
   {
    "duration": 200,
    "start_time": "2023-10-31T18:17:00.757Z"
   },
   {
    "duration": 167,
    "start_time": "2023-10-31T18:17:12.866Z"
   },
   {
    "duration": 182,
    "start_time": "2023-10-31T18:17:17.244Z"
   },
   {
    "duration": 163,
    "start_time": "2023-10-31T18:18:42.185Z"
   },
   {
    "duration": 163,
    "start_time": "2023-10-31T18:19:07.106Z"
   },
   {
    "duration": 182,
    "start_time": "2023-10-31T18:19:39.139Z"
   },
   {
    "duration": 170,
    "start_time": "2023-10-31T18:20:13.865Z"
   },
   {
    "duration": 180,
    "start_time": "2023-10-31T18:21:34.010Z"
   },
   {
    "duration": 231,
    "start_time": "2023-10-31T19:19:22.153Z"
   },
   {
    "duration": 29,
    "start_time": "2023-10-31T19:19:29.817Z"
   },
   {
    "duration": 213,
    "start_time": "2023-10-31T19:19:32.481Z"
   },
   {
    "duration": 407,
    "start_time": "2023-10-31T19:20:24.618Z"
   },
   {
    "duration": 1250,
    "start_time": "2023-10-31T19:20:49.521Z"
   },
   {
    "duration": 206,
    "start_time": "2023-10-31T19:20:54.842Z"
   },
   {
    "duration": 13,
    "start_time": "2023-10-31T19:20:58.216Z"
   },
   {
    "duration": 232,
    "start_time": "2023-10-31T19:20:59.498Z"
   },
   {
    "duration": 13,
    "start_time": "2023-10-31T19:25:02.139Z"
   },
   {
    "duration": 24,
    "start_time": "2023-10-31T19:27:10.802Z"
   },
   {
    "duration": 291,
    "start_time": "2023-10-31T19:28:02.843Z"
   },
   {
    "duration": 22,
    "start_time": "2023-10-31T19:28:12.565Z"
   },
   {
    "duration": 602,
    "start_time": "2023-10-31T19:29:24.219Z"
   },
   {
    "duration": 5,
    "start_time": "2023-10-31T19:30:28.731Z"
   },
   {
    "duration": 177,
    "start_time": "2023-10-31T19:30:37.422Z"
   },
   {
    "duration": 181,
    "start_time": "2023-10-31T19:34:55.207Z"
   },
   {
    "duration": 306,
    "start_time": "2023-10-31T19:35:09.431Z"
   },
   {
    "duration": 189,
    "start_time": "2023-10-31T19:35:15.791Z"
   },
   {
    "duration": 68,
    "start_time": "2023-10-31T19:36:24.598Z"
   },
   {
    "duration": 232,
    "start_time": "2023-10-31T19:36:29.383Z"
   },
   {
    "duration": 194,
    "start_time": "2023-10-31T19:37:46.279Z"
   },
   {
    "duration": 201,
    "start_time": "2023-10-31T19:38:01.519Z"
   },
   {
    "duration": 195,
    "start_time": "2023-10-31T19:39:16.546Z"
   },
   {
    "duration": 219,
    "start_time": "2023-10-31T19:39:24.360Z"
   },
   {
    "duration": 196,
    "start_time": "2023-10-31T19:39:32.959Z"
   },
   {
    "duration": 194,
    "start_time": "2023-10-31T19:39:45.258Z"
   },
   {
    "duration": 166,
    "start_time": "2023-10-31T19:47:29.508Z"
   },
   {
    "duration": 1170,
    "start_time": "2023-10-31T19:49:18.372Z"
   },
   {
    "duration": 149,
    "start_time": "2023-10-31T19:49:30.557Z"
   },
   {
    "duration": 143,
    "start_time": "2023-10-31T19:51:16.549Z"
   },
   {
    "duration": 304,
    "start_time": "2023-10-31T19:54:41.926Z"
   },
   {
    "duration": 160,
    "start_time": "2023-10-31T19:55:40.630Z"
   },
   {
    "duration": 167,
    "start_time": "2023-10-31T19:56:28.913Z"
   },
   {
    "duration": 162,
    "start_time": "2023-10-31T19:56:53.399Z"
   },
   {
    "duration": 165,
    "start_time": "2023-10-31T19:57:02.447Z"
   },
   {
    "duration": 152,
    "start_time": "2023-10-31T19:57:12.678Z"
   },
   {
    "duration": 150,
    "start_time": "2023-10-31T19:57:25.278Z"
   },
   {
    "duration": 166,
    "start_time": "2023-10-31T20:00:36.569Z"
   },
   {
    "duration": 17,
    "start_time": "2023-10-31T20:01:06.776Z"
   },
   {
    "duration": 739,
    "start_time": "2023-10-31T20:01:44.304Z"
   },
   {
    "duration": 671,
    "start_time": "2023-10-31T20:01:58.449Z"
   },
   {
    "duration": 704,
    "start_time": "2023-10-31T20:02:28.145Z"
   },
   {
    "duration": 307,
    "start_time": "2023-10-31T20:03:20.401Z"
   },
   {
    "duration": 320,
    "start_time": "2023-10-31T20:03:56.954Z"
   },
   {
    "duration": 332,
    "start_time": "2023-10-31T20:09:28.454Z"
   },
   {
    "duration": 319,
    "start_time": "2023-10-31T20:09:59.207Z"
   },
   {
    "duration": 337,
    "start_time": "2023-10-31T20:15:05.352Z"
   },
   {
    "duration": 334,
    "start_time": "2023-10-31T20:15:20.775Z"
   },
   {
    "duration": 538,
    "start_time": "2023-10-31T20:15:50.637Z"
   },
   {
    "duration": 560,
    "start_time": "2023-10-31T20:15:59.913Z"
   },
   {
    "duration": 506,
    "start_time": "2023-10-31T20:16:12.672Z"
   },
   {
    "duration": 350,
    "start_time": "2023-10-31T20:16:33.831Z"
   },
   {
    "duration": 669,
    "start_time": "2023-10-31T20:17:26.750Z"
   },
   {
    "duration": 360,
    "start_time": "2023-10-31T20:19:09.793Z"
   },
   {
    "duration": 679,
    "start_time": "2023-10-31T20:19:19.749Z"
   },
   {
    "duration": 712,
    "start_time": "2023-10-31T20:19:58.120Z"
   },
   {
    "duration": 5,
    "start_time": "2023-10-31T20:20:16.060Z"
   },
   {
    "duration": 677,
    "start_time": "2023-10-31T20:21:02.051Z"
   },
   {
    "duration": 931,
    "start_time": "2023-10-31T20:21:24.431Z"
   },
   {
    "duration": 784,
    "start_time": "2023-10-31T20:21:44.453Z"
   },
   {
    "duration": 644,
    "start_time": "2023-10-31T20:22:07.431Z"
   },
   {
    "duration": 657,
    "start_time": "2023-10-31T20:22:16.283Z"
   },
   {
    "duration": 306,
    "start_time": "2023-10-31T20:28:47.772Z"
   },
   {
    "duration": 283,
    "start_time": "2023-10-31T20:28:59.590Z"
   },
   {
    "duration": 266,
    "start_time": "2023-10-31T20:29:11.076Z"
   },
   {
    "duration": 76,
    "start_time": "2023-10-31T20:29:56.154Z"
   },
   {
    "duration": 185,
    "start_time": "2023-10-31T20:31:14.855Z"
   },
   {
    "duration": 53,
    "start_time": "2023-11-01T10:54:51.078Z"
   },
   {
    "duration": 3135,
    "start_time": "2023-11-01T10:55:08.010Z"
   },
   {
    "duration": 1376,
    "start_time": "2023-11-01T10:55:11.148Z"
   },
   {
    "duration": 102,
    "start_time": "2023-11-01T10:55:12.525Z"
   },
   {
    "duration": 18,
    "start_time": "2023-11-01T10:55:12.629Z"
   },
   {
    "duration": 16,
    "start_time": "2023-11-01T10:55:12.649Z"
   },
   {
    "duration": 11,
    "start_time": "2023-11-01T10:55:12.666Z"
   },
   {
    "duration": 33,
    "start_time": "2023-11-01T10:55:12.678Z"
   },
   {
    "duration": 19,
    "start_time": "2023-11-01T10:55:12.713Z"
   },
   {
    "duration": 19,
    "start_time": "2023-11-01T10:55:12.734Z"
   },
   {
    "duration": 5,
    "start_time": "2023-11-01T10:55:12.755Z"
   },
   {
    "duration": 9,
    "start_time": "2023-11-01T10:55:12.762Z"
   },
   {
    "duration": 33,
    "start_time": "2023-11-01T10:55:12.773Z"
   },
   {
    "duration": 24,
    "start_time": "2023-11-01T10:55:12.807Z"
   },
   {
    "duration": 13,
    "start_time": "2023-11-01T10:55:12.834Z"
   },
   {
    "duration": 1381,
    "start_time": "2023-11-01T10:55:12.849Z"
   },
   {
    "duration": 614,
    "start_time": "2023-11-01T10:55:14.231Z"
   },
   {
    "duration": 16,
    "start_time": "2023-11-01T10:55:14.847Z"
   },
   {
    "duration": 33,
    "start_time": "2023-11-01T10:55:14.865Z"
   },
   {
    "duration": 36,
    "start_time": "2023-11-01T10:55:14.903Z"
   },
   {
    "duration": 20,
    "start_time": "2023-11-01T10:55:14.942Z"
   },
   {
    "duration": 333,
    "start_time": "2023-11-01T10:55:14.964Z"
   },
   {
    "duration": 235,
    "start_time": "2023-11-01T10:55:15.299Z"
   },
   {
    "duration": 207,
    "start_time": "2023-11-01T10:55:15.536Z"
   },
   {
    "duration": 27,
    "start_time": "2023-11-01T10:55:15.745Z"
   },
   {
    "duration": 62,
    "start_time": "2023-11-01T10:55:15.774Z"
   },
   {
    "duration": 265,
    "start_time": "2023-11-01T10:55:15.839Z"
   },
   {
    "duration": 20,
    "start_time": "2023-11-01T10:55:16.106Z"
   },
   {
    "duration": 237,
    "start_time": "2023-11-01T10:55:16.128Z"
   },
   {
    "duration": 188,
    "start_time": "2023-11-01T10:55:16.367Z"
   },
   {
    "duration": 74,
    "start_time": "2023-11-01T10:55:16.557Z"
   },
   {
    "duration": 0,
    "start_time": "2023-11-01T10:55:16.633Z"
   },
   {
    "duration": 0,
    "start_time": "2023-11-01T10:55:16.634Z"
   },
   {
    "duration": 0,
    "start_time": "2023-11-01T10:55:16.635Z"
   },
   {
    "duration": 0,
    "start_time": "2023-11-01T10:55:16.637Z"
   },
   {
    "duration": 0,
    "start_time": "2023-11-01T10:55:16.638Z"
   },
   {
    "duration": 0,
    "start_time": "2023-11-01T10:55:16.639Z"
   },
   {
    "duration": 0,
    "start_time": "2023-11-01T10:55:16.640Z"
   },
   {
    "duration": 0,
    "start_time": "2023-11-01T10:55:16.642Z"
   },
   {
    "duration": 0,
    "start_time": "2023-11-01T10:55:16.643Z"
   },
   {
    "duration": 0,
    "start_time": "2023-11-01T10:55:16.644Z"
   },
   {
    "duration": 0,
    "start_time": "2023-11-01T10:55:16.645Z"
   },
   {
    "duration": 0,
    "start_time": "2023-11-01T10:55:16.646Z"
   },
   {
    "duration": 275,
    "start_time": "2023-11-01T10:57:32.030Z"
   },
   {
    "duration": 154,
    "start_time": "2023-11-01T10:57:35.273Z"
   },
   {
    "duration": 155,
    "start_time": "2023-11-01T10:57:37.511Z"
   },
   {
    "duration": 308,
    "start_time": "2023-11-01T10:57:39.262Z"
   },
   {
    "duration": 5,
    "start_time": "2023-11-01T10:57:41.710Z"
   },
   {
    "duration": 665,
    "start_time": "2023-11-01T10:57:42.381Z"
   },
   {
    "duration": 643,
    "start_time": "2023-11-01T10:57:43.061Z"
   },
   {
    "duration": 641,
    "start_time": "2023-11-01T10:57:43.990Z"
   },
   {
    "duration": 707,
    "start_time": "2023-11-01T10:57:45.021Z"
   },
   {
    "duration": 731,
    "start_time": "2023-11-01T10:57:45.822Z"
   },
   {
    "duration": 194,
    "start_time": "2023-11-01T10:57:48.225Z"
   },
   {
    "duration": 200,
    "start_time": "2023-11-01T11:01:47.245Z"
   },
   {
    "duration": 2,
    "start_time": "2023-11-01T11:48:59.100Z"
   },
   {
    "duration": 212,
    "start_time": "2023-11-01T11:51:01.183Z"
   },
   {
    "duration": 4,
    "start_time": "2023-11-01T12:32:04.183Z"
   },
   {
    "duration": 4,
    "start_time": "2023-11-01T12:32:14.601Z"
   },
   {
    "duration": 5,
    "start_time": "2023-11-01T12:32:24.491Z"
   },
   {
    "duration": 14,
    "start_time": "2023-11-01T12:37:49.119Z"
   },
   {
    "duration": 368,
    "start_time": "2023-11-01T12:39:44.216Z"
   },
   {
    "duration": 16,
    "start_time": "2023-11-01T12:46:20.107Z"
   },
   {
    "duration": 12,
    "start_time": "2023-11-01T12:46:28.947Z"
   },
   {
    "duration": 15,
    "start_time": "2023-11-01T12:46:47.996Z"
   },
   {
    "duration": 5,
    "start_time": "2023-11-01T12:47:03.741Z"
   },
   {
    "duration": 13,
    "start_time": "2023-11-01T12:49:44.973Z"
   },
   {
    "duration": 14,
    "start_time": "2023-11-01T12:50:30.855Z"
   },
   {
    "duration": 12,
    "start_time": "2023-11-01T14:05:03.622Z"
   },
   {
    "duration": 15,
    "start_time": "2023-11-01T14:05:13.715Z"
   },
   {
    "duration": 100,
    "start_time": "2023-11-01T14:06:26.765Z"
   },
   {
    "duration": 4245,
    "start_time": "2023-11-01T20:54:14.688Z"
   },
   {
    "duration": 1434,
    "start_time": "2023-11-01T20:54:18.935Z"
   },
   {
    "duration": 121,
    "start_time": "2023-11-01T20:54:20.371Z"
   },
   {
    "duration": 17,
    "start_time": "2023-11-01T20:54:20.494Z"
   },
   {
    "duration": 54,
    "start_time": "2023-11-01T20:54:20.513Z"
   },
   {
    "duration": 19,
    "start_time": "2023-11-01T20:54:20.569Z"
   },
   {
    "duration": 39,
    "start_time": "2023-11-01T20:54:20.589Z"
   },
   {
    "duration": 55,
    "start_time": "2023-11-01T20:54:20.629Z"
   },
   {
    "duration": 50,
    "start_time": "2023-11-01T20:54:20.685Z"
   },
   {
    "duration": 21,
    "start_time": "2023-11-01T20:54:20.737Z"
   },
   {
    "duration": 34,
    "start_time": "2023-11-01T20:54:20.760Z"
   },
   {
    "duration": 46,
    "start_time": "2023-11-01T20:54:20.796Z"
   },
   {
    "duration": 36,
    "start_time": "2023-11-01T20:54:20.844Z"
   },
   {
    "duration": 16,
    "start_time": "2023-11-01T20:54:20.884Z"
   },
   {
    "duration": 1702,
    "start_time": "2023-11-01T20:54:20.901Z"
   },
   {
    "duration": 1269,
    "start_time": "2023-11-01T20:54:22.605Z"
   },
   {
    "duration": 16,
    "start_time": "2023-11-01T20:54:23.876Z"
   },
   {
    "duration": 69,
    "start_time": "2023-11-01T20:54:23.894Z"
   },
   {
    "duration": 16,
    "start_time": "2023-11-01T20:54:23.964Z"
   },
   {
    "duration": 77,
    "start_time": "2023-11-01T20:54:23.982Z"
   },
   {
    "duration": 3,
    "start_time": "2023-11-01T20:54:24.062Z"
   },
   {
    "duration": 615,
    "start_time": "2023-11-01T20:54:24.067Z"
   },
   {
    "duration": 295,
    "start_time": "2023-11-01T20:54:24.684Z"
   },
   {
    "duration": 311,
    "start_time": "2023-11-01T20:54:24.981Z"
   },
   {
    "duration": 18,
    "start_time": "2023-11-01T20:54:25.294Z"
   },
   {
    "duration": 50,
    "start_time": "2023-11-01T20:54:25.314Z"
   },
   {
    "duration": 283,
    "start_time": "2023-11-01T20:54:25.365Z"
   },
   {
    "duration": 22,
    "start_time": "2023-11-01T20:54:25.651Z"
   },
   {
    "duration": 674,
    "start_time": "2023-11-01T20:54:25.676Z"
   },
   {
    "duration": 550,
    "start_time": "2023-11-01T20:54:26.353Z"
   },
   {
    "duration": 367,
    "start_time": "2023-11-01T20:54:26.905Z"
   },
   {
    "duration": 189,
    "start_time": "2023-11-01T20:54:27.274Z"
   },
   {
    "duration": 350,
    "start_time": "2023-11-01T20:54:27.466Z"
   },
   {
    "duration": 5,
    "start_time": "2023-11-01T20:54:27.818Z"
   },
   {
    "duration": 748,
    "start_time": "2023-11-01T20:54:27.825Z"
   },
   {
    "duration": 714,
    "start_time": "2023-11-01T20:54:28.575Z"
   },
   {
    "duration": 736,
    "start_time": "2023-11-01T20:54:29.291Z"
   },
   {
    "duration": 825,
    "start_time": "2023-11-01T20:54:30.029Z"
   },
   {
    "duration": 768,
    "start_time": "2023-11-01T20:54:30.856Z"
   },
   {
    "duration": 293,
    "start_time": "2023-11-01T20:54:31.626Z"
   },
   {
    "duration": 0,
    "start_time": "2023-11-01T20:54:31.921Z"
   },
   {
    "duration": 0,
    "start_time": "2023-11-01T20:54:31.922Z"
   },
   {
    "duration": 2516,
    "start_time": "2023-11-01T20:56:05.023Z"
   },
   {
    "duration": 11,
    "start_time": "2023-11-01T20:56:07.541Z"
   },
   {
    "duration": 73,
    "start_time": "2023-11-01T20:56:09.512Z"
   },
   {
    "duration": 14,
    "start_time": "2023-11-01T20:56:10.601Z"
   },
   {
    "duration": 27,
    "start_time": "2023-11-01T20:56:11.539Z"
   },
   {
    "duration": 5,
    "start_time": "2023-11-01T20:56:14.640Z"
   },
   {
    "duration": 6,
    "start_time": "2023-11-01T20:56:16.095Z"
   },
   {
    "duration": 20,
    "start_time": "2023-11-01T20:56:17.599Z"
   },
   {
    "duration": 17,
    "start_time": "2023-11-01T20:56:19.399Z"
   },
   {
    "duration": 5,
    "start_time": "2023-11-01T20:56:21.012Z"
   },
   {
    "duration": 8,
    "start_time": "2023-11-01T20:56:22.512Z"
   },
   {
    "duration": 19,
    "start_time": "2023-11-01T20:56:24.094Z"
   },
   {
    "duration": 10,
    "start_time": "2023-11-01T20:56:26.319Z"
   },
   {
    "duration": 8,
    "start_time": "2023-11-01T20:56:27.063Z"
   },
   {
    "duration": 1096,
    "start_time": "2023-11-01T20:56:27.839Z"
   },
   {
    "duration": 642,
    "start_time": "2023-11-01T20:56:28.937Z"
   },
   {
    "duration": 10,
    "start_time": "2023-11-01T20:56:29.722Z"
   },
   {
    "duration": 8,
    "start_time": "2023-11-01T20:56:31.503Z"
   },
   {
    "duration": 15,
    "start_time": "2023-11-01T20:56:32.985Z"
   },
   {
    "duration": 14,
    "start_time": "2023-11-01T20:56:35.400Z"
   },
   {
    "duration": 4,
    "start_time": "2023-11-01T20:56:37.727Z"
   },
   {
    "duration": 262,
    "start_time": "2023-11-01T20:56:38.402Z"
   },
   {
    "duration": 240,
    "start_time": "2023-11-01T20:56:40.630Z"
   },
   {
    "duration": 209,
    "start_time": "2023-11-01T20:56:43.058Z"
   },
   {
    "duration": 17,
    "start_time": "2023-11-01T20:56:46.575Z"
   },
   {
    "duration": 27,
    "start_time": "2023-11-01T20:56:47.413Z"
   },
   {
    "duration": 252,
    "start_time": "2023-11-01T20:56:48.337Z"
   },
   {
    "duration": 18,
    "start_time": "2023-11-01T20:56:51.715Z"
   },
   {
    "duration": 263,
    "start_time": "2023-11-01T20:56:52.549Z"
   },
   {
    "duration": 329,
    "start_time": "2023-11-01T20:56:55.410Z"
   },
   {
    "duration": 178,
    "start_time": "2023-11-01T20:56:58.135Z"
   },
   {
    "duration": 171,
    "start_time": "2023-11-01T20:56:59.828Z"
   },
   {
    "duration": 363,
    "start_time": "2023-11-01T20:57:01.719Z"
   },
   {
    "duration": 5,
    "start_time": "2023-11-01T20:57:04.115Z"
   },
   {
    "duration": 697,
    "start_time": "2023-11-01T20:57:04.872Z"
   },
   {
    "duration": 661,
    "start_time": "2023-11-01T20:57:06.559Z"
   },
   {
    "duration": 763,
    "start_time": "2023-11-01T20:57:08.728Z"
   },
   {
    "duration": 773,
    "start_time": "2023-11-01T20:57:10.128Z"
   },
   {
    "duration": 762,
    "start_time": "2023-11-01T20:57:11.815Z"
   },
   {
    "duration": 159,
    "start_time": "2023-11-01T20:57:17.463Z"
   },
   {
    "duration": 149,
    "start_time": "2023-11-01T20:58:39.982Z"
   },
   {
    "duration": 211,
    "start_time": "2023-11-01T20:59:03.976Z"
   },
   {
    "duration": 28,
    "start_time": "2023-11-01T21:04:43.799Z"
   },
   {
    "duration": 375,
    "start_time": "2023-11-01T21:05:35.107Z"
   },
   {
    "duration": 10,
    "start_time": "2023-11-01T21:07:03.414Z"
   },
   {
    "duration": 9,
    "start_time": "2023-11-01T21:07:10.833Z"
   },
   {
    "duration": 1534,
    "start_time": "2023-11-01T21:07:22.478Z"
   },
   {
    "duration": 9,
    "start_time": "2023-11-01T21:07:39.137Z"
   },
   {
    "duration": 9,
    "start_time": "2023-11-01T21:08:28.283Z"
   },
   {
    "duration": 4,
    "start_time": "2023-11-01T21:08:33.291Z"
   },
   {
    "duration": 13,
    "start_time": "2023-11-01T21:08:38.832Z"
   },
   {
    "duration": 19,
    "start_time": "2023-11-01T21:09:19.938Z"
   },
   {
    "duration": 112,
    "start_time": "2023-11-01T21:13:25.801Z"
   },
   {
    "duration": 93,
    "start_time": "2023-11-01T21:14:49.075Z"
   },
   {
    "duration": 94,
    "start_time": "2023-11-01T21:14:56.203Z"
   },
   {
    "duration": 122,
    "start_time": "2023-11-01T21:15:13.035Z"
   },
   {
    "duration": 21,
    "start_time": "2023-11-01T21:15:23.236Z"
   },
   {
    "duration": 146,
    "start_time": "2023-11-01T21:15:34.914Z"
   },
   {
    "duration": 23,
    "start_time": "2023-11-01T21:15:41.843Z"
   },
   {
    "duration": 19,
    "start_time": "2023-11-01T21:15:52.653Z"
   },
   {
    "duration": 19,
    "start_time": "2023-11-01T21:22:20.710Z"
   },
   {
    "duration": 16,
    "start_time": "2023-11-01T21:23:35.958Z"
   },
   {
    "duration": 372,
    "start_time": "2023-11-01T21:24:57.511Z"
   },
   {
    "duration": 436,
    "start_time": "2023-11-01T21:25:16.390Z"
   },
   {
    "duration": 1655,
    "start_time": "2023-11-01T21:25:31.535Z"
   },
   {
    "duration": 1705,
    "start_time": "2023-11-01T21:25:59.892Z"
   },
   {
    "duration": 383,
    "start_time": "2023-11-01T21:26:31.238Z"
   },
   {
    "duration": 202,
    "start_time": "2023-11-01T21:27:20.263Z"
   },
   {
    "duration": 7,
    "start_time": "2023-11-01T21:28:26.663Z"
   },
   {
    "duration": 334,
    "start_time": "2023-11-01T21:30:36.755Z"
   },
   {
    "duration": 460,
    "start_time": "2023-11-01T21:31:13.580Z"
   },
   {
    "duration": 342,
    "start_time": "2023-11-01T21:31:46.195Z"
   },
   {
    "duration": 373,
    "start_time": "2023-11-01T21:32:08.451Z"
   },
   {
    "duration": 367,
    "start_time": "2023-11-01T21:32:13.428Z"
   },
   {
    "duration": 362,
    "start_time": "2023-11-01T21:32:32.411Z"
   },
   {
    "duration": 9,
    "start_time": "2023-11-01T21:42:09.481Z"
   },
   {
    "duration": 6,
    "start_time": "2023-11-01T21:42:14.963Z"
   },
   {
    "duration": 354,
    "start_time": "2023-11-01T21:42:15.905Z"
   },
   {
    "duration": 883,
    "start_time": "2023-11-01T21:42:44.020Z"
   },
   {
    "duration": 5,
    "start_time": "2023-11-01T21:43:33.988Z"
   },
   {
    "duration": 6,
    "start_time": "2023-11-01T21:43:47.396Z"
   },
   {
    "duration": 706,
    "start_time": "2023-11-01T21:43:48.271Z"
   },
   {
    "duration": 86,
    "start_time": "2023-11-01T21:46:51.774Z"
   },
   {
    "duration": 9,
    "start_time": "2023-11-01T21:49:29.423Z"
   },
   {
    "duration": 23,
    "start_time": "2023-11-01T21:49:34.084Z"
   },
   {
    "duration": 650,
    "start_time": "2023-11-01T21:54:18.058Z"
   },
   {
    "duration": 746,
    "start_time": "2023-11-01T21:54:32.098Z"
   },
   {
    "duration": 86,
    "start_time": "2023-11-01T21:55:50.762Z"
   },
   {
    "duration": 114,
    "start_time": "2023-11-01T21:56:07.356Z"
   },
   {
    "duration": 1375,
    "start_time": "2023-11-01T21:56:23.625Z"
   },
   {
    "duration": 3,
    "start_time": "2023-11-01T21:56:46.858Z"
   },
   {
    "duration": 168,
    "start_time": "2023-11-01T21:57:00.443Z"
   },
   {
    "duration": 157,
    "start_time": "2023-11-01T22:06:47.954Z"
   },
   {
    "duration": 5,
    "start_time": "2023-11-01T22:07:34.043Z"
   },
   {
    "duration": 147,
    "start_time": "2023-11-01T22:07:50.886Z"
   },
   {
    "duration": 968,
    "start_time": "2023-11-01T22:08:25.788Z"
   },
   {
    "duration": 151,
    "start_time": "2023-11-01T22:11:46.974Z"
   },
   {
    "duration": 146,
    "start_time": "2023-11-01T22:12:14.015Z"
   },
   {
    "duration": 151,
    "start_time": "2023-11-01T22:45:18.986Z"
   },
   {
    "duration": 1556,
    "start_time": "2023-11-01T22:46:58.946Z"
   },
   {
    "duration": 3,
    "start_time": "2023-11-01T22:47:21.410Z"
   },
   {
    "duration": 149,
    "start_time": "2023-11-01T22:47:22.586Z"
   },
   {
    "duration": 4,
    "start_time": "2023-11-01T22:48:18.370Z"
   },
   {
    "duration": 173,
    "start_time": "2023-11-01T22:48:18.950Z"
   },
   {
    "duration": 4,
    "start_time": "2023-11-01T22:48:31.506Z"
   },
   {
    "duration": 165,
    "start_time": "2023-11-01T22:48:32.137Z"
   },
   {
    "duration": 3,
    "start_time": "2023-11-01T22:49:32.826Z"
   },
   {
    "duration": 232,
    "start_time": "2023-11-01T22:49:33.417Z"
   },
   {
    "duration": 154,
    "start_time": "2023-11-01T22:50:08.466Z"
   },
   {
    "duration": 150,
    "start_time": "2023-11-01T22:50:51.978Z"
   },
   {
    "duration": 157,
    "start_time": "2023-11-01T22:51:24.875Z"
   },
   {
    "duration": 694,
    "start_time": "2023-11-01T22:52:18.978Z"
   },
   {
    "duration": 669,
    "start_time": "2023-11-01T22:52:50.277Z"
   },
   {
    "duration": 1380,
    "start_time": "2023-11-01T22:53:08.722Z"
   },
   {
    "duration": 644,
    "start_time": "2023-11-01T22:53:42.907Z"
   },
   {
    "duration": 645,
    "start_time": "2023-11-01T22:54:04.523Z"
   },
   {
    "duration": 624,
    "start_time": "2023-11-01T22:54:22.586Z"
   },
   {
    "duration": 661,
    "start_time": "2023-11-01T22:54:47.302Z"
   },
   {
    "duration": 153,
    "start_time": "2023-11-01T22:55:21.923Z"
   },
   {
    "duration": 161,
    "start_time": "2023-11-01T22:55:35.962Z"
   },
   {
    "duration": 234,
    "start_time": "2023-11-01T22:56:15.199Z"
   },
   {
    "duration": 86,
    "start_time": "2023-11-01T22:59:29.574Z"
   },
   {
    "duration": 3,
    "start_time": "2023-11-01T23:03:42.973Z"
   },
   {
    "duration": 2,
    "start_time": "2023-11-01T23:08:16.359Z"
   },
   {
    "duration": 23,
    "start_time": "2023-11-01T23:53:06.422Z"
   },
   {
    "duration": 5,
    "start_time": "2023-11-01T23:53:44.298Z"
   },
   {
    "duration": 77,
    "start_time": "2023-11-01T23:56:20.846Z"
   },
   {
    "duration": 10,
    "start_time": "2023-11-01T23:56:32.398Z"
   },
   {
    "duration": 16,
    "start_time": "2023-11-01T23:56:37.406Z"
   },
   {
    "duration": 8,
    "start_time": "2023-11-01T23:58:26.175Z"
   },
   {
    "duration": 5,
    "start_time": "2023-11-01T23:58:42.486Z"
   },
   {
    "duration": 23,
    "start_time": "2023-11-01T23:59:33.895Z"
   },
   {
    "duration": 6,
    "start_time": "2023-11-02T00:01:09.008Z"
   },
   {
    "duration": 112,
    "start_time": "2023-11-02T00:02:44.115Z"
   },
   {
    "duration": 1417,
    "start_time": "2023-11-02T00:02:55.473Z"
   },
   {
    "duration": 5,
    "start_time": "2023-11-02T00:04:08.731Z"
   },
   {
    "duration": 28,
    "start_time": "2023-11-02T00:04:52.882Z"
   },
   {
    "duration": 3,
    "start_time": "2023-11-02T00:05:26.721Z"
   },
   {
    "duration": 7,
    "start_time": "2023-11-02T00:05:34.666Z"
   },
   {
    "duration": 12,
    "start_time": "2023-11-02T00:05:51.675Z"
   },
   {
    "duration": 6,
    "start_time": "2023-11-02T00:05:57.162Z"
   },
   {
    "duration": 8,
    "start_time": "2023-11-02T00:06:18.268Z"
   },
   {
    "duration": 13,
    "start_time": "2023-11-02T00:06:29.066Z"
   },
   {
    "duration": 13,
    "start_time": "2023-11-02T00:07:12.027Z"
   },
   {
    "duration": 9,
    "start_time": "2023-11-02T00:32:19.199Z"
   },
   {
    "duration": 11,
    "start_time": "2023-11-02T00:33:02.607Z"
   },
   {
    "duration": 11,
    "start_time": "2023-11-02T00:36:11.170Z"
   },
   {
    "duration": 10,
    "start_time": "2023-11-02T00:39:57.591Z"
   },
   {
    "duration": 11,
    "start_time": "2023-11-02T00:44:06.545Z"
   },
   {
    "duration": 76,
    "start_time": "2023-11-02T00:44:33.523Z"
   },
   {
    "duration": 88,
    "start_time": "2023-11-02T00:45:18.786Z"
   },
   {
    "duration": 1423,
    "start_time": "2023-11-02T00:56:55.119Z"
   },
   {
    "duration": 7,
    "start_time": "2023-11-02T00:57:03.670Z"
   },
   {
    "duration": 7,
    "start_time": "2023-11-02T00:58:26.851Z"
   },
   {
    "duration": 3357,
    "start_time": "2023-11-02T07:25:50.217Z"
   },
   {
    "duration": 1418,
    "start_time": "2023-11-02T07:25:53.577Z"
   },
   {
    "duration": 99,
    "start_time": "2023-11-02T07:25:54.997Z"
   },
   {
    "duration": 19,
    "start_time": "2023-11-02T07:25:55.098Z"
   },
   {
    "duration": 15,
    "start_time": "2023-11-02T07:25:55.119Z"
   },
   {
    "duration": 4,
    "start_time": "2023-11-02T07:25:55.136Z"
   },
   {
    "duration": 4,
    "start_time": "2023-11-02T07:25:55.147Z"
   },
   {
    "duration": 16,
    "start_time": "2023-11-02T07:25:55.153Z"
   },
   {
    "duration": 18,
    "start_time": "2023-11-02T07:25:55.171Z"
   },
   {
    "duration": 4,
    "start_time": "2023-11-02T07:25:55.192Z"
   },
   {
    "duration": 12,
    "start_time": "2023-11-02T07:25:55.198Z"
   },
   {
    "duration": 51,
    "start_time": "2023-11-02T07:25:55.212Z"
   },
   {
    "duration": 8,
    "start_time": "2023-11-02T07:25:55.265Z"
   },
   {
    "duration": 6,
    "start_time": "2023-11-02T07:25:55.275Z"
   },
   {
    "duration": 1299,
    "start_time": "2023-11-02T07:25:55.283Z"
   },
   {
    "duration": 710,
    "start_time": "2023-11-02T07:25:56.584Z"
   },
   {
    "duration": 10,
    "start_time": "2023-11-02T07:25:57.296Z"
   },
   {
    "duration": 7,
    "start_time": "2023-11-02T07:25:57.308Z"
   },
   {
    "duration": 35,
    "start_time": "2023-11-02T07:25:57.317Z"
   },
   {
    "duration": 14,
    "start_time": "2023-11-02T07:25:57.354Z"
   },
   {
    "duration": 13,
    "start_time": "2023-11-02T07:25:57.370Z"
   },
   {
    "duration": 293,
    "start_time": "2023-11-02T07:25:57.384Z"
   },
   {
    "duration": 246,
    "start_time": "2023-11-02T07:25:57.679Z"
   },
   {
    "duration": 231,
    "start_time": "2023-11-02T07:25:57.927Z"
   },
   {
    "duration": 18,
    "start_time": "2023-11-02T07:25:58.159Z"
   },
   {
    "duration": 28,
    "start_time": "2023-11-02T07:25:58.179Z"
   },
   {
    "duration": 259,
    "start_time": "2023-11-02T07:25:58.209Z"
   },
   {
    "duration": 12,
    "start_time": "2023-11-02T07:25:58.472Z"
   },
   {
    "duration": 254,
    "start_time": "2023-11-02T07:25:58.486Z"
   },
   {
    "duration": 215,
    "start_time": "2023-11-02T07:25:58.741Z"
   },
   {
    "duration": 261,
    "start_time": "2023-11-02T07:25:58.958Z"
   },
   {
    "duration": 182,
    "start_time": "2023-11-02T07:25:59.221Z"
   },
   {
    "duration": 357,
    "start_time": "2023-11-02T07:25:59.405Z"
   },
   {
    "duration": 5,
    "start_time": "2023-11-02T07:25:59.763Z"
   },
   {
    "duration": 719,
    "start_time": "2023-11-02T07:25:59.770Z"
   },
   {
    "duration": 683,
    "start_time": "2023-11-02T07:26:00.491Z"
   },
   {
    "duration": 735,
    "start_time": "2023-11-02T07:26:01.176Z"
   },
   {
    "duration": 754,
    "start_time": "2023-11-02T07:26:01.914Z"
   },
   {
    "duration": 798,
    "start_time": "2023-11-02T07:26:02.669Z"
   },
   {
    "duration": 224,
    "start_time": "2023-11-02T07:26:03.469Z"
   },
   {
    "duration": 5,
    "start_time": "2023-11-02T07:26:03.695Z"
   },
   {
    "duration": 845,
    "start_time": "2023-11-02T07:26:03.702Z"
   },
   {
    "duration": 4,
    "start_time": "2023-11-02T07:26:04.550Z"
   },
   {
    "duration": 192,
    "start_time": "2023-11-02T07:26:04.556Z"
   },
   {
    "duration": 185,
    "start_time": "2023-11-02T07:26:04.750Z"
   },
   {
    "duration": 182,
    "start_time": "2023-11-02T07:26:04.937Z"
   },
   {
    "duration": 11,
    "start_time": "2023-11-02T07:26:05.121Z"
   },
   {
    "duration": 21,
    "start_time": "2023-11-02T07:26:05.134Z"
   },
   {
    "duration": 2508,
    "start_time": "2023-11-02T07:39:01.910Z"
   },
   {
    "duration": 1331,
    "start_time": "2023-11-02T07:39:04.421Z"
   },
   {
    "duration": 58,
    "start_time": "2023-11-02T07:39:05.754Z"
   },
   {
    "duration": 20,
    "start_time": "2023-11-02T07:39:05.814Z"
   },
   {
    "duration": 16,
    "start_time": "2023-11-02T07:39:05.836Z"
   },
   {
    "duration": 21,
    "start_time": "2023-11-02T07:39:05.854Z"
   },
   {
    "duration": 19,
    "start_time": "2023-11-02T07:39:05.876Z"
   },
   {
    "duration": 26,
    "start_time": "2023-11-02T07:39:05.897Z"
   },
   {
    "duration": 23,
    "start_time": "2023-11-02T07:39:05.925Z"
   },
   {
    "duration": 6,
    "start_time": "2023-11-02T07:39:05.951Z"
   },
   {
    "duration": 20,
    "start_time": "2023-11-02T07:39:05.959Z"
   },
   {
    "duration": 21,
    "start_time": "2023-11-02T07:39:05.980Z"
   },
   {
    "duration": 11,
    "start_time": "2023-11-02T07:39:06.003Z"
   },
   {
    "duration": 32,
    "start_time": "2023-11-02T07:39:06.015Z"
   },
   {
    "duration": 1243,
    "start_time": "2023-11-02T07:39:06.050Z"
   },
   {
    "duration": 702,
    "start_time": "2023-11-02T07:39:07.295Z"
   },
   {
    "duration": 10,
    "start_time": "2023-11-02T07:39:07.999Z"
   },
   {
    "duration": 11,
    "start_time": "2023-11-02T07:39:08.011Z"
   },
   {
    "duration": 32,
    "start_time": "2023-11-02T07:39:08.024Z"
   },
   {
    "duration": 24,
    "start_time": "2023-11-02T07:39:08.058Z"
   },
   {
    "duration": 23,
    "start_time": "2023-11-02T07:39:08.085Z"
   },
   {
    "duration": 294,
    "start_time": "2023-11-02T07:39:08.110Z"
   },
   {
    "duration": 244,
    "start_time": "2023-11-02T07:39:08.406Z"
   },
   {
    "duration": 224,
    "start_time": "2023-11-02T07:39:08.652Z"
   },
   {
    "duration": 17,
    "start_time": "2023-11-02T07:39:08.878Z"
   },
   {
    "duration": 51,
    "start_time": "2023-11-02T07:39:08.897Z"
   },
   {
    "duration": 264,
    "start_time": "2023-11-02T07:39:08.950Z"
   },
   {
    "duration": 13,
    "start_time": "2023-11-02T07:39:09.218Z"
   },
   {
    "duration": 270,
    "start_time": "2023-11-02T07:39:09.233Z"
   },
   {
    "duration": 222,
    "start_time": "2023-11-02T07:39:09.505Z"
   },
   {
    "duration": 281,
    "start_time": "2023-11-02T07:39:09.730Z"
   },
   {
    "duration": 181,
    "start_time": "2023-11-02T07:39:10.013Z"
   },
   {
    "duration": 365,
    "start_time": "2023-11-02T07:39:10.197Z"
   },
   {
    "duration": 5,
    "start_time": "2023-11-02T07:39:10.565Z"
   },
   {
    "duration": 740,
    "start_time": "2023-11-02T07:39:10.572Z"
   },
   {
    "duration": 693,
    "start_time": "2023-11-02T07:39:11.314Z"
   },
   {
    "duration": 757,
    "start_time": "2023-11-02T07:39:12.009Z"
   },
   {
    "duration": 719,
    "start_time": "2023-11-02T07:39:12.768Z"
   },
   {
    "duration": 803,
    "start_time": "2023-11-02T07:39:13.488Z"
   },
   {
    "duration": 219,
    "start_time": "2023-11-02T07:39:14.292Z"
   },
   {
    "duration": 6,
    "start_time": "2023-11-02T07:39:14.513Z"
   },
   {
    "duration": 837,
    "start_time": "2023-11-02T07:39:14.520Z"
   },
   {
    "duration": 4,
    "start_time": "2023-11-02T07:39:15.360Z"
   },
   {
    "duration": 200,
    "start_time": "2023-11-02T07:39:15.365Z"
   },
   {
    "duration": 256,
    "start_time": "2023-11-02T07:39:15.566Z"
   },
   {
    "duration": 188,
    "start_time": "2023-11-02T07:39:15.825Z"
   },
   {
    "duration": 14,
    "start_time": "2023-11-02T07:39:16.015Z"
   },
   {
    "duration": 18,
    "start_time": "2023-11-02T07:39:16.046Z"
   },
   {
    "duration": 2908,
    "start_time": "2023-11-02T11:05:17.579Z"
   },
   {
    "duration": 1231,
    "start_time": "2023-11-02T11:05:20.489Z"
   },
   {
    "duration": 93,
    "start_time": "2023-11-02T11:05:21.722Z"
   },
   {
    "duration": 16,
    "start_time": "2023-11-02T11:05:21.817Z"
   },
   {
    "duration": 13,
    "start_time": "2023-11-02T11:05:21.834Z"
   },
   {
    "duration": 4,
    "start_time": "2023-11-02T11:05:21.848Z"
   },
   {
    "duration": 40,
    "start_time": "2023-11-02T11:05:21.853Z"
   },
   {
    "duration": 18,
    "start_time": "2023-11-02T11:05:21.895Z"
   },
   {
    "duration": 18,
    "start_time": "2023-11-02T11:05:21.914Z"
   },
   {
    "duration": 4,
    "start_time": "2023-11-02T11:05:21.934Z"
   },
   {
    "duration": 9,
    "start_time": "2023-11-02T11:05:21.940Z"
   },
   {
    "duration": 17,
    "start_time": "2023-11-02T11:05:21.950Z"
   },
   {
    "duration": 8,
    "start_time": "2023-11-02T11:05:21.968Z"
   },
   {
    "duration": 3,
    "start_time": "2023-11-02T11:05:21.977Z"
   },
   {
    "duration": 1083,
    "start_time": "2023-11-02T11:05:21.982Z"
   },
   {
    "duration": 504,
    "start_time": "2023-11-02T11:05:23.067Z"
   },
   {
    "duration": 8,
    "start_time": "2023-11-02T11:05:23.572Z"
   },
   {
    "duration": 8,
    "start_time": "2023-11-02T11:05:23.582Z"
   },
   {
    "duration": 11,
    "start_time": "2023-11-02T11:05:23.592Z"
   },
   {
    "duration": 36,
    "start_time": "2023-11-02T11:05:23.604Z"
   },
   {
    "duration": 2,
    "start_time": "2023-11-02T11:05:23.642Z"
   },
   {
    "duration": 250,
    "start_time": "2023-11-02T11:05:23.646Z"
   },
   {
    "duration": 196,
    "start_time": "2023-11-02T11:05:23.897Z"
   },
   {
    "duration": 170,
    "start_time": "2023-11-02T11:05:24.094Z"
   },
   {
    "duration": 15,
    "start_time": "2023-11-02T11:05:24.266Z"
   },
   {
    "duration": 27,
    "start_time": "2023-11-02T11:05:24.283Z"
   },
   {
    "duration": 215,
    "start_time": "2023-11-02T11:05:24.311Z"
   },
   {
    "duration": 12,
    "start_time": "2023-11-02T11:05:24.529Z"
   },
   {
    "duration": 212,
    "start_time": "2023-11-02T11:05:24.543Z"
   },
   {
    "duration": 226,
    "start_time": "2023-11-02T11:05:24.756Z"
   },
   {
    "duration": 151,
    "start_time": "2023-11-02T11:05:24.984Z"
   },
   {
    "duration": 144,
    "start_time": "2023-11-02T11:05:25.136Z"
   },
   {
    "duration": 270,
    "start_time": "2023-11-02T11:05:25.281Z"
   },
   {
    "duration": 4,
    "start_time": "2023-11-02T11:05:25.553Z"
   },
   {
    "duration": 604,
    "start_time": "2023-11-02T11:05:25.558Z"
   },
   {
    "duration": 561,
    "start_time": "2023-11-02T11:05:26.164Z"
   },
   {
    "duration": 597,
    "start_time": "2023-11-02T11:05:26.727Z"
   },
   {
    "duration": 666,
    "start_time": "2023-11-02T11:05:27.326Z"
   },
   {
    "duration": 626,
    "start_time": "2023-11-02T11:05:27.994Z"
   },
   {
    "duration": 175,
    "start_time": "2023-11-02T11:05:28.621Z"
   },
   {
    "duration": 6,
    "start_time": "2023-11-02T11:05:28.798Z"
   },
   {
    "duration": 646,
    "start_time": "2023-11-02T11:05:28.805Z"
   },
   {
    "duration": 4,
    "start_time": "2023-11-02T11:05:29.453Z"
   },
   {
    "duration": 160,
    "start_time": "2023-11-02T11:05:29.458Z"
   },
   {
    "duration": 148,
    "start_time": "2023-11-02T11:05:29.619Z"
   },
   {
    "duration": 147,
    "start_time": "2023-11-02T11:05:29.769Z"
   },
   {
    "duration": 11,
    "start_time": "2023-11-02T11:05:29.917Z"
   },
   {
    "duration": 83,
    "start_time": "2023-11-02T11:05:29.929Z"
   },
   {
    "duration": 91,
    "start_time": "2023-11-02T11:06:31.805Z"
   },
   {
    "duration": 4,
    "start_time": "2023-11-02T11:06:55.732Z"
   },
   {
    "duration": 140,
    "start_time": "2023-11-02T11:08:14.700Z"
   },
   {
    "duration": 1919,
    "start_time": "2023-11-02T11:11:52.516Z"
   },
   {
    "duration": 9,
    "start_time": "2023-11-02T11:12:08.684Z"
   },
   {
    "duration": 11,
    "start_time": "2023-11-02T11:12:49.492Z"
   },
   {
    "duration": 16,
    "start_time": "2023-11-02T11:13:47.908Z"
   },
   {
    "duration": 97,
    "start_time": "2023-11-02T11:15:54.146Z"
   },
   {
    "duration": 11,
    "start_time": "2023-11-02T11:31:49.855Z"
   },
   {
    "duration": 11,
    "start_time": "2023-11-02T11:32:00.462Z"
   },
   {
    "duration": 11,
    "start_time": "2023-11-02T11:33:22.624Z"
   },
   {
    "duration": 15,
    "start_time": "2023-11-02T11:33:41.784Z"
   },
   {
    "duration": 17,
    "start_time": "2023-11-02T11:38:31.119Z"
   },
   {
    "duration": 14,
    "start_time": "2023-11-02T11:40:12.633Z"
   },
   {
    "duration": 26,
    "start_time": "2023-11-02T11:40:13.584Z"
   },
   {
    "duration": 23,
    "start_time": "2023-11-02T11:40:14.575Z"
   },
   {
    "duration": 23,
    "start_time": "2023-11-02T11:40:17.150Z"
   },
   {
    "duration": 32,
    "start_time": "2023-11-02T11:40:32.271Z"
   },
   {
    "duration": 23,
    "start_time": "2023-11-02T11:40:39.528Z"
   },
   {
    "duration": 24,
    "start_time": "2023-11-02T11:40:58.551Z"
   },
   {
    "duration": 86,
    "start_time": "2023-11-02T11:48:32.731Z"
   },
   {
    "duration": 11,
    "start_time": "2023-11-02T11:49:07.020Z"
   },
   {
    "duration": 24,
    "start_time": "2023-11-02T11:51:12.525Z"
   },
   {
    "duration": 141,
    "start_time": "2023-11-02T11:53:09.277Z"
   },
   {
    "duration": 56,
    "start_time": "2023-11-02T12:33:42.760Z"
   },
   {
    "duration": 12,
    "start_time": "2023-11-02T12:34:21.211Z"
   },
   {
    "duration": 1582,
    "start_time": "2023-11-02T12:34:33.634Z"
   },
   {
    "duration": 66,
    "start_time": "2023-11-02T12:35:41.798Z"
   },
   {
    "duration": 466,
    "start_time": "2023-11-02T12:35:46.698Z"
   },
   {
    "duration": 25,
    "start_time": "2023-11-02T12:54:39.822Z"
   },
   {
    "duration": 10,
    "start_time": "2023-11-02T12:57:52.680Z"
   },
   {
    "duration": 18,
    "start_time": "2023-11-02T12:58:11.489Z"
   },
   {
    "duration": 15,
    "start_time": "2023-11-02T12:58:23.351Z"
   },
   {
    "duration": 255,
    "start_time": "2023-11-02T12:58:50.881Z"
   },
   {
    "duration": 109,
    "start_time": "2023-11-02T13:06:20.897Z"
   },
   {
    "duration": 179,
    "start_time": "2023-11-02T13:10:20.237Z"
   },
   {
    "duration": 130,
    "start_time": "2023-11-02T13:22:49.977Z"
   },
   {
    "duration": 183,
    "start_time": "2023-11-02T13:23:00.833Z"
   },
   {
    "duration": 368,
    "start_time": "2023-11-02T13:30:20.153Z"
   },
   {
    "duration": 101,
    "start_time": "2023-11-02T13:30:57.854Z"
   },
   {
    "duration": 18,
    "start_time": "2023-11-02T13:31:11.315Z"
   },
   {
    "duration": 141,
    "start_time": "2023-11-02T13:31:28.002Z"
   },
   {
    "duration": 19,
    "start_time": "2023-11-02T13:33:16.958Z"
   },
   {
    "duration": 12,
    "start_time": "2023-11-02T13:34:32.716Z"
   },
   {
    "duration": 27,
    "start_time": "2023-11-02T13:34:49.631Z"
   },
   {
    "duration": 22,
    "start_time": "2023-11-02T13:35:02.654Z"
   },
   {
    "duration": 156,
    "start_time": "2023-11-02T13:35:25.882Z"
   },
   {
    "duration": 24,
    "start_time": "2023-11-02T13:36:29.940Z"
   },
   {
    "duration": 192,
    "start_time": "2023-11-02T13:36:51.905Z"
   },
   {
    "duration": 148,
    "start_time": "2023-11-02T13:38:13.069Z"
   },
   {
    "duration": 193,
    "start_time": "2023-11-02T13:38:19.581Z"
   },
   {
    "duration": 204,
    "start_time": "2023-11-02T13:45:05.048Z"
   },
   {
    "duration": 200,
    "start_time": "2023-11-02T13:46:08.166Z"
   },
   {
    "duration": 196,
    "start_time": "2023-11-02T13:51:21.435Z"
   },
   {
    "duration": 80,
    "start_time": "2023-11-02T13:56:44.590Z"
   },
   {
    "duration": 217,
    "start_time": "2023-11-02T13:57:41.846Z"
   },
   {
    "duration": 321,
    "start_time": "2023-11-02T14:00:54.990Z"
   },
   {
    "duration": 1849,
    "start_time": "2023-11-02T14:04:05.461Z"
   },
   {
    "duration": 45,
    "start_time": "2023-11-02T14:04:48.515Z"
   },
   {
    "duration": 21,
    "start_time": "2023-11-02T14:05:05.285Z"
   },
   {
    "duration": 145,
    "start_time": "2023-11-02T14:05:34.281Z"
   },
   {
    "duration": 189,
    "start_time": "2023-11-02T14:06:07.536Z"
   },
   {
    "duration": 246,
    "start_time": "2023-11-02T14:06:31.672Z"
   },
   {
    "duration": 22,
    "start_time": "2023-11-02T14:09:57.035Z"
   },
   {
    "duration": 535,
    "start_time": "2023-11-02T14:10:27.682Z"
   },
   {
    "duration": 603,
    "start_time": "2023-11-02T14:10:49.013Z"
   },
   {
    "duration": 169,
    "start_time": "2023-11-02T14:12:23.061Z"
   },
   {
    "duration": 175,
    "start_time": "2023-11-02T14:12:30.762Z"
   },
   {
    "duration": 289,
    "start_time": "2023-11-02T14:12:39.634Z"
   },
   {
    "duration": 658,
    "start_time": "2023-11-02T14:49:51.026Z"
   },
   {
    "duration": 656,
    "start_time": "2023-11-02T14:50:18.720Z"
   },
   {
    "duration": 831,
    "start_time": "2023-11-02T14:51:28.298Z"
   },
   {
    "duration": 610,
    "start_time": "2023-11-02T14:52:24.683Z"
   },
   {
    "duration": 640,
    "start_time": "2023-11-02T14:53:23.490Z"
   },
   {
    "duration": 163,
    "start_time": "2023-11-02T16:57:50.876Z"
   },
   {
    "duration": 170,
    "start_time": "2023-11-02T16:58:12.589Z"
   },
   {
    "duration": 166,
    "start_time": "2023-11-02T16:58:20.812Z"
   },
   {
    "duration": 302,
    "start_time": "2023-11-02T16:58:34.229Z"
   },
   {
    "duration": 175,
    "start_time": "2023-11-02T16:59:27.953Z"
   },
   {
    "duration": 166,
    "start_time": "2023-11-02T16:59:32.180Z"
   },
   {
    "duration": 247,
    "start_time": "2023-11-02T16:59:35.084Z"
   },
   {
    "duration": 5,
    "start_time": "2023-11-02T17:00:40.374Z"
   },
   {
    "duration": 634,
    "start_time": "2023-11-02T17:00:42.589Z"
   },
   {
    "duration": 6,
    "start_time": "2023-11-02T17:02:04.850Z"
   },
   {
    "duration": 634,
    "start_time": "2023-11-02T17:02:08.175Z"
   },
   {
    "duration": 6,
    "start_time": "2023-11-02T17:02:17.816Z"
   },
   {
    "duration": 636,
    "start_time": "2023-11-02T17:02:19.885Z"
   },
   {
    "duration": 614,
    "start_time": "2023-11-02T17:02:48.398Z"
   },
   {
    "duration": 656,
    "start_time": "2023-11-02T17:02:58.271Z"
   },
   {
    "duration": 595,
    "start_time": "2023-11-02T17:03:12.736Z"
   },
   {
    "duration": 565,
    "start_time": "2023-11-02T17:03:21.662Z"
   },
   {
    "duration": 587,
    "start_time": "2023-11-02T17:03:28.745Z"
   },
   {
    "duration": 432,
    "start_time": "2023-11-02T17:04:08.953Z"
   },
   {
    "duration": 310,
    "start_time": "2023-11-02T17:04:13.703Z"
   },
   {
    "duration": 105,
    "start_time": "2023-11-02T17:05:03.656Z"
   },
   {
    "duration": 6,
    "start_time": "2023-11-02T17:08:11.806Z"
   },
   {
    "duration": 307,
    "start_time": "2023-11-02T17:08:12.599Z"
   },
   {
    "duration": 5,
    "start_time": "2023-11-02T17:08:22.321Z"
   },
   {
    "duration": 258,
    "start_time": "2023-11-02T17:08:24.256Z"
   },
   {
    "duration": 107,
    "start_time": "2023-11-02T17:09:01.592Z"
   },
   {
    "duration": 264,
    "start_time": "2023-11-02T17:09:09.760Z"
   },
   {
    "duration": 5,
    "start_time": "2023-11-02T17:09:23.064Z"
   },
   {
    "duration": 249,
    "start_time": "2023-11-02T17:09:24.772Z"
   },
   {
    "duration": 5,
    "start_time": "2023-11-02T17:09:31.816Z"
   },
   {
    "duration": 277,
    "start_time": "2023-11-02T17:09:33.146Z"
   },
   {
    "duration": 5,
    "start_time": "2023-11-02T17:10:23.905Z"
   },
   {
    "duration": 299,
    "start_time": "2023-11-02T17:10:24.715Z"
   },
   {
    "duration": 5,
    "start_time": "2023-11-02T17:10:30.992Z"
   },
   {
    "duration": 280,
    "start_time": "2023-11-02T17:10:31.694Z"
   },
   {
    "duration": 4,
    "start_time": "2023-11-02T17:11:03.209Z"
   },
   {
    "duration": 535,
    "start_time": "2023-11-02T17:11:03.752Z"
   },
   {
    "duration": 5,
    "start_time": "2023-11-02T17:11:15.901Z"
   },
   {
    "duration": 494,
    "start_time": "2023-11-02T17:11:17.104Z"
   },
   {
    "duration": 556,
    "start_time": "2023-11-02T17:12:22.252Z"
   },
   {
    "duration": 7,
    "start_time": "2023-11-02T17:13:01.602Z"
   },
   {
    "duration": 477,
    "start_time": "2023-11-02T17:13:04.033Z"
   },
   {
    "duration": 1320,
    "start_time": "2023-11-02T17:18:27.252Z"
   },
   {
    "duration": 178,
    "start_time": "2023-11-02T17:18:57.504Z"
   },
   {
    "duration": 184,
    "start_time": "2023-11-02T17:20:39.133Z"
   },
   {
    "duration": 191,
    "start_time": "2023-11-02T17:21:31.463Z"
   },
   {
    "duration": 175,
    "start_time": "2023-11-02T17:21:53.880Z"
   },
   {
    "duration": 173,
    "start_time": "2023-11-02T17:22:29.242Z"
   },
   {
    "duration": 416,
    "start_time": "2023-11-02T17:22:45.584Z"
   },
   {
    "duration": 20,
    "start_time": "2023-11-02T17:33:47.557Z"
   },
   {
    "duration": 5,
    "start_time": "2023-11-02T17:35:51.901Z"
   },
   {
    "duration": 606,
    "start_time": "2023-11-02T17:35:55.061Z"
   },
   {
    "duration": 5,
    "start_time": "2023-11-02T18:15:40.170Z"
   },
   {
    "duration": 21,
    "start_time": "2023-11-02T18:15:41.253Z"
   },
   {
    "duration": 651,
    "start_time": "2023-11-02T18:15:43.955Z"
   },
   {
    "duration": 6,
    "start_time": "2023-11-02T18:21:32.647Z"
   },
   {
    "duration": 22,
    "start_time": "2023-11-02T18:21:33.845Z"
   },
   {
    "duration": 658,
    "start_time": "2023-11-02T18:21:37.076Z"
   },
   {
    "duration": 4,
    "start_time": "2023-11-02T18:42:35.997Z"
   },
   {
    "duration": 175,
    "start_time": "2023-11-02T18:42:37.488Z"
   },
   {
    "duration": 170,
    "start_time": "2023-11-02T18:42:41.808Z"
   },
   {
    "duration": 157,
    "start_time": "2023-11-02T18:42:43.200Z"
   },
   {
    "duration": 11,
    "start_time": "2023-11-02T18:44:04.207Z"
   },
   {
    "duration": 12,
    "start_time": "2023-11-02T18:45:12.672Z"
   },
   {
    "duration": 14,
    "start_time": "2023-11-02T18:49:09.954Z"
   },
   {
    "duration": 5,
    "start_time": "2023-11-02T18:49:35.764Z"
   },
   {
    "duration": 14,
    "start_time": "2023-11-02T18:49:50.436Z"
   },
   {
    "duration": 11,
    "start_time": "2023-11-02T18:50:46.499Z"
   },
   {
    "duration": 6,
    "start_time": "2023-11-02T18:51:09.691Z"
   },
   {
    "duration": 6,
    "start_time": "2023-11-02T18:51:22.363Z"
   },
   {
    "duration": 5,
    "start_time": "2023-11-02T18:52:27.153Z"
   },
   {
    "duration": 5,
    "start_time": "2023-11-02T18:52:41.895Z"
   },
   {
    "duration": 2070,
    "start_time": "2023-11-02T18:52:55.065Z"
   },
   {
    "duration": 14,
    "start_time": "2023-11-02T18:52:57.138Z"
   },
   {
    "duration": 91,
    "start_time": "2023-11-02T18:52:57.154Z"
   },
   {
    "duration": 14,
    "start_time": "2023-11-02T18:52:57.247Z"
   },
   {
    "duration": 14,
    "start_time": "2023-11-02T18:52:57.264Z"
   },
   {
    "duration": 15,
    "start_time": "2023-11-02T18:52:57.280Z"
   },
   {
    "duration": 6,
    "start_time": "2023-11-02T18:52:57.297Z"
   },
   {
    "duration": 12,
    "start_time": "2023-11-02T18:52:57.305Z"
   },
   {
    "duration": 34,
    "start_time": "2023-11-02T18:52:57.319Z"
   },
   {
    "duration": 5,
    "start_time": "2023-11-02T18:52:57.355Z"
   },
   {
    "duration": 8,
    "start_time": "2023-11-02T18:52:57.362Z"
   },
   {
    "duration": 19,
    "start_time": "2023-11-02T18:52:57.372Z"
   },
   {
    "duration": 8,
    "start_time": "2023-11-02T18:52:57.393Z"
   },
   {
    "duration": 3,
    "start_time": "2023-11-02T18:52:57.403Z"
   },
   {
    "duration": 1075,
    "start_time": "2023-11-02T18:52:57.407Z"
   },
   {
    "duration": 588,
    "start_time": "2023-11-02T18:52:58.484Z"
   },
   {
    "duration": 9,
    "start_time": "2023-11-02T18:52:59.073Z"
   },
   {
    "duration": 22,
    "start_time": "2023-11-02T18:52:59.083Z"
   },
   {
    "duration": 21,
    "start_time": "2023-11-02T18:52:59.107Z"
   },
   {
    "duration": 24,
    "start_time": "2023-11-02T18:52:59.129Z"
   },
   {
    "duration": 10,
    "start_time": "2023-11-02T18:52:59.154Z"
   },
   {
    "duration": 16,
    "start_time": "2023-11-02T18:52:59.166Z"
   },
   {
    "duration": 14,
    "start_time": "2023-11-02T18:52:59.184Z"
   },
   {
    "duration": 14,
    "start_time": "2023-11-02T18:52:59.200Z"
   },
   {
    "duration": 37,
    "start_time": "2023-11-02T18:52:59.216Z"
   },
   {
    "duration": 15,
    "start_time": "2023-11-02T18:52:59.255Z"
   },
   {
    "duration": 215,
    "start_time": "2023-11-02T18:52:59.271Z"
   },
   {
    "duration": 175,
    "start_time": "2023-11-02T18:52:59.488Z"
   },
   {
    "duration": 15,
    "start_time": "2023-11-02T18:52:59.664Z"
   },
   {
    "duration": 24,
    "start_time": "2023-11-02T18:52:59.680Z"
   },
   {
    "duration": 217,
    "start_time": "2023-11-02T18:52:59.705Z"
   },
   {
    "duration": 5,
    "start_time": "2023-11-02T18:53:17.854Z"
   },
   {
    "duration": 5,
    "start_time": "2023-11-02T18:53:42.228Z"
   },
   {
    "duration": 4,
    "start_time": "2023-11-02T18:55:29.704Z"
   },
   {
    "duration": 92,
    "start_time": "2023-11-02T18:57:55.923Z"
   },
   {
    "duration": 62,
    "start_time": "2023-11-02T18:58:52.459Z"
   },
   {
    "duration": 256,
    "start_time": "2023-11-02T18:58:55.015Z"
   },
   {
    "duration": 447,
    "start_time": "2023-11-02T18:59:06.208Z"
   },
   {
    "duration": 166,
    "start_time": "2023-11-02T18:59:24.111Z"
   },
   {
    "duration": 179,
    "start_time": "2023-11-02T18:59:26.583Z"
   },
   {
    "duration": 273,
    "start_time": "2023-11-02T18:59:29.694Z"
   },
   {
    "duration": 8,
    "start_time": "2023-11-02T18:59:33.407Z"
   },
   {
    "duration": 625,
    "start_time": "2023-11-02T18:59:35.928Z"
   },
   {
    "duration": 650,
    "start_time": "2023-11-02T18:59:50.053Z"
   },
   {
    "duration": 623,
    "start_time": "2023-11-02T18:59:56.371Z"
   },
   {
    "duration": 681,
    "start_time": "2023-11-02T19:00:01.974Z"
   },
   {
    "duration": 660,
    "start_time": "2023-11-02T19:00:04.288Z"
   },
   {
    "duration": 88,
    "start_time": "2023-11-02T19:00:12.632Z"
   },
   {
    "duration": 196,
    "start_time": "2023-11-02T19:00:20.304Z"
   },
   {
    "duration": 6,
    "start_time": "2023-11-02T19:00:31.802Z"
   },
   {
    "duration": 699,
    "start_time": "2023-11-02T19:00:35.208Z"
   },
   {
    "duration": 3,
    "start_time": "2023-11-02T19:00:44.480Z"
   },
   {
    "duration": 153,
    "start_time": "2023-11-02T19:00:47.216Z"
   },
   {
    "duration": 149,
    "start_time": "2023-11-02T19:00:48.970Z"
   },
   {
    "duration": 164,
    "start_time": "2023-11-02T19:01:11.036Z"
   },
   {
    "duration": 70,
    "start_time": "2023-11-02T19:02:09.235Z"
   },
   {
    "duration": 11,
    "start_time": "2023-11-02T19:03:28.905Z"
   },
   {
    "duration": 16,
    "start_time": "2023-11-02T19:04:19.890Z"
   },
   {
    "duration": 96,
    "start_time": "2023-11-02T19:04:44.281Z"
   },
   {
    "duration": 11,
    "start_time": "2023-11-02T19:05:11.880Z"
   },
   {
    "duration": 77,
    "start_time": "2023-11-02T19:06:46.189Z"
   },
   {
    "duration": 3343,
    "start_time": "2023-11-03T12:39:22.003Z"
   },
   {
    "duration": 1165,
    "start_time": "2023-11-03T12:39:25.348Z"
   },
   {
    "duration": 186,
    "start_time": "2023-11-03T12:39:26.515Z"
   },
   {
    "duration": 19,
    "start_time": "2023-11-03T12:39:26.703Z"
   },
   {
    "duration": 22,
    "start_time": "2023-11-03T12:39:26.723Z"
   },
   {
    "duration": 45,
    "start_time": "2023-11-03T12:39:26.747Z"
   },
   {
    "duration": 79,
    "start_time": "2023-11-03T12:39:26.794Z"
   },
   {
    "duration": 35,
    "start_time": "2023-11-03T12:39:26.874Z"
   },
   {
    "duration": 37,
    "start_time": "2023-11-03T12:39:26.910Z"
   },
   {
    "duration": 6,
    "start_time": "2023-11-03T12:39:26.950Z"
   },
   {
    "duration": 14,
    "start_time": "2023-11-03T12:39:26.957Z"
   },
   {
    "duration": 36,
    "start_time": "2023-11-03T12:39:26.973Z"
   },
   {
    "duration": 10,
    "start_time": "2023-11-03T12:39:27.010Z"
   },
   {
    "duration": 25,
    "start_time": "2023-11-03T12:39:27.022Z"
   },
   {
    "duration": 971,
    "start_time": "2023-11-03T12:39:27.048Z"
   },
   {
    "duration": 584,
    "start_time": "2023-11-03T12:39:28.020Z"
   },
   {
    "duration": 10,
    "start_time": "2023-11-03T12:39:28.605Z"
   },
   {
    "duration": 14,
    "start_time": "2023-11-03T12:39:28.617Z"
   },
   {
    "duration": 33,
    "start_time": "2023-11-03T12:39:28.633Z"
   },
   {
    "duration": 34,
    "start_time": "2023-11-03T12:39:28.668Z"
   },
   {
    "duration": 11,
    "start_time": "2023-11-03T12:39:28.703Z"
   },
   {
    "duration": 36,
    "start_time": "2023-11-03T12:39:28.716Z"
   },
   {
    "duration": 21,
    "start_time": "2023-11-03T12:39:28.754Z"
   },
   {
    "duration": 21,
    "start_time": "2023-11-03T12:39:28.777Z"
   },
   {
    "duration": 9,
    "start_time": "2023-11-03T12:39:28.799Z"
   },
   {
    "duration": 17,
    "start_time": "2023-11-03T12:39:28.810Z"
   },
   {
    "duration": 230,
    "start_time": "2023-11-03T12:39:28.829Z"
   },
   {
    "duration": 196,
    "start_time": "2023-11-03T12:39:29.062Z"
   },
   {
    "duration": 17,
    "start_time": "2023-11-03T12:39:29.260Z"
   },
   {
    "duration": 28,
    "start_time": "2023-11-03T12:39:29.278Z"
   },
   {
    "duration": 231,
    "start_time": "2023-11-03T12:39:29.307Z"
   },
   {
    "duration": 8,
    "start_time": "2023-11-03T12:39:29.539Z"
   },
   {
    "duration": 62,
    "start_time": "2023-11-03T12:39:29.548Z"
   },
   {
    "duration": 285,
    "start_time": "2023-11-03T12:39:29.611Z"
   },
   {
    "duration": 203,
    "start_time": "2023-11-03T12:39:29.898Z"
   },
   {
    "duration": 265,
    "start_time": "2023-11-03T12:39:30.103Z"
   },
   {
    "duration": 185,
    "start_time": "2023-11-03T12:39:30.370Z"
   },
   {
    "duration": 293,
    "start_time": "2023-11-03T12:39:30.557Z"
   },
   {
    "duration": 6,
    "start_time": "2023-11-03T12:39:30.851Z"
   },
   {
    "duration": 701,
    "start_time": "2023-11-03T12:39:30.858Z"
   },
   {
    "duration": 686,
    "start_time": "2023-11-03T12:39:31.561Z"
   },
   {
    "duration": 625,
    "start_time": "2023-11-03T12:39:32.248Z"
   },
   {
    "duration": 642,
    "start_time": "2023-11-03T12:39:32.875Z"
   },
   {
    "duration": 734,
    "start_time": "2023-11-03T12:39:33.519Z"
   },
   {
    "duration": 189,
    "start_time": "2023-11-03T12:39:34.254Z"
   },
   {
    "duration": 6,
    "start_time": "2023-11-03T12:39:34.445Z"
   },
   {
    "duration": 721,
    "start_time": "2023-11-03T12:39:34.452Z"
   },
   {
    "duration": 4,
    "start_time": "2023-11-03T12:39:35.175Z"
   },
   {
    "duration": 174,
    "start_time": "2023-11-03T12:39:35.181Z"
   },
   {
    "duration": 163,
    "start_time": "2023-11-03T12:39:35.356Z"
   },
   {
    "duration": 163,
    "start_time": "2023-11-03T12:39:35.521Z"
   },
   {
    "duration": 13,
    "start_time": "2023-11-03T12:39:35.686Z"
   },
   {
    "duration": 51,
    "start_time": "2023-11-03T12:39:35.701Z"
   }
  ],
  "kernelspec": {
   "display_name": "Python 3",
   "language": "python",
   "name": "python3"
  },
  "language_info": {
   "codemirror_mode": {
    "name": "ipython",
    "version": 3
   },
   "file_extension": ".py",
   "mimetype": "text/x-python",
   "name": "python",
   "nbconvert_exporter": "python",
   "pygments_lexer": "ipython3",
   "version": "3.7.4"
  },
  "toc": {
   "base_numbering": 1,
   "nav_menu": {},
   "number_sections": true,
   "sideBar": true,
   "skip_h1_title": true,
   "title_cell": "Table of Contents",
   "title_sidebar": "Contents",
   "toc_cell": false,
   "toc_position": {},
   "toc_section_display": true,
   "toc_window_display": false
  }
 },
 "nbformat": 4,
 "nbformat_minor": 2
}
